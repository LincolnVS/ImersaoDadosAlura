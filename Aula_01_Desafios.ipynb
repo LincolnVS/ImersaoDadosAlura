{
  "nbformat": 4,
  "nbformat_minor": 0,
  "metadata": {
    "colab": {
      "name": "Aula 01 Desafios.ipynb",
      "provenance": [],
      "collapsed_sections": [
        "Tx35TmvXASDM"
      ],
      "toc_visible": true
    },
    "kernelspec": {
      "name": "python3",
      "display_name": "Python 3"
    },
    "language_info": {
      "name": "python"
    }
  },
  "cells": [
    {
      "cell_type": "markdown",
      "metadata": {
        "id": "EwJUALlIsl1h"
      },
      "source": [
        "O notebook da Aula 1 foi separado em duas etapas:\n",
        "- [Explicações e Aula Alura]()\n",
        "- [Desafios e Playground]()"
      ]
    },
    {
      "cell_type": "markdown",
      "metadata": {
        "id": "MxI7CTsOtZMD"
      },
      "source": [
        "# Playground (testes e afins)"
      ]
    },
    {
      "cell_type": "markdown",
      "metadata": {
        "id": "sHzw1Vbg0mvQ"
      },
      "source": [
        "### Importando dados"
      ]
    },
    {
      "cell_type": "code",
      "metadata": {
        "id": "OE3iBkaw0gsT"
      },
      "source": [
        "import pandas as pd\n",
        "pd.set_option('display.max_columns', 15) #mostra apenas 15 colunas quando manda plotar tudo (esse dataset tem mais de 800)\n",
        "import matplotlib.pyplot as plt\n",
        "\n",
        "url_dados = 'https://github.com/LincolnVS/ImersaoDadosAlura/blob/main/dados/dados_experimentos.zip?raw=true'\n",
        "\n",
        "dados = pd.read_csv(url_dados, compression = 'zip')"
      ],
      "execution_count": null,
      "outputs": []
    },
    {
      "cell_type": "markdown",
      "metadata": {
        "id": "KBHWMWBU0d4G"
      },
      "source": [
        "### Entender os dados"
      ]
    },
    {
      "cell_type": "code",
      "metadata": {
        "colab": {
          "base_uri": "https://localhost:8080/",
          "height": 233
        },
        "id": "YXb2S_gXtcSQ",
        "outputId": "f77b9d20-be85-451a-837c-caf1c4eed195"
      },
      "source": [
        "dados.head(5)"
      ],
      "execution_count": null,
      "outputs": [
        {
          "output_type": "execute_result",
          "data": {
            "text/html": [
              "<div>\n",
              "<style scoped>\n",
              "    .dataframe tbody tr th:only-of-type {\n",
              "        vertical-align: middle;\n",
              "    }\n",
              "\n",
              "    .dataframe tbody tr th {\n",
              "        vertical-align: top;\n",
              "    }\n",
              "\n",
              "    .dataframe thead th {\n",
              "        text-align: right;\n",
              "    }\n",
              "</style>\n",
              "<table border=\"1\" class=\"dataframe\">\n",
              "  <thead>\n",
              "    <tr style=\"text-align: right;\">\n",
              "      <th></th>\n",
              "      <th>id</th>\n",
              "      <th>tratamento</th>\n",
              "      <th>tempo</th>\n",
              "      <th>dose</th>\n",
              "      <th>droga</th>\n",
              "      <th>g-0</th>\n",
              "      <th>g-1</th>\n",
              "      <th>...</th>\n",
              "      <th>c-93</th>\n",
              "      <th>c-94</th>\n",
              "      <th>c-95</th>\n",
              "      <th>c-96</th>\n",
              "      <th>c-97</th>\n",
              "      <th>c-98</th>\n",
              "      <th>c-99</th>\n",
              "    </tr>\n",
              "  </thead>\n",
              "  <tbody>\n",
              "    <tr>\n",
              "      <th>0</th>\n",
              "      <td>id_000644bb2</td>\n",
              "      <td>com_droga</td>\n",
              "      <td>24</td>\n",
              "      <td>D1</td>\n",
              "      <td>b68db1d53</td>\n",
              "      <td>1.0620</td>\n",
              "      <td>0.5577</td>\n",
              "      <td>...</td>\n",
              "      <td>0.5523</td>\n",
              "      <td>-0.1912</td>\n",
              "      <td>0.6584</td>\n",
              "      <td>-0.3981</td>\n",
              "      <td>0.2139</td>\n",
              "      <td>0.3801</td>\n",
              "      <td>0.4176</td>\n",
              "    </tr>\n",
              "    <tr>\n",
              "      <th>1</th>\n",
              "      <td>id_000779bfc</td>\n",
              "      <td>com_droga</td>\n",
              "      <td>72</td>\n",
              "      <td>D1</td>\n",
              "      <td>df89a8e5a</td>\n",
              "      <td>0.0743</td>\n",
              "      <td>0.4087</td>\n",
              "      <td>...</td>\n",
              "      <td>0.0230</td>\n",
              "      <td>0.2957</td>\n",
              "      <td>0.4899</td>\n",
              "      <td>0.1522</td>\n",
              "      <td>0.1241</td>\n",
              "      <td>0.6077</td>\n",
              "      <td>0.7371</td>\n",
              "    </tr>\n",
              "    <tr>\n",
              "      <th>2</th>\n",
              "      <td>id_000a6266a</td>\n",
              "      <td>com_droga</td>\n",
              "      <td>48</td>\n",
              "      <td>D1</td>\n",
              "      <td>18bb41b2c</td>\n",
              "      <td>0.6280</td>\n",
              "      <td>0.5817</td>\n",
              "      <td>...</td>\n",
              "      <td>0.0223</td>\n",
              "      <td>-1.3240</td>\n",
              "      <td>-0.3174</td>\n",
              "      <td>-0.6417</td>\n",
              "      <td>-0.2187</td>\n",
              "      <td>-1.4080</td>\n",
              "      <td>0.6931</td>\n",
              "    </tr>\n",
              "    <tr>\n",
              "      <th>3</th>\n",
              "      <td>id_0015fd391</td>\n",
              "      <td>com_droga</td>\n",
              "      <td>48</td>\n",
              "      <td>D1</td>\n",
              "      <td>8c7f86626</td>\n",
              "      <td>-0.5138</td>\n",
              "      <td>-0.2491</td>\n",
              "      <td>...</td>\n",
              "      <td>-1.3780</td>\n",
              "      <td>-0.8632</td>\n",
              "      <td>-1.2880</td>\n",
              "      <td>-1.6210</td>\n",
              "      <td>-0.8784</td>\n",
              "      <td>-0.3876</td>\n",
              "      <td>-0.8154</td>\n",
              "    </tr>\n",
              "    <tr>\n",
              "      <th>4</th>\n",
              "      <td>id_001626bd3</td>\n",
              "      <td>com_droga</td>\n",
              "      <td>72</td>\n",
              "      <td>D2</td>\n",
              "      <td>7cbed3131</td>\n",
              "      <td>-0.3254</td>\n",
              "      <td>-0.4009</td>\n",
              "      <td>...</td>\n",
              "      <td>1.0690</td>\n",
              "      <td>0.5523</td>\n",
              "      <td>-0.3031</td>\n",
              "      <td>0.1094</td>\n",
              "      <td>0.2885</td>\n",
              "      <td>-0.3786</td>\n",
              "      <td>0.7125</td>\n",
              "    </tr>\n",
              "  </tbody>\n",
              "</table>\n",
              "<p>5 rows × 877 columns</p>\n",
              "</div>"
            ],
            "text/plain": [
              "             id tratamento  tempo dose      droga     g-0     g-1  ...  \\\n",
              "0  id_000644bb2  com_droga     24   D1  b68db1d53  1.0620  0.5577  ...   \n",
              "1  id_000779bfc  com_droga     72   D1  df89a8e5a  0.0743  0.4087  ...   \n",
              "2  id_000a6266a  com_droga     48   D1  18bb41b2c  0.6280  0.5817  ...   \n",
              "3  id_0015fd391  com_droga     48   D1  8c7f86626 -0.5138 -0.2491  ...   \n",
              "4  id_001626bd3  com_droga     72   D2  7cbed3131 -0.3254 -0.4009  ...   \n",
              "\n",
              "     c-93    c-94    c-95    c-96    c-97    c-98    c-99  \n",
              "0  0.5523 -0.1912  0.6584 -0.3981  0.2139  0.3801  0.4176  \n",
              "1  0.0230  0.2957  0.4899  0.1522  0.1241  0.6077  0.7371  \n",
              "2  0.0223 -1.3240 -0.3174 -0.6417 -0.2187 -1.4080  0.6931  \n",
              "3 -1.3780 -0.8632 -1.2880 -1.6210 -0.8784 -0.3876 -0.8154  \n",
              "4  1.0690  0.5523 -0.3031  0.1094  0.2885 -0.3786  0.7125  \n",
              "\n",
              "[5 rows x 877 columns]"
            ]
          },
          "metadata": {
            "tags": []
          },
          "execution_count": 25
        }
      ]
    },
    {
      "cell_type": "markdown",
      "metadata": {
        "id": "9eCg7RrExyWT"
      },
      "source": [
        "Entendendo os dados\n",
        "\n",
        "- id = identificador único para cada experimento {0 até 23813}\n",
        "\n",
        "- tempo = tempo de espera para análise {24, 48, 72}\n",
        "\n",
        "- tratamento = categorias {com_droga, com_controle}\n",
        "\n",
        "- dose = Diferentes Dosagens {D1, D2}\n",
        "\n",
        "- drogas = tipos de substâncias testadas {Drogas com nomes anonimos para não ter viés}\n",
        "\n",
        "- g_x = dados de expressão genética, dados normalizados {provavelmente de -2 a 2}"
      ]
    },
    {
      "cell_type": "code",
      "metadata": {
        "colab": {
          "base_uri": "https://localhost:8080/"
        },
        "id": "dXcrah1e0vg0",
        "outputId": "d13aee42-4338-4467-a2e9-566a7c979fc1"
      },
      "source": [
        "dict_tempos = dados['tempo'].value_counts().to_dict()\n",
        "\n",
        "for key in dict_tempos:\n",
        "  print(f\"Temos {dict_tempos[key]} amostras com {key} horas\")"
      ],
      "execution_count": null,
      "outputs": [
        {
          "output_type": "stream",
          "text": [
            "Temos 8250 amostras com 48 horas\n",
            "Temos 7792 amostras com 72 horas\n",
            "Temos 7772 amostras com 24 horas\n"
          ],
          "name": "stdout"
        }
      ]
    },
    {
      "cell_type": "code",
      "metadata": {
        "id": "okNmyZx21OS-"
      },
      "source": [
        "dict_drogas = dados['droga'].value_counts().to_dict()\n",
        "\n",
        "for key in dict_drogas:\n",
        "  #print(f\"Temos {dict_drogas[key]} amostras com a droga {key}\")\n",
        "  continue"
      ],
      "execution_count": null,
      "outputs": []
    },
    {
      "cell_type": "markdown",
      "metadata": {
        "id": "pSf-khFo0qHW"
      },
      "source": [
        "### Avaliando Grafico de pizza"
      ]
    },
    {
      "cell_type": "code",
      "metadata": {
        "colab": {
          "base_uri": "https://localhost:8080/",
          "height": 479
        },
        "id": "Z10_Bc0A0UB1",
        "outputId": "921fa78f-1cc2-4dd0-d66f-277b2cad7489"
      },
      "source": [
        "dados['tratamento'].value_counts().plot.pie()\n",
        "plt.show()\n",
        "dados['tempo'].value_counts().plot.pie()\n",
        "plt.show()"
      ],
      "execution_count": null,
      "outputs": [
        {
          "output_type": "display_data",
          "data": {
            "image/png": "[encoded data removed]",
            "text/plain": [
              "<Figure size 432x288 with 1 Axes>"
            ]
          },
          "metadata": {
            "tags": []
          }
        },
        {
          "output_type": "display_data",
          "data": {
            "image/png": "[encoded data removed]",
            "text/plain": [
              "<Figure size 432x288 with 1 Axes>"
            ]
          },
          "metadata": {
            "tags": []
          }
        }
      ]
    },
    {
      "cell_type": "markdown",
      "metadata": {
        "id": "YEUasSfq1fut"
      },
      "source": [
        "Com esses 2 graficos que conseguimos extrair a seguinte informação:\n",
        "- 1º: o tratamento parece desbalanceado (temos mais testes com drogas do que com_controle)\n",
        "- 2º: O tempo das amostras é mais balanceado quando comparado com o tratamento\n",
        "- 3º: Não conseguimos extrair muitas informações de um grafico de pizza\n",
        "\n",
        "*Recomendação: não utilizar graficos com nome de comida (e.g., pizza, donut)...*"
      ]
    },
    {
      "cell_type": "markdown",
      "metadata": {
        "id": "RkSNP-D0svsZ"
      },
      "source": [
        "# Desafios "
      ]
    },
    {
      "cell_type": "markdown",
      "metadata": {
        "id": "X_Lg2XTu20ND"
      },
      "source": [
        "- *Desafio 01*: Investigar por que a classe tratamento é tão desbalanceada?\n",
        "- *Desafio 02*: Plotar as 5 últimas linhas da tabela\n",
        "- *Desafio 03*: Proporção das classes tratamento.\n",
        "- *Desafio 04*: Quantas tipos de drogas foram investigados.\n",
        "- *Desafio 05*: Procurar na documentação o método query(pandas). \n",
        "- *Desafio 06*: Renomear as colunas tirando o hífen. \n",
        "- *Desafio 07*: Deixar os gráficos bonitões. (Matplotlib.pyplot)\n",
        "- *Desafio 08*: Resumir o que você aprendeu com os dados."
      ]
    },
    {
      "cell_type": "markdown",
      "metadata": {
        "id": "dLQUCLSjtLiw"
      },
      "source": [
        "## Desafio 1"
      ]
    },
    {
      "cell_type": "markdown",
      "metadata": {
        "id": "aZtIo1Kmz0RR"
      },
      "source": [
        "**Investigar por que a classe tratamento é tão desbalanceada?**"
      ]
    },
    {
      "cell_type": "code",
      "metadata": {
        "id": "vt63UO-ctdEx"
      },
      "source": [
        ""
      ],
      "execution_count": null,
      "outputs": []
    },
    {
      "cell_type": "markdown",
      "metadata": {
        "id": "C7w6o0VLtNni"
      },
      "source": [
        "## Desafio 2"
      ]
    },
    {
      "cell_type": "code",
      "metadata": {
        "id": "w-bWT6EXtdaO"
      },
      "source": [
        ""
      ],
      "execution_count": null,
      "outputs": []
    },
    {
      "cell_type": "markdown",
      "metadata": {
        "id": "dXBBjvEatPPq"
      },
      "source": [
        "## Desafio 3"
      ]
    },
    {
      "cell_type": "code",
      "metadata": {
        "id": "o557iHqYtd5q"
      },
      "source": [
        ""
      ],
      "execution_count": null,
      "outputs": []
    },
    {
      "cell_type": "markdown",
      "metadata": {
        "id": "nBNEpsXRtPvA"
      },
      "source": [
        "## Desafio 4"
      ]
    },
    {
      "cell_type": "code",
      "metadata": {
        "id": "RsiBqJg-teS4"
      },
      "source": [
        ""
      ],
      "execution_count": null,
      "outputs": []
    },
    {
      "cell_type": "markdown",
      "metadata": {
        "id": "4lj8rf7itQMC"
      },
      "source": [
        "## Desafio 5"
      ]
    },
    {
      "cell_type": "code",
      "metadata": {
        "id": "RE11ubkoteut"
      },
      "source": [
        ""
      ],
      "execution_count": null,
      "outputs": []
    },
    {
      "cell_type": "markdown",
      "metadata": {
        "id": "NUvXihTBtQqH"
      },
      "source": [
        "## Desafio 6"
      ]
    },
    {
      "cell_type": "code",
      "metadata": {
        "id": "GT0C6WIwtfJH"
      },
      "source": [
        ""
      ],
      "execution_count": null,
      "outputs": []
    },
    {
      "cell_type": "markdown",
      "metadata": {
        "id": "Z8mBX1zvtR4d"
      },
      "source": [
        "## Desafio 7"
      ]
    },
    {
      "cell_type": "code",
      "metadata": {
        "id": "hWdRp3VKtfYo"
      },
      "source": [
        ""
      ],
      "execution_count": null,
      "outputs": []
    },
    {
      "cell_type": "markdown",
      "metadata": {
        "id": "v3jMWPUftSVf"
      },
      "source": [
        "## Desafio 8"
      ]
    }
  ]
}