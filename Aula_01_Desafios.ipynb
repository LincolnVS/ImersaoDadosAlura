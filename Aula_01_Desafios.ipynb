{
  "nbformat": 4,
  "nbformat_minor": 0,
  "metadata": {
    "colab": {
      "name": "Aula 01 Desafios.ipynb",
      "provenance": [],
      "collapsed_sections": [
        "C7w6o0VLtNni"
      ],
      "toc_visible": true
    },
    "kernelspec": {
      "name": "python3",
      "display_name": "Python 3"
    },
    "language_info": {
      "name": "python"
    }
  },
  "cells": [
    {
      "cell_type": "markdown",
      "metadata": {
        "id": "EwJUALlIsl1h"
      },
      "source": [
        "O notebook da Aula 1 foi separado em duas etapas:\n",
        "- [Explicações e Aula Alura](https://github.com/LincolnVS/ImersaoDadosAlura/blob/main/Aula_01.ipynb)\n",
        "- [Desafios e Playground](https://github.com/LincolnVS/ImersaoDadosAlura/blob/main/Aula_01_Desafios.ipynb)\n",
        "\n",
        "*Obs:* Esse é o notebook de **Desafios e Playground**"
      ]
    },
    {
      "cell_type": "markdown",
      "metadata": {
        "id": "MxI7CTsOtZMD"
      },
      "source": [
        "# Playground (testes e afins)"
      ]
    },
    {
      "cell_type": "markdown",
      "metadata": {
        "id": "sHzw1Vbg0mvQ"
      },
      "source": [
        "### Importando dados"
      ]
    },
    {
      "cell_type": "code",
      "metadata": {
        "id": "OE3iBkaw0gsT"
      },
      "source": [
        "import pandas as pd\n",
        "pd.set_option('display.max_columns', 15) #mostra apenas 15 colunas quando manda plotar tudo (esse dataset tem mais de 800)\n",
        "import matplotlib.pyplot as plt\n",
        "import numpy as np\n",
        "\n",
        "url_dados = 'https://github.com/LincolnVS/ImersaoDadosAlura/blob/main/dados/dados_experimentos.zip?raw=true'\n",
        "\n",
        "dados = pd.read_csv(url_dados, compression = 'zip')"
      ],
      "execution_count": null,
      "outputs": []
    },
    {
      "cell_type": "markdown",
      "metadata": {
        "id": "KBHWMWBU0d4G"
      },
      "source": [
        "### Entender os dados"
      ]
    },
    {
      "cell_type": "code",
      "metadata": {
        "colab": {
          "base_uri": "https://localhost:8080/",
          "height": 233
        },
        "id": "YXb2S_gXtcSQ",
        "outputId": "27f6346a-5f90-4964-d5ca-d1d99b55671b"
      },
      "source": [
        "dados.head(5)"
      ],
      "execution_count": null,
      "outputs": [
        {
          "output_type": "execute_result",
          "data": {
            "text/html": [
              "<div>\n",
              "<style scoped>\n",
              "    .dataframe tbody tr th:only-of-type {\n",
              "        vertical-align: middle;\n",
              "    }\n",
              "\n",
              "    .dataframe tbody tr th {\n",
              "        vertical-align: top;\n",
              "    }\n",
              "\n",
              "    .dataframe thead th {\n",
              "        text-align: right;\n",
              "    }\n",
              "</style>\n",
              "<table border=\"1\" class=\"dataframe\">\n",
              "  <thead>\n",
              "    <tr style=\"text-align: right;\">\n",
              "      <th></th>\n",
              "      <th>id</th>\n",
              "      <th>tratamento</th>\n",
              "      <th>tempo</th>\n",
              "      <th>dose</th>\n",
              "      <th>droga</th>\n",
              "      <th>g-0</th>\n",
              "      <th>g-1</th>\n",
              "      <th>...</th>\n",
              "      <th>c-93</th>\n",
              "      <th>c-94</th>\n",
              "      <th>c-95</th>\n",
              "      <th>c-96</th>\n",
              "      <th>c-97</th>\n",
              "      <th>c-98</th>\n",
              "      <th>c-99</th>\n",
              "    </tr>\n",
              "  </thead>\n",
              "  <tbody>\n",
              "    <tr>\n",
              "      <th>0</th>\n",
              "      <td>id_000644bb2</td>\n",
              "      <td>com_droga</td>\n",
              "      <td>24</td>\n",
              "      <td>D1</td>\n",
              "      <td>b68db1d53</td>\n",
              "      <td>1.0620</td>\n",
              "      <td>0.5577</td>\n",
              "      <td>...</td>\n",
              "      <td>0.5523</td>\n",
              "      <td>-0.1912</td>\n",
              "      <td>0.6584</td>\n",
              "      <td>-0.3981</td>\n",
              "      <td>0.2139</td>\n",
              "      <td>0.3801</td>\n",
              "      <td>0.4176</td>\n",
              "    </tr>\n",
              "    <tr>\n",
              "      <th>1</th>\n",
              "      <td>id_000779bfc</td>\n",
              "      <td>com_droga</td>\n",
              "      <td>72</td>\n",
              "      <td>D1</td>\n",
              "      <td>df89a8e5a</td>\n",
              "      <td>0.0743</td>\n",
              "      <td>0.4087</td>\n",
              "      <td>...</td>\n",
              "      <td>0.0230</td>\n",
              "      <td>0.2957</td>\n",
              "      <td>0.4899</td>\n",
              "      <td>0.1522</td>\n",
              "      <td>0.1241</td>\n",
              "      <td>0.6077</td>\n",
              "      <td>0.7371</td>\n",
              "    </tr>\n",
              "    <tr>\n",
              "      <th>2</th>\n",
              "      <td>id_000a6266a</td>\n",
              "      <td>com_droga</td>\n",
              "      <td>48</td>\n",
              "      <td>D1</td>\n",
              "      <td>18bb41b2c</td>\n",
              "      <td>0.6280</td>\n",
              "      <td>0.5817</td>\n",
              "      <td>...</td>\n",
              "      <td>0.0223</td>\n",
              "      <td>-1.3240</td>\n",
              "      <td>-0.3174</td>\n",
              "      <td>-0.6417</td>\n",
              "      <td>-0.2187</td>\n",
              "      <td>-1.4080</td>\n",
              "      <td>0.6931</td>\n",
              "    </tr>\n",
              "    <tr>\n",
              "      <th>3</th>\n",
              "      <td>id_0015fd391</td>\n",
              "      <td>com_droga</td>\n",
              "      <td>48</td>\n",
              "      <td>D1</td>\n",
              "      <td>8c7f86626</td>\n",
              "      <td>-0.5138</td>\n",
              "      <td>-0.2491</td>\n",
              "      <td>...</td>\n",
              "      <td>-1.3780</td>\n",
              "      <td>-0.8632</td>\n",
              "      <td>-1.2880</td>\n",
              "      <td>-1.6210</td>\n",
              "      <td>-0.8784</td>\n",
              "      <td>-0.3876</td>\n",
              "      <td>-0.8154</td>\n",
              "    </tr>\n",
              "    <tr>\n",
              "      <th>4</th>\n",
              "      <td>id_001626bd3</td>\n",
              "      <td>com_droga</td>\n",
              "      <td>72</td>\n",
              "      <td>D2</td>\n",
              "      <td>7cbed3131</td>\n",
              "      <td>-0.3254</td>\n",
              "      <td>-0.4009</td>\n",
              "      <td>...</td>\n",
              "      <td>1.0690</td>\n",
              "      <td>0.5523</td>\n",
              "      <td>-0.3031</td>\n",
              "      <td>0.1094</td>\n",
              "      <td>0.2885</td>\n",
              "      <td>-0.3786</td>\n",
              "      <td>0.7125</td>\n",
              "    </tr>\n",
              "  </tbody>\n",
              "</table>\n",
              "<p>5 rows × 877 columns</p>\n",
              "</div>"
            ],
            "text/plain": [
              "             id tratamento  tempo dose      droga     g-0     g-1  ...  \\\n",
              "0  id_000644bb2  com_droga     24   D1  b68db1d53  1.0620  0.5577  ...   \n",
              "1  id_000779bfc  com_droga     72   D1  df89a8e5a  0.0743  0.4087  ...   \n",
              "2  id_000a6266a  com_droga     48   D1  18bb41b2c  0.6280  0.5817  ...   \n",
              "3  id_0015fd391  com_droga     48   D1  8c7f86626 -0.5138 -0.2491  ...   \n",
              "4  id_001626bd3  com_droga     72   D2  7cbed3131 -0.3254 -0.4009  ...   \n",
              "\n",
              "     c-93    c-94    c-95    c-96    c-97    c-98    c-99  \n",
              "0  0.5523 -0.1912  0.6584 -0.3981  0.2139  0.3801  0.4176  \n",
              "1  0.0230  0.2957  0.4899  0.1522  0.1241  0.6077  0.7371  \n",
              "2  0.0223 -1.3240 -0.3174 -0.6417 -0.2187 -1.4080  0.6931  \n",
              "3 -1.3780 -0.8632 -1.2880 -1.6210 -0.8784 -0.3876 -0.8154  \n",
              "4  1.0690  0.5523 -0.3031  0.1094  0.2885 -0.3786  0.7125  \n",
              "\n",
              "[5 rows x 877 columns]"
            ]
          },
          "metadata": {
            "tags": []
          },
          "execution_count": 3
        }
      ]
    },
    {
      "cell_type": "markdown",
      "metadata": {
        "id": "9eCg7RrExyWT"
      },
      "source": [
        "Entendendo os dados\n",
        "- index = valor numérico crescente para cada experimento {0 até 23813}\n",
        "- id = identificador único para cada experimento\n",
        "- tempo = tempo de espera para análise {24, 48, 72}\n",
        "- tratamento = categorias {com_droga, com_controle}\n",
        "- dose = Diferentes Dosagens {D1, D2}\n",
        "- drogas = tipos de substâncias testadas {Drogas com nomes anonimos para não ter viés}\n",
        "- g_ = dados de expressão genética, dados normalizados {provavelmente de -2 a 2}\n",
        "- c- correspondem a viabilidade celular. A viabilidade celular é uma medida da proporção de células vivas saudáveis ​​dentro de uma população\n"
      ]
    },
    {
      "cell_type": "code",
      "metadata": {
        "colab": {
          "base_uri": "https://localhost:8080/"
        },
        "id": "dXcrah1e0vg0",
        "outputId": "e03f98b0-fde2-413e-a084-4f92b501c30a"
      },
      "source": [
        "dict_tempos = dados['tempo'].value_counts().to_dict()\n",
        "\n",
        "for key in dict_tempos:\n",
        "  print(f\"Temos {dict_tempos[key]} amostras com {key} horas\")"
      ],
      "execution_count": null,
      "outputs": [
        {
          "output_type": "stream",
          "text": [
            "Temos 8250 amostras com 48 horas\n",
            "Temos 7792 amostras com 72 horas\n",
            "Temos 7772 amostras com 24 horas\n"
          ],
          "name": "stdout"
        }
      ]
    },
    {
      "cell_type": "code",
      "metadata": {
        "id": "okNmyZx21OS-"
      },
      "source": [
        "dict_drogas = dados['droga'].value_counts().to_dict()\n",
        "\n",
        "for key in dict_drogas:\n",
        "  #print(f\"Temos {dict_drogas[key]} amostras com a droga {key}\")\n",
        "  continue"
      ],
      "execution_count": null,
      "outputs": []
    },
    {
      "cell_type": "markdown",
      "metadata": {
        "id": "pSf-khFo0qHW"
      },
      "source": [
        "### Avaliando Grafico de pizza"
      ]
    },
    {
      "cell_type": "code",
      "metadata": {
        "colab": {
          "base_uri": "https://localhost:8080/",
          "height": 479
        },
        "id": "Z10_Bc0A0UB1",
        "outputId": "14ad914c-69dc-4f7a-fd02-2e9b62a73162"
      },
      "source": [
        "dados['tratamento'].value_counts().plot.pie()\n",
        "plt.show()\n",
        "dados['tempo'].value_counts().plot.pie()\n",
        "plt.show()"
      ],
      "execution_count": null,
      "outputs": [
        {
          "output_type": "display_data",
          "data": {
            "image/png": "[encoded data removed]",
            "text/plain": [
              "<Figure size 432x288 with 1 Axes>"
            ]
          },
          "metadata": {
            "tags": []
          }
        },
        {
          "output_type": "display_data",
          "data": {
            "image/png": "[encoded data removed]",
            "text/plain": [
              "<Figure size 432x288 with 1 Axes>"
            ]
          },
          "metadata": {
            "tags": []
          }
        }
      ]
    },
    {
      "cell_type": "markdown",
      "metadata": {
        "id": "YEUasSfq1fut"
      },
      "source": [
        "Com esses 2 graficos que conseguimos extrair a seguinte informação:\n",
        "- 1º: o tratamento parece desbalanceado (temos mais testes com drogas do que com_controle)\n",
        "- 2º: O tempo das amostras é mais balanceado quando comparado com o tratamento\n",
        "- 3º: Não conseguimos extrair muitas informações de um grafico de pizza\n",
        "\n",
        "*Recomendação: não utilizar graficos com nome de comida (e.g., pizza, donut)...*"
      ]
    },
    {
      "cell_type": "markdown",
      "metadata": {
        "id": "RkSNP-D0svsZ"
      },
      "source": [
        "# Desafios "
      ]
    },
    {
      "cell_type": "markdown",
      "metadata": {
        "id": "X_Lg2XTu20ND"
      },
      "source": [
        "- *Desafio 01*: Investigar por que a classe tratamento é tão desbalanceada?\n",
        "- *Desafio 02*: Plotar as 5 últimas linhas da tabela\n",
        "- *Desafio 03*: Proporção das classes tratamento.\n",
        "- *Desafio 04*: Quantas tipos de drogas foram investigados.\n",
        "- *Desafio 05*: Procurar na documentação o método query(pandas). \n",
        "- *Desafio 06*: Renomear as colunas tirando o hífen. \n",
        "- *Desafio 07*: Deixar os gráficos bonitões. (Matplotlib.pyplot)\n",
        "- *Desafio 08*: Resumir o que você aprendeu com os dados."
      ]
    },
    {
      "cell_type": "markdown",
      "metadata": {
        "id": "dLQUCLSjtLiw"
      },
      "source": [
        "## Desafio 1"
      ]
    },
    {
      "cell_type": "markdown",
      "metadata": {
        "id": "aZtIo1Kmz0RR"
      },
      "source": [
        "**Investigar por que a classe tratamento é tão desbalanceada?**"
      ]
    },
    {
      "cell_type": "code",
      "metadata": {
        "id": "i21RqPTDGLZq",
        "colab": {
          "base_uri": "https://localhost:8080/",
          "height": 356
        },
        "outputId": "926bb56a-320c-48c6-c46f-f539f16ab082"
      },
      "source": [
        "dados['tratamento'].value_counts().plot.bar()\n",
        "plt.show()\n",
        "#dados['tratamento'].value_counts().plot.pie()\n",
        "#plt.show()\n",
        "\n",
        "dict_tratamento = dados['tratamento'].value_counts().to_dict()\n",
        "n_droga = dict_tratamento['com_droga']\n",
        "n_controle = dict_tratamento['com_controle']\n",
        "percent= ((n_droga-n_controle)/n_controle)*100\n",
        "print( f'\\nTemos {n_droga} amostras com_droga, {n_controle} amostras com_controle. Isso da {percent}% de amostras a mais com_droga!')"
      ],
      "execution_count": null,
      "outputs": [
        {
          "output_type": "display_data",
          "data": {
            "image/png": "[encoded data removed]",
            "text/plain": [
              "<Figure size 432x288 with 1 Axes>"
            ]
          },
          "metadata": {
            "tags": [],
            "needs_background": "light"
          }
        },
        {
          "output_type": "stream",
          "text": [
            "\n",
            "Temos 21948 amostras com_droga, 1866 amostras com_controle. Isso da 1076.2057877813504% de amostras a mais com_droga!\n"
          ],
          "name": "stdout"
        }
      ]
    },
    {
      "cell_type": "markdown",
      "metadata": {
        "id": "fr5YMFboGjgG"
      },
      "source": [
        "Ao comparar os tratamentos, `com_droga` tem muito mais amostras do que `com_controle`. Entretanto, o tratamento `com_droga` também tem subdivisões, mas o tratamento `com_controle` não, vamos mais fundo nessas subdivisões."
      ]
    },
    {
      "cell_type": "code",
      "metadata": {
        "id": "vt63UO-ctdEx",
        "colab": {
          "base_uri": "https://localhost:8080/"
        },
        "outputId": "d12adb78-d0c7-4975-a6f3-868f381d12b4"
      },
      "source": [
        "drogas_count = dados['droga'].value_counts()\n",
        "print(f'Temos um total de {len(drogas_count)} drogas utilizadas! As 10 mais utilizadas são:\\n')\n",
        "print(drogas_count.head(10))"
      ],
      "execution_count": null,
      "outputs": [
        {
          "output_type": "stream",
          "text": [
            "Temos um total de 3289 drogas utilizadas! As 7 mais utilizadas são:\n",
            "\n",
            "cacb2b860    1866\n",
            "87d714366     718\n",
            "9f80f3f77     246\n",
            "8b87a7a83     203\n",
            "5628cb3ee     202\n",
            "d08af5d4b     196\n",
            "292ab2c28     194\n",
            "d50f18348     186\n",
            "d1b47f29d     178\n",
            "67c879e79      19\n",
            "Name: droga, dtype: int64\n"
          ],
          "name": "stdout"
        }
      ]
    },
    {
      "cell_type": "markdown",
      "metadata": {
        "id": "1bnMbw2RLZN0"
      },
      "source": [
        "Podemos ver que uma droga se destaca, essa droga é `cacb2b860`. Mas tem algo estranho, os valores dessa droga são exatamente iguais aos do tratamento `com_controle`. Vamos analisar!"
      ]
    },
    {
      "cell_type": "code",
      "metadata": {
        "colab": {
          "base_uri": "https://localhost:8080/"
        },
        "id": "5LtIeazDFVSN",
        "outputId": "eb24d793-b517-459d-83f9-39ce50b72dc7"
      },
      "source": [
        "dados_com_controle = dados[dados['tratamento'] == 'com_controle']\n",
        "dados_com_controle['droga'].value_counts()"
      ],
      "execution_count": null,
      "outputs": [
        {
          "output_type": "execute_result",
          "data": {
            "text/plain": [
              "cacb2b860    1866\n",
              "Name: droga, dtype: int64"
            ]
          },
          "metadata": {
            "tags": []
          },
          "execution_count": 59
        }
      ]
    },
    {
      "cell_type": "markdown",
      "metadata": {
        "id": "OCzSJaWCFwsI"
      },
      "source": [
        "Todas as amostras `com_controle` tem como droga `cacb2b860`. E por definição, `com_controle` significa sem droga, ou seja, `cacb2b860 == sem droga`. Então, Quando comparado com cada droga separado, `com_controle` tem mais que o dobro de amostras do que o tratamento com a segunda maior droga. Vamos visualizar isso!\n",
        "\n"
      ]
    },
    {
      "cell_type": "code",
      "metadata": {
        "id": "of0c-ZpnMf8W",
        "colab": {
          "base_uri": "https://localhost:8080/",
          "height": 577
        },
        "outputId": "0f493cf2-2949-4232-e577-5c86ed6cc4bd"
      },
      "source": [
        "dados_para_visualizar = dados.copy()\n",
        "\n",
        "dados_para_visualizar['tratamento'].replace('com_droga','droga',inplace=True)\n",
        "dados_para_visualizar['droga'].replace('cacb2b860','',inplace=True)\n",
        "\n",
        "dados_tratamento_e_drogas = dados_para_visualizar['tratamento'] + '_' + dados_para_visualizar['droga']\n",
        "dados_tratamento_e_drogas.replace('com_controle_','com_controle',inplace=True)\n",
        "\n",
        "dados_tratamento_e_drogas.value_counts()[:10].plot.bar()\n",
        "plt.show()\n",
        "dados_tratamento_e_drogas.value_counts()[:10].plot.pie()\n",
        "plt.show()"
      ],
      "execution_count": null,
      "outputs": [
        {
          "output_type": "display_data",
          "data": {
            "image/png": "[encoded data removed]",
            "text/plain": [
              "<Figure size 432x288 with 1 Axes>"
            ]
          },
          "metadata": {
            "tags": [],
            "needs_background": "light"
          }
        },
        {
          "output_type": "display_data",
          "data": {
            "image/png": "[encoded data removed]",
            "text/plain": [
              "<Figure size 432x288 with 1 Axes>"
            ]
          },
          "metadata": {
            "tags": []
          }
        }
      ]
    },
    {
      "cell_type": "markdown",
      "metadata": {
        "id": "TySp-fgUSFbx"
      },
      "source": [
        "Ainda notamos uma diferença entre os tratamentos. Mas agora entendemos um pouco mais sobre como os dados estão balanceados. Resumidamente, `com_controle` possui um número menor de variaveis no tratamento comparado com `com_droga`, no agregado, realmente possui um número menor de amostras, mas não é tão desbalanceado quando comparamos com cada subdivisão que `com_droga` possui."
      ]
    },
    {
      "cell_type": "markdown",
      "metadata": {
        "id": "C7w6o0VLtNni"
      },
      "source": [
        "## Desafio 2"
      ]
    },
    {
      "cell_type": "markdown",
      "metadata": {
        "id": "HDuom1beTgzm"
      },
      "source": [
        "**Plotar as 5 últimas linhas da tabela**"
      ]
    },
    {
      "cell_type": "code",
      "metadata": {
        "id": "w-bWT6EXtdaO",
        "colab": {
          "base_uri": "https://localhost:8080/",
          "height": 233
        },
        "outputId": "61f03a5a-0911-4792-fb1e-d3e0e7c588b9"
      },
      "source": [
        "dados.tail(5)"
      ],
      "execution_count": null,
      "outputs": [
        {
          "output_type": "execute_result",
          "data": {
            "text/html": [
              "<div>\n",
              "<style scoped>\n",
              "    .dataframe tbody tr th:only-of-type {\n",
              "        vertical-align: middle;\n",
              "    }\n",
              "\n",
              "    .dataframe tbody tr th {\n",
              "        vertical-align: top;\n",
              "    }\n",
              "\n",
              "    .dataframe thead th {\n",
              "        text-align: right;\n",
              "    }\n",
              "</style>\n",
              "<table border=\"1\" class=\"dataframe\">\n",
              "  <thead>\n",
              "    <tr style=\"text-align: right;\">\n",
              "      <th></th>\n",
              "      <th>id</th>\n",
              "      <th>tratamento</th>\n",
              "      <th>tempo</th>\n",
              "      <th>dose</th>\n",
              "      <th>droga</th>\n",
              "      <th>g-0</th>\n",
              "      <th>g-1</th>\n",
              "      <th>...</th>\n",
              "      <th>c-93</th>\n",
              "      <th>c-94</th>\n",
              "      <th>c-95</th>\n",
              "      <th>c-96</th>\n",
              "      <th>c-97</th>\n",
              "      <th>c-98</th>\n",
              "      <th>c-99</th>\n",
              "    </tr>\n",
              "  </thead>\n",
              "  <tbody>\n",
              "    <tr>\n",
              "      <th>23809</th>\n",
              "      <td>id_fffb1ceed</td>\n",
              "      <td>com_droga</td>\n",
              "      <td>24</td>\n",
              "      <td>D2</td>\n",
              "      <td>df1d0a5a1</td>\n",
              "      <td>0.1394</td>\n",
              "      <td>-0.0636</td>\n",
              "      <td>...</td>\n",
              "      <td>0.3434</td>\n",
              "      <td>0.5372</td>\n",
              "      <td>-0.3246</td>\n",
              "      <td>0.0631</td>\n",
              "      <td>0.9171</td>\n",
              "      <td>0.5258</td>\n",
              "      <td>0.4680</td>\n",
              "    </tr>\n",
              "    <tr>\n",
              "      <th>23810</th>\n",
              "      <td>id_fffb70c0c</td>\n",
              "      <td>com_droga</td>\n",
              "      <td>24</td>\n",
              "      <td>D2</td>\n",
              "      <td>ecf3b6b74</td>\n",
              "      <td>-1.3260</td>\n",
              "      <td>0.3478</td>\n",
              "      <td>...</td>\n",
              "      <td>-0.3195</td>\n",
              "      <td>-0.8086</td>\n",
              "      <td>-0.9798</td>\n",
              "      <td>-0.2084</td>\n",
              "      <td>-0.1224</td>\n",
              "      <td>-0.2715</td>\n",
              "      <td>0.3689</td>\n",
              "    </tr>\n",
              "    <tr>\n",
              "      <th>23811</th>\n",
              "      <td>id_fffc1c3f4</td>\n",
              "      <td>com_controle</td>\n",
              "      <td>48</td>\n",
              "      <td>D2</td>\n",
              "      <td>cacb2b860</td>\n",
              "      <td>0.3942</td>\n",
              "      <td>0.3756</td>\n",
              "      <td>...</td>\n",
              "      <td>0.2807</td>\n",
              "      <td>0.4116</td>\n",
              "      <td>0.6422</td>\n",
              "      <td>0.2256</td>\n",
              "      <td>0.7592</td>\n",
              "      <td>0.6656</td>\n",
              "      <td>0.3808</td>\n",
              "    </tr>\n",
              "    <tr>\n",
              "      <th>23812</th>\n",
              "      <td>id_fffcb9e7c</td>\n",
              "      <td>com_droga</td>\n",
              "      <td>24</td>\n",
              "      <td>D1</td>\n",
              "      <td>8b87a7a83</td>\n",
              "      <td>0.6660</td>\n",
              "      <td>0.2324</td>\n",
              "      <td>...</td>\n",
              "      <td>0.1506</td>\n",
              "      <td>1.5230</td>\n",
              "      <td>0.7101</td>\n",
              "      <td>0.1732</td>\n",
              "      <td>0.7015</td>\n",
              "      <td>-0.6290</td>\n",
              "      <td>0.0740</td>\n",
              "    </tr>\n",
              "    <tr>\n",
              "      <th>23813</th>\n",
              "      <td>id_ffffdd77b</td>\n",
              "      <td>com_droga</td>\n",
              "      <td>72</td>\n",
              "      <td>D1</td>\n",
              "      <td>972f41291</td>\n",
              "      <td>-0.8598</td>\n",
              "      <td>1.0240</td>\n",
              "      <td>...</td>\n",
              "      <td>-4.0950</td>\n",
              "      <td>-7.3860</td>\n",
              "      <td>-1.4160</td>\n",
              "      <td>-3.5770</td>\n",
              "      <td>-0.4775</td>\n",
              "      <td>-2.1500</td>\n",
              "      <td>-4.2520</td>\n",
              "    </tr>\n",
              "  </tbody>\n",
              "</table>\n",
              "<p>5 rows × 877 columns</p>\n",
              "</div>"
            ],
            "text/plain": [
              "                 id    tratamento  tempo dose      droga     g-0     g-1  ...  \\\n",
              "23809  id_fffb1ceed     com_droga     24   D2  df1d0a5a1  0.1394 -0.0636  ...   \n",
              "23810  id_fffb70c0c     com_droga     24   D2  ecf3b6b74 -1.3260  0.3478  ...   \n",
              "23811  id_fffc1c3f4  com_controle     48   D2  cacb2b860  0.3942  0.3756  ...   \n",
              "23812  id_fffcb9e7c     com_droga     24   D1  8b87a7a83  0.6660  0.2324  ...   \n",
              "23813  id_ffffdd77b     com_droga     72   D1  972f41291 -0.8598  1.0240  ...   \n",
              "\n",
              "         c-93    c-94    c-95    c-96    c-97    c-98    c-99  \n",
              "23809  0.3434  0.5372 -0.3246  0.0631  0.9171  0.5258  0.4680  \n",
              "23810 -0.3195 -0.8086 -0.9798 -0.2084 -0.1224 -0.2715  0.3689  \n",
              "23811  0.2807  0.4116  0.6422  0.2256  0.7592  0.6656  0.3808  \n",
              "23812  0.1506  1.5230  0.7101  0.1732  0.7015 -0.6290  0.0740  \n",
              "23813 -4.0950 -7.3860 -1.4160 -3.5770 -0.4775 -2.1500 -4.2520  \n",
              "\n",
              "[5 rows x 877 columns]"
            ]
          },
          "metadata": {
            "tags": []
          },
          "execution_count": 62
        }
      ]
    },
    {
      "cell_type": "markdown",
      "metadata": {
        "id": "dXBBjvEatPPq"
      },
      "source": [
        "## Desafio 3"
      ]
    },
    {
      "cell_type": "markdown",
      "metadata": {
        "id": "BS569U2mT_tJ"
      },
      "source": [
        "**Proporção das classes tratamento.**"
      ]
    },
    {
      "cell_type": "code",
      "metadata": {
        "id": "o557iHqYtd5q",
        "colab": {
          "base_uri": "https://localhost:8080/"
        },
        "outputId": "92cbfb8e-219c-481d-9f14-3cab0fea062e"
      },
      "source": [
        "dados['tratamento'].value_counts(normalize = True)\n",
        "#Percentual da com_droga é de aproximadamente 92.2%, com_controle é de 7.8%."
      ],
      "execution_count": 63,
      "outputs": [
        {
          "output_type": "execute_result",
          "data": {
            "text/plain": [
              "com_droga       0.921643\n",
              "com_controle    0.078357\n",
              "Name: tratamento, dtype: float64"
            ]
          },
          "metadata": {
            "tags": []
          },
          "execution_count": 63
        }
      ]
    },
    {
      "cell_type": "markdown",
      "metadata": {
        "id": "nBNEpsXRtPvA"
      },
      "source": [
        "## Desafio 4"
      ]
    },
    {
      "cell_type": "markdown",
      "metadata": {
        "id": "WPuVCmx4UB0R"
      },
      "source": [
        "**Quantas tipos de drogas foram investigados.**"
      ]
    },
    {
      "cell_type": "code",
      "metadata": {
        "id": "RsiBqJg-teS4",
        "colab": {
          "base_uri": "https://localhost:8080/"
        },
        "outputId": "754ee47e-186c-407a-9a4c-1432bfacc8e5"
      },
      "source": [
        "drogas_count = dados[dados['tratamento'] != \"com_controle\"]['droga'].value_counts()\n",
        "print(f'Temos um total de {len(drogas_count)} drogas utilizadas! As 10 mais utilizadas são:\\n')\n",
        "print(drogas_count.head(10))"
      ],
      "execution_count": 67,
      "outputs": [
        {
          "output_type": "stream",
          "text": [
            "Temos um total de 3288 drogas utilizadas! As 10 mais utilizadas são:\n",
            "\n",
            "87d714366    718\n",
            "9f80f3f77    246\n",
            "8b87a7a83    203\n",
            "5628cb3ee    202\n",
            "d08af5d4b    196\n",
            "292ab2c28    194\n",
            "d50f18348    186\n",
            "d1b47f29d    178\n",
            "67c879e79     19\n",
            "52d1e6f43     18\n",
            "Name: droga, dtype: int64\n"
          ],
          "name": "stdout"
        }
      ]
    },
    {
      "cell_type": "markdown",
      "metadata": {
        "id": "4lj8rf7itQMC"
      },
      "source": [
        "## Desafio 5"
      ]
    },
    {
      "cell_type": "markdown",
      "metadata": {
        "id": "_lxAg13zUD7l"
      },
      "source": [
        "**Procurar na documentação o método query(pandas).**"
      ]
    },
    {
      "cell_type": "code",
      "metadata": {
        "id": "RE11ubkoteut"
      },
      "source": [
        ""
      ],
      "execution_count": null,
      "outputs": []
    },
    {
      "cell_type": "markdown",
      "metadata": {
        "id": "NUvXihTBtQqH"
      },
      "source": [
        "## Desafio 6"
      ]
    },
    {
      "cell_type": "markdown",
      "metadata": {
        "id": "a_TGGHAMUGJM"
      },
      "source": [
        "**Renomear as colunas tirando o hífen.**"
      ]
    },
    {
      "cell_type": "code",
      "metadata": {
        "id": "GT0C6WIwtfJH"
      },
      "source": [
        ""
      ],
      "execution_count": null,
      "outputs": []
    },
    {
      "cell_type": "markdown",
      "metadata": {
        "id": "Z8mBX1zvtR4d"
      },
      "source": [
        "## Desafio 7"
      ]
    },
    {
      "cell_type": "markdown",
      "metadata": {
        "id": "oJ_nrGYFUHz-"
      },
      "source": [
        "**Deixar os gráficos bonitões. (Matplotlib.pyplot)**"
      ]
    },
    {
      "cell_type": "code",
      "metadata": {
        "id": "hWdRp3VKtfYo"
      },
      "source": [
        ""
      ],
      "execution_count": null,
      "outputs": []
    },
    {
      "cell_type": "markdown",
      "metadata": {
        "id": "v3jMWPUftSVf"
      },
      "source": [
        "## Desafio 8"
      ]
    },
    {
      "cell_type": "markdown",
      "metadata": {
        "id": "vO9evN07UJmV"
      },
      "source": [
        "**Resumir o que você aprendeu com os dados.**"
      ]
    },
    {
      "cell_type": "code",
      "metadata": {
        "id": "vdBYNRBnUK_z"
      },
      "source": [
        ""
      ],
      "execution_count": null,
      "outputs": []
    }
  ]
}