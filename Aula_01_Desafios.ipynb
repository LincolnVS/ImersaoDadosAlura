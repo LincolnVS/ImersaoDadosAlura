{
  "nbformat": 4,
  "nbformat_minor": 0,
  "metadata": {
    "colab": {
      "name": "Aula 01 Desafios.ipynb",
      "provenance": [],
      "collapsed_sections": [
        "dLQUCLSjtLiw",
        "C7w6o0VLtNni",
        "dXBBjvEatPPq",
        "nBNEpsXRtPvA",
        "4lj8rf7itQMC",
        "NUvXihTBtQqH"
      ],
      "toc_visible": true
    },
    "kernelspec": {
      "name": "python3",
      "display_name": "Python 3"
    },
    "language_info": {
      "name": "python"
    }
  },
  "cells": [
    {
      "cell_type": "markdown",
      "metadata": {
        "id": "EwJUALlIsl1h"
      },
      "source": [
        "O notebook da Aula 1 foi separado em duas etapas:\n",
        "- [Explicações e Aula Alura](https://github.com/LincolnVS/ImersaoDadosAlura/blob/main/Aula_01.ipynb)\n",
        "- [Desafios e Playground](https://github.com/LincolnVS/ImersaoDadosAlura/blob/main/Aula_01_Desafios.ipynb)\n",
        "\n",
        "*Obs:* Esse é o notebook de **Desafios e Playground**"
      ]
    },
    {
      "cell_type": "markdown",
      "metadata": {
        "id": "MxI7CTsOtZMD"
      },
      "source": [
        "# Playground (testes e afins)"
      ]
    },
    {
      "cell_type": "markdown",
      "metadata": {
        "id": "sHzw1Vbg0mvQ"
      },
      "source": [
        "### Importando dados"
      ]
    },
    {
      "cell_type": "code",
      "metadata": {
        "id": "OE3iBkaw0gsT"
      },
      "source": [
        "import pandas as pd\n",
        "pd.set_option('display.max_columns', 15) #mostra apenas 15 colunas quando manda plotar tudo (esse dataset tem mais de 800)\n",
        "import matplotlib.pyplot as plt\n",
        "import numpy as np\n",
        "\n",
        "url_dados = 'https://github.com/LincolnVS/ImersaoDadosAlura/blob/main/dados/dados_experimentos.zip?raw=true'\n",
        "\n",
        "dados = pd.read_csv(url_dados, compression = 'zip')"
      ],
      "execution_count": 1,
      "outputs": []
    },
    {
      "cell_type": "markdown",
      "metadata": {
        "id": "KBHWMWBU0d4G"
      },
      "source": [
        "### Entender os dados"
      ]
    },
    {
      "cell_type": "code",
      "metadata": {
        "colab": {
          "base_uri": "https://localhost:8080/",
          "height": 233
        },
        "id": "YXb2S_gXtcSQ",
        "outputId": "73a0d6e6-ef9c-4e8e-8483-9eae6cbb3d3d"
      },
      "source": [
        "dados.head(5)"
      ],
      "execution_count": 2,
      "outputs": [
        {
          "output_type": "execute_result",
          "data": {
            "text/html": [
              "<div>\n",
              "<style scoped>\n",
              "    .dataframe tbody tr th:only-of-type {\n",
              "        vertical-align: middle;\n",
              "    }\n",
              "\n",
              "    .dataframe tbody tr th {\n",
              "        vertical-align: top;\n",
              "    }\n",
              "\n",
              "    .dataframe thead th {\n",
              "        text-align: right;\n",
              "    }\n",
              "</style>\n",
              "<table border=\"1\" class=\"dataframe\">\n",
              "  <thead>\n",
              "    <tr style=\"text-align: right;\">\n",
              "      <th></th>\n",
              "      <th>id</th>\n",
              "      <th>tratamento</th>\n",
              "      <th>tempo</th>\n",
              "      <th>dose</th>\n",
              "      <th>droga</th>\n",
              "      <th>g-0</th>\n",
              "      <th>g-1</th>\n",
              "      <th>...</th>\n",
              "      <th>c-93</th>\n",
              "      <th>c-94</th>\n",
              "      <th>c-95</th>\n",
              "      <th>c-96</th>\n",
              "      <th>c-97</th>\n",
              "      <th>c-98</th>\n",
              "      <th>c-99</th>\n",
              "    </tr>\n",
              "  </thead>\n",
              "  <tbody>\n",
              "    <tr>\n",
              "      <th>0</th>\n",
              "      <td>id_000644bb2</td>\n",
              "      <td>com_droga</td>\n",
              "      <td>24</td>\n",
              "      <td>D1</td>\n",
              "      <td>b68db1d53</td>\n",
              "      <td>1.0620</td>\n",
              "      <td>0.5577</td>\n",
              "      <td>...</td>\n",
              "      <td>0.5523</td>\n",
              "      <td>-0.1912</td>\n",
              "      <td>0.6584</td>\n",
              "      <td>-0.3981</td>\n",
              "      <td>0.2139</td>\n",
              "      <td>0.3801</td>\n",
              "      <td>0.4176</td>\n",
              "    </tr>\n",
              "    <tr>\n",
              "      <th>1</th>\n",
              "      <td>id_000779bfc</td>\n",
              "      <td>com_droga</td>\n",
              "      <td>72</td>\n",
              "      <td>D1</td>\n",
              "      <td>df89a8e5a</td>\n",
              "      <td>0.0743</td>\n",
              "      <td>0.4087</td>\n",
              "      <td>...</td>\n",
              "      <td>0.0230</td>\n",
              "      <td>0.2957</td>\n",
              "      <td>0.4899</td>\n",
              "      <td>0.1522</td>\n",
              "      <td>0.1241</td>\n",
              "      <td>0.6077</td>\n",
              "      <td>0.7371</td>\n",
              "    </tr>\n",
              "    <tr>\n",
              "      <th>2</th>\n",
              "      <td>id_000a6266a</td>\n",
              "      <td>com_droga</td>\n",
              "      <td>48</td>\n",
              "      <td>D1</td>\n",
              "      <td>18bb41b2c</td>\n",
              "      <td>0.6280</td>\n",
              "      <td>0.5817</td>\n",
              "      <td>...</td>\n",
              "      <td>0.0223</td>\n",
              "      <td>-1.3240</td>\n",
              "      <td>-0.3174</td>\n",
              "      <td>-0.6417</td>\n",
              "      <td>-0.2187</td>\n",
              "      <td>-1.4080</td>\n",
              "      <td>0.6931</td>\n",
              "    </tr>\n",
              "    <tr>\n",
              "      <th>3</th>\n",
              "      <td>id_0015fd391</td>\n",
              "      <td>com_droga</td>\n",
              "      <td>48</td>\n",
              "      <td>D1</td>\n",
              "      <td>8c7f86626</td>\n",
              "      <td>-0.5138</td>\n",
              "      <td>-0.2491</td>\n",
              "      <td>...</td>\n",
              "      <td>-1.3780</td>\n",
              "      <td>-0.8632</td>\n",
              "      <td>-1.2880</td>\n",
              "      <td>-1.6210</td>\n",
              "      <td>-0.8784</td>\n",
              "      <td>-0.3876</td>\n",
              "      <td>-0.8154</td>\n",
              "    </tr>\n",
              "    <tr>\n",
              "      <th>4</th>\n",
              "      <td>id_001626bd3</td>\n",
              "      <td>com_droga</td>\n",
              "      <td>72</td>\n",
              "      <td>D2</td>\n",
              "      <td>7cbed3131</td>\n",
              "      <td>-0.3254</td>\n",
              "      <td>-0.4009</td>\n",
              "      <td>...</td>\n",
              "      <td>1.0690</td>\n",
              "      <td>0.5523</td>\n",
              "      <td>-0.3031</td>\n",
              "      <td>0.1094</td>\n",
              "      <td>0.2885</td>\n",
              "      <td>-0.3786</td>\n",
              "      <td>0.7125</td>\n",
              "    </tr>\n",
              "  </tbody>\n",
              "</table>\n",
              "<p>5 rows × 877 columns</p>\n",
              "</div>"
            ],
            "text/plain": [
              "             id tratamento  tempo dose      droga     g-0     g-1  ...  \\\n",
              "0  id_000644bb2  com_droga     24   D1  b68db1d53  1.0620  0.5577  ...   \n",
              "1  id_000779bfc  com_droga     72   D1  df89a8e5a  0.0743  0.4087  ...   \n",
              "2  id_000a6266a  com_droga     48   D1  18bb41b2c  0.6280  0.5817  ...   \n",
              "3  id_0015fd391  com_droga     48   D1  8c7f86626 -0.5138 -0.2491  ...   \n",
              "4  id_001626bd3  com_droga     72   D2  7cbed3131 -0.3254 -0.4009  ...   \n",
              "\n",
              "     c-93    c-94    c-95    c-96    c-97    c-98    c-99  \n",
              "0  0.5523 -0.1912  0.6584 -0.3981  0.2139  0.3801  0.4176  \n",
              "1  0.0230  0.2957  0.4899  0.1522  0.1241  0.6077  0.7371  \n",
              "2  0.0223 -1.3240 -0.3174 -0.6417 -0.2187 -1.4080  0.6931  \n",
              "3 -1.3780 -0.8632 -1.2880 -1.6210 -0.8784 -0.3876 -0.8154  \n",
              "4  1.0690  0.5523 -0.3031  0.1094  0.2885 -0.3786  0.7125  \n",
              "\n",
              "[5 rows x 877 columns]"
            ]
          },
          "metadata": {
            "tags": []
          },
          "execution_count": 2
        }
      ]
    },
    {
      "cell_type": "markdown",
      "metadata": {
        "id": "9eCg7RrExyWT"
      },
      "source": [
        "Entendendo os dados\n",
        "- index = valor numérico crescente para cada experimento {0 até 23813}\n",
        "- id = identificador único para cada experimento\n",
        "- tempo = tempo de espera para análise {24, 48, 72}\n",
        "- tratamento = categorias {com_droga, com_controle}\n",
        "- dose = Diferentes Dosagens {D1, D2}\n",
        "- drogas = tipos de substâncias testadas {Drogas com nomes anonimos para não ter viés}\n",
        "- g- = dados de expressão genética, dados normalizados {provavelmente de -2 a 2}\n",
        "- c- correspondem a viabilidade celular. A viabilidade celular é uma medida da proporção de células vivas saudáveis ​​dentro de uma população\n"
      ]
    },
    {
      "cell_type": "code",
      "metadata": {
        "colab": {
          "base_uri": "https://localhost:8080/"
        },
        "id": "dXcrah1e0vg0",
        "outputId": "259b900a-046f-46a8-af2e-a5181bac70aa"
      },
      "source": [
        "dict_tempos = dados['tempo'].value_counts().to_dict()\n",
        "\n",
        "for key in dict_tempos:\n",
        "  print(f\"Temos {dict_tempos[key]} amostras com {key} horas\")"
      ],
      "execution_count": 3,
      "outputs": [
        {
          "output_type": "stream",
          "text": [
            "Temos 8250 amostras com 48 horas\n",
            "Temos 7792 amostras com 72 horas\n",
            "Temos 7772 amostras com 24 horas\n"
          ],
          "name": "stdout"
        }
      ]
    },
    {
      "cell_type": "code",
      "metadata": {
        "id": "okNmyZx21OS-"
      },
      "source": [
        "dict_drogas = dados['droga'].value_counts().to_dict()\n",
        "\n",
        "for key in dict_drogas:\n",
        "  #print(f\"Temos {dict_drogas[key]} amostras com a droga {key}\")\n",
        "  continue"
      ],
      "execution_count": 4,
      "outputs": []
    },
    {
      "cell_type": "markdown",
      "metadata": {
        "id": "pSf-khFo0qHW"
      },
      "source": [
        "### Avaliando Grafico de pizza"
      ]
    },
    {
      "cell_type": "code",
      "metadata": {
        "colab": {
          "base_uri": "https://localhost:8080/",
          "height": 479
        },
        "id": "Z10_Bc0A0UB1",
        "outputId": "e99f11b0-409c-44db-b04d-cda44a4f030e"
      },
      "source": [
        "dados['tratamento'].value_counts().plot.pie()\n",
        "plt.show()\n",
        "dados['tempo'].value_counts().plot.pie()\n",
        "plt.show()"
      ],
      "execution_count": 5,
      "outputs": [
        {
          "output_type": "display_data",
          "data": {
            "image/png": "[encoded data removed]",
            "text/plain": [
              "<Figure size 432x288 with 1 Axes>"
            ]
          },
          "metadata": {
            "tags": []
          }
        },
        {
          "output_type": "display_data",
          "data": {
            "image/png": "[encoded data removed]",
            "text/plain": [
              "<Figure size 432x288 with 1 Axes>"
            ]
          },
          "metadata": {
            "tags": []
          }
        }
      ]
    },
    {
      "cell_type": "markdown",
      "metadata": {
        "id": "YEUasSfq1fut"
      },
      "source": [
        "Com esses 2 graficos que conseguimos extrair a seguinte informação:\n",
        "- 1º: o tratamento parece desbalanceado (temos mais testes com drogas do que com_controle)\n",
        "- 2º: O tempo das amostras é mais balanceado quando comparado com o tratamento\n",
        "- 3º: Não conseguimos extrair muitas informações de um grafico de pizza\n",
        "\n",
        "*Recomendação: não utilizar graficos com nome de comida (e.g., pizza, donut)...*"
      ]
    },
    {
      "cell_type": "markdown",
      "metadata": {
        "id": "RkSNP-D0svsZ"
      },
      "source": [
        "# Desafios "
      ]
    },
    {
      "cell_type": "markdown",
      "metadata": {
        "id": "X_Lg2XTu20ND"
      },
      "source": [
        "- *Desafio 01*: Investigar por que a classe tratamento é tão desbalanceada?\n",
        "- *Desafio 02*: Plotar as 5 últimas linhas da tabela\n",
        "- *Desafio 03*: Proporção das classes tratamento.\n",
        "- *Desafio 04*: Quantas tipos de drogas foram investigados.\n",
        "- *Desafio 05*: Procurar na documentação o método query(pandas). \n",
        "- *Desafio 06*: Renomear as colunas tirando o hífen. \n",
        "- *Desafio 07*: Deixar os gráficos bonitões. (Matplotlib.pyplot)\n",
        "- *Desafio 08*: Resumir o que você aprendeu com os dados."
      ]
    },
    {
      "cell_type": "markdown",
      "metadata": {
        "id": "dLQUCLSjtLiw"
      },
      "source": [
        "## Desafio 1"
      ]
    },
    {
      "cell_type": "markdown",
      "metadata": {
        "id": "aZtIo1Kmz0RR"
      },
      "source": [
        "**Investigar por que a classe tratamento é tão desbalanceada?**"
      ]
    },
    {
      "cell_type": "code",
      "metadata": {
        "id": "i21RqPTDGLZq",
        "colab": {
          "base_uri": "https://localhost:8080/",
          "height": 0
        },
        "outputId": "a99be60a-7b7b-4607-99e3-71ef9ce02f8a"
      },
      "source": [
        "dados['tratamento'].value_counts().plot.bar()\n",
        "plt.show()\n",
        "#dados['tratamento'].value_counts().plot.pie()\n",
        "#plt.show()\n",
        "\n",
        "dict_tratamento = dados['tratamento'].value_counts().to_dict()\n",
        "n_droga = dict_tratamento['com_droga']\n",
        "n_controle = dict_tratamento['com_controle']\n",
        "percent= ((n_droga-n_controle)/n_controle)*100\n",
        "print( f'\\nTemos {n_droga} amostras com_droga, {n_controle} amostras com_controle. Isso da {percent}% de amostras a mais com_droga!')"
      ],
      "execution_count": 6,
      "outputs": [
        {
          "output_type": "display_data",
          "data": {
            "image/png": "[encoded data removed]",
            "text/plain": [
              "<Figure size 432x288 with 1 Axes>"
            ]
          },
          "metadata": {
            "tags": [],
            "needs_background": "light"
          }
        },
        {
          "output_type": "stream",
          "text": [
            "\n",
            "Temos 21948 amostras com_droga, 1866 amostras com_controle. Isso da 1076.2057877813504% de amostras a mais com_droga!\n"
          ],
          "name": "stdout"
        }
      ]
    },
    {
      "cell_type": "markdown",
      "metadata": {
        "id": "fr5YMFboGjgG"
      },
      "source": [
        "Ao comparar os tratamentos, `com_droga` tem muito mais amostras do que `com_controle`. Entretanto, o tratamento `com_droga` também tem subdivisões, mas o tratamento `com_controle` não, vamos mais fundo nessas subdivisões."
      ]
    },
    {
      "cell_type": "code",
      "metadata": {
        "id": "vt63UO-ctdEx",
        "colab": {
          "base_uri": "https://localhost:8080/"
        },
        "outputId": "5abb2ba2-69f8-4248-8694-f5703b1353f6"
      },
      "source": [
        "drogas_count = dados['droga'].value_counts()\n",
        "print(f'Temos um total de {len(drogas_count)} drogas utilizadas! As 10 mais utilizadas são:\\n')\n",
        "print(drogas_count.head(10))"
      ],
      "execution_count": 7,
      "outputs": [
        {
          "output_type": "stream",
          "text": [
            "Temos um total de 3289 drogas utilizadas! As 10 mais utilizadas são:\n",
            "\n",
            "cacb2b860    1866\n",
            "87d714366     718\n",
            "9f80f3f77     246\n",
            "8b87a7a83     203\n",
            "5628cb3ee     202\n",
            "d08af5d4b     196\n",
            "292ab2c28     194\n",
            "d50f18348     186\n",
            "d1b47f29d     178\n",
            "67c879e79      19\n",
            "Name: droga, dtype: int64\n"
          ],
          "name": "stdout"
        }
      ]
    },
    {
      "cell_type": "markdown",
      "metadata": {
        "id": "1bnMbw2RLZN0"
      },
      "source": [
        "Podemos ver que uma droga se destaca, essa droga é `cacb2b860`. Mas tem algo estranho, os valores dessa droga são exatamente iguais aos do tratamento `com_controle`. Vamos analisar!"
      ]
    },
    {
      "cell_type": "code",
      "metadata": {
        "colab": {
          "base_uri": "https://localhost:8080/"
        },
        "id": "5LtIeazDFVSN",
        "outputId": "5759d76b-74c3-4f63-c849-5174f7f5102f"
      },
      "source": [
        "dados_com_controle = dados[dados['tratamento'] == 'com_controle']\n",
        "dados_com_controle['droga'].value_counts()"
      ],
      "execution_count": 8,
      "outputs": [
        {
          "output_type": "execute_result",
          "data": {
            "text/plain": [
              "cacb2b860    1866\n",
              "Name: droga, dtype: int64"
            ]
          },
          "metadata": {
            "tags": []
          },
          "execution_count": 8
        }
      ]
    },
    {
      "cell_type": "markdown",
      "metadata": {
        "id": "OCzSJaWCFwsI"
      },
      "source": [
        "Todas as amostras `com_controle` tem como droga `cacb2b860`. E por definição, `com_controle` significa sem droga, ou seja, `cacb2b860 == sem droga`. Então, Quando comparado com cada droga separado, `com_controle` tem mais que o dobro de amostras do que o tratamento com a segunda maior droga. Vamos visualizar isso!\n",
        "\n"
      ]
    },
    {
      "cell_type": "code",
      "metadata": {
        "id": "of0c-ZpnMf8W",
        "colab": {
          "base_uri": "https://localhost:8080/",
          "height": 0
        },
        "outputId": "0b6e3300-e896-4cef-b3c3-65fc89419207"
      },
      "source": [
        "dados_para_visualizar = dados.copy()\n",
        "\n",
        "dados_para_visualizar['tratamento'].replace('com_droga','droga',inplace=True)\n",
        "dados_para_visualizar['droga'].replace('cacb2b860','',inplace=True)\n",
        "\n",
        "dados_tratamento_e_drogas = dados_para_visualizar['tratamento'] + '_' + dados_para_visualizar['droga']\n",
        "dados_tratamento_e_drogas.replace('com_controle_','com_controle',inplace=True)\n",
        "\n",
        "dados_tratamento_e_drogas.value_counts()[:10].plot.bar()\n",
        "plt.show()\n",
        "dados_tratamento_e_drogas.value_counts()[:10].plot.pie()\n",
        "plt.show()"
      ],
      "execution_count": 9,
      "outputs": [
        {
          "output_type": "display_data",
          "data": {
            "image/png": "[encoded data removed]",
            "text/plain": [
              "<Figure size 432x288 with 1 Axes>"
            ]
          },
          "metadata": {
            "tags": [],
            "needs_background": "light"
          }
        },
        {
          "output_type": "display_data",
          "data": {
            "image/png": "[encoded data removed]",
            "text/plain": [
              "<Figure size 432x288 with 1 Axes>"
            ]
          },
          "metadata": {
            "tags": []
          }
        }
      ]
    },
    {
      "cell_type": "markdown",
      "metadata": {
        "id": "TySp-fgUSFbx"
      },
      "source": [
        "Ainda notamos uma diferença entre os tratamentos. Mas agora entendemos um pouco mais sobre como os dados estão balanceados. Resumidamente, `com_controle` possui um número menor de variaveis no tratamento comparado com `com_droga`, no agregado, realmente possui um número menor de amostras, mas não é tão desbalanceado quando comparamos com cada subdivisão que `com_droga` possui."
      ]
    },
    {
      "cell_type": "markdown",
      "metadata": {
        "id": "C7w6o0VLtNni"
      },
      "source": [
        "## Desafio 2"
      ]
    },
    {
      "cell_type": "markdown",
      "metadata": {
        "id": "HDuom1beTgzm"
      },
      "source": [
        "**Plotar as 5 últimas linhas da tabela**"
      ]
    },
    {
      "cell_type": "code",
      "metadata": {
        "id": "w-bWT6EXtdaO",
        "colab": {
          "base_uri": "https://localhost:8080/",
          "height": 0
        },
        "outputId": "f2c13ac8-f01f-4fb7-e49c-a2e092c706ba"
      },
      "source": [
        "dados.tail(5)"
      ],
      "execution_count": 10,
      "outputs": [
        {
          "output_type": "execute_result",
          "data": {
            "text/html": [
              "<div>\n",
              "<style scoped>\n",
              "    .dataframe tbody tr th:only-of-type {\n",
              "        vertical-align: middle;\n",
              "    }\n",
              "\n",
              "    .dataframe tbody tr th {\n",
              "        vertical-align: top;\n",
              "    }\n",
              "\n",
              "    .dataframe thead th {\n",
              "        text-align: right;\n",
              "    }\n",
              "</style>\n",
              "<table border=\"1\" class=\"dataframe\">\n",
              "  <thead>\n",
              "    <tr style=\"text-align: right;\">\n",
              "      <th></th>\n",
              "      <th>id</th>\n",
              "      <th>tratamento</th>\n",
              "      <th>tempo</th>\n",
              "      <th>dose</th>\n",
              "      <th>droga</th>\n",
              "      <th>g-0</th>\n",
              "      <th>g-1</th>\n",
              "      <th>...</th>\n",
              "      <th>c-93</th>\n",
              "      <th>c-94</th>\n",
              "      <th>c-95</th>\n",
              "      <th>c-96</th>\n",
              "      <th>c-97</th>\n",
              "      <th>c-98</th>\n",
              "      <th>c-99</th>\n",
              "    </tr>\n",
              "  </thead>\n",
              "  <tbody>\n",
              "    <tr>\n",
              "      <th>23809</th>\n",
              "      <td>id_fffb1ceed</td>\n",
              "      <td>com_droga</td>\n",
              "      <td>24</td>\n",
              "      <td>D2</td>\n",
              "      <td>df1d0a5a1</td>\n",
              "      <td>0.1394</td>\n",
              "      <td>-0.0636</td>\n",
              "      <td>...</td>\n",
              "      <td>0.3434</td>\n",
              "      <td>0.5372</td>\n",
              "      <td>-0.3246</td>\n",
              "      <td>0.0631</td>\n",
              "      <td>0.9171</td>\n",
              "      <td>0.5258</td>\n",
              "      <td>0.4680</td>\n",
              "    </tr>\n",
              "    <tr>\n",
              "      <th>23810</th>\n",
              "      <td>id_fffb70c0c</td>\n",
              "      <td>com_droga</td>\n",
              "      <td>24</td>\n",
              "      <td>D2</td>\n",
              "      <td>ecf3b6b74</td>\n",
              "      <td>-1.3260</td>\n",
              "      <td>0.3478</td>\n",
              "      <td>...</td>\n",
              "      <td>-0.3195</td>\n",
              "      <td>-0.8086</td>\n",
              "      <td>-0.9798</td>\n",
              "      <td>-0.2084</td>\n",
              "      <td>-0.1224</td>\n",
              "      <td>-0.2715</td>\n",
              "      <td>0.3689</td>\n",
              "    </tr>\n",
              "    <tr>\n",
              "      <th>23811</th>\n",
              "      <td>id_fffc1c3f4</td>\n",
              "      <td>com_controle</td>\n",
              "      <td>48</td>\n",
              "      <td>D2</td>\n",
              "      <td>cacb2b860</td>\n",
              "      <td>0.3942</td>\n",
              "      <td>0.3756</td>\n",
              "      <td>...</td>\n",
              "      <td>0.2807</td>\n",
              "      <td>0.4116</td>\n",
              "      <td>0.6422</td>\n",
              "      <td>0.2256</td>\n",
              "      <td>0.7592</td>\n",
              "      <td>0.6656</td>\n",
              "      <td>0.3808</td>\n",
              "    </tr>\n",
              "    <tr>\n",
              "      <th>23812</th>\n",
              "      <td>id_fffcb9e7c</td>\n",
              "      <td>com_droga</td>\n",
              "      <td>24</td>\n",
              "      <td>D1</td>\n",
              "      <td>8b87a7a83</td>\n",
              "      <td>0.6660</td>\n",
              "      <td>0.2324</td>\n",
              "      <td>...</td>\n",
              "      <td>0.1506</td>\n",
              "      <td>1.5230</td>\n",
              "      <td>0.7101</td>\n",
              "      <td>0.1732</td>\n",
              "      <td>0.7015</td>\n",
              "      <td>-0.6290</td>\n",
              "      <td>0.0740</td>\n",
              "    </tr>\n",
              "    <tr>\n",
              "      <th>23813</th>\n",
              "      <td>id_ffffdd77b</td>\n",
              "      <td>com_droga</td>\n",
              "      <td>72</td>\n",
              "      <td>D1</td>\n",
              "      <td>972f41291</td>\n",
              "      <td>-0.8598</td>\n",
              "      <td>1.0240</td>\n",
              "      <td>...</td>\n",
              "      <td>-4.0950</td>\n",
              "      <td>-7.3860</td>\n",
              "      <td>-1.4160</td>\n",
              "      <td>-3.5770</td>\n",
              "      <td>-0.4775</td>\n",
              "      <td>-2.1500</td>\n",
              "      <td>-4.2520</td>\n",
              "    </tr>\n",
              "  </tbody>\n",
              "</table>\n",
              "<p>5 rows × 877 columns</p>\n",
              "</div>"
            ],
            "text/plain": [
              "                 id    tratamento  tempo dose      droga     g-0     g-1  ...  \\\n",
              "23809  id_fffb1ceed     com_droga     24   D2  df1d0a5a1  0.1394 -0.0636  ...   \n",
              "23810  id_fffb70c0c     com_droga     24   D2  ecf3b6b74 -1.3260  0.3478  ...   \n",
              "23811  id_fffc1c3f4  com_controle     48   D2  cacb2b860  0.3942  0.3756  ...   \n",
              "23812  id_fffcb9e7c     com_droga     24   D1  8b87a7a83  0.6660  0.2324  ...   \n",
              "23813  id_ffffdd77b     com_droga     72   D1  972f41291 -0.8598  1.0240  ...   \n",
              "\n",
              "         c-93    c-94    c-95    c-96    c-97    c-98    c-99  \n",
              "23809  0.3434  0.5372 -0.3246  0.0631  0.9171  0.5258  0.4680  \n",
              "23810 -0.3195 -0.8086 -0.9798 -0.2084 -0.1224 -0.2715  0.3689  \n",
              "23811  0.2807  0.4116  0.6422  0.2256  0.7592  0.6656  0.3808  \n",
              "23812  0.1506  1.5230  0.7101  0.1732  0.7015 -0.6290  0.0740  \n",
              "23813 -4.0950 -7.3860 -1.4160 -3.5770 -0.4775 -2.1500 -4.2520  \n",
              "\n",
              "[5 rows x 877 columns]"
            ]
          },
          "metadata": {
            "tags": []
          },
          "execution_count": 10
        }
      ]
    },
    {
      "cell_type": "markdown",
      "metadata": {
        "id": "dXBBjvEatPPq"
      },
      "source": [
        "## Desafio 3"
      ]
    },
    {
      "cell_type": "markdown",
      "metadata": {
        "id": "BS569U2mT_tJ"
      },
      "source": [
        "**Proporção das classes tratamento.**"
      ]
    },
    {
      "cell_type": "code",
      "metadata": {
        "id": "o557iHqYtd5q",
        "colab": {
          "base_uri": "https://localhost:8080/"
        },
        "outputId": "567acaf2-d819-43b5-897c-93ff0f31e3c6"
      },
      "source": [
        "dados['tratamento'].value_counts(normalize = True)\n",
        "#Percentual da com_droga é de aproximadamente 92.2%, com_controle é de 7.8%."
      ],
      "execution_count": 11,
      "outputs": [
        {
          "output_type": "execute_result",
          "data": {
            "text/plain": [
              "com_droga       0.921643\n",
              "com_controle    0.078357\n",
              "Name: tratamento, dtype: float64"
            ]
          },
          "metadata": {
            "tags": []
          },
          "execution_count": 11
        }
      ]
    },
    {
      "cell_type": "markdown",
      "metadata": {
        "id": "nBNEpsXRtPvA"
      },
      "source": [
        "## Desafio 4"
      ]
    },
    {
      "cell_type": "markdown",
      "metadata": {
        "id": "WPuVCmx4UB0R"
      },
      "source": [
        "**Quantas tipos de drogas foram investigados.**"
      ]
    },
    {
      "cell_type": "code",
      "metadata": {
        "id": "RsiBqJg-teS4",
        "colab": {
          "base_uri": "https://localhost:8080/"
        },
        "outputId": "bf40eb4e-dbeb-4290-c032-55def85f02fd"
      },
      "source": [
        "drogas_count = dados[dados['tratamento'] != \"com_controle\"]['droga'].value_counts()\n",
        "print(f'Temos um total de {len(drogas_count)} drogas utilizadas! As 10 mais utilizadas são:\\n')\n",
        "print(drogas_count.head(10))"
      ],
      "execution_count": 12,
      "outputs": [
        {
          "output_type": "stream",
          "text": [
            "Temos um total de 3288 drogas utilizadas! As 10 mais utilizadas são:\n",
            "\n",
            "87d714366    718\n",
            "9f80f3f77    246\n",
            "8b87a7a83    203\n",
            "5628cb3ee    202\n",
            "d08af5d4b    196\n",
            "292ab2c28    194\n",
            "d50f18348    186\n",
            "d1b47f29d    178\n",
            "67c879e79     19\n",
            "83a9ea167     18\n",
            "Name: droga, dtype: int64\n"
          ],
          "name": "stdout"
        }
      ]
    },
    {
      "cell_type": "markdown",
      "metadata": {
        "id": "4lj8rf7itQMC"
      },
      "source": [
        "## Desafio 5"
      ]
    },
    {
      "cell_type": "markdown",
      "metadata": {
        "id": "_lxAg13zUD7l"
      },
      "source": [
        "**Procurar na documentação o método query(pandas).**"
      ]
    },
    {
      "cell_type": "code",
      "metadata": {
        "colab": {
          "base_uri": "https://localhost:8080/"
        },
        "id": "tgjcAaU-Y4Mj",
        "outputId": "e970ddd6-ee29-4617-c0fe-ce998a7f4d9f"
      },
      "source": [
        "dados['tratamento'].value_counts()"
      ],
      "execution_count": 13,
      "outputs": [
        {
          "output_type": "execute_result",
          "data": {
            "text/plain": [
              "com_droga       21948\n",
              "com_controle     1866\n",
              "Name: tratamento, dtype: int64"
            ]
          },
          "metadata": {
            "tags": []
          },
          "execution_count": 13
        }
      ]
    },
    {
      "cell_type": "code",
      "metadata": {
        "colab": {
          "base_uri": "https://localhost:8080/"
        },
        "id": "4WwcgddDY54W",
        "outputId": "7a539218-0109-4097-8757-60216214a428"
      },
      "source": [
        "dados.query('tratamento == \"com_droga\"')['tratamento'].value_counts()"
      ],
      "execution_count": 14,
      "outputs": [
        {
          "output_type": "execute_result",
          "data": {
            "text/plain": [
              "com_droga    21948\n",
              "Name: tratamento, dtype: int64"
            ]
          },
          "metadata": {
            "tags": []
          },
          "execution_count": 14
        }
      ]
    },
    {
      "cell_type": "code",
      "metadata": {
        "id": "RE11ubkoteut",
        "colab": {
          "base_uri": "https://localhost:8080/"
        },
        "outputId": "9c07ce0f-98d9-474e-a9a8-77bbc89a0359"
      },
      "source": [
        "dados.query('tratamento == \"com_droga\" & tempo == 24')['tratamento'].value_counts()"
      ],
      "execution_count": 15,
      "outputs": [
        {
          "output_type": "execute_result",
          "data": {
            "text/plain": [
              "com_droga    7166\n",
              "Name: tratamento, dtype: int64"
            ]
          },
          "metadata": {
            "tags": []
          },
          "execution_count": 15
        }
      ]
    },
    {
      "cell_type": "code",
      "metadata": {
        "colab": {
          "base_uri": "https://localhost:8080/"
        },
        "id": "v4886rCTZBZm",
        "outputId": "b9ef95c2-d163-4e09-cb96-469747cb6455"
      },
      "source": [
        "dados.query('tratamento == \"com_droga\" & tempo == 24 & dose == \"D1\"')['tratamento'].value_counts()"
      ],
      "execution_count": 16,
      "outputs": [
        {
          "output_type": "execute_result",
          "data": {
            "text/plain": [
              "com_droga    3585\n",
              "Name: tratamento, dtype: int64"
            ]
          },
          "metadata": {
            "tags": []
          },
          "execution_count": 16
        }
      ]
    },
    {
      "cell_type": "markdown",
      "metadata": {
        "id": "NUvXihTBtQqH"
      },
      "source": [
        "## Desafio 6"
      ]
    },
    {
      "cell_type": "markdown",
      "metadata": {
        "id": "a_TGGHAMUGJM"
      },
      "source": [
        "**Renomear as colunas tirando o hífen.**"
      ]
    },
    {
      "cell_type": "code",
      "metadata": {
        "id": "GT0C6WIwtfJH",
        "colab": {
          "base_uri": "https://localhost:8080/",
          "height": 233
        },
        "outputId": "789a4241-8800-4650-d60c-ee3146ee5257"
      },
      "source": [
        "dados_sem_hifen = dados.copy()\n",
        "\n",
        "colunas = dados_sem_hifen.columns\n",
        "novas_colunas = [coluna.replace('-', '') for coluna in colunas]\n",
        "\n",
        "dados_sem_hifen.columns = novas_colunas\n",
        "dados_sem_hifen.head()"
      ],
      "execution_count": 17,
      "outputs": [
        {
          "output_type": "execute_result",
          "data": {
            "text/html": [
              "<div>\n",
              "<style scoped>\n",
              "    .dataframe tbody tr th:only-of-type {\n",
              "        vertical-align: middle;\n",
              "    }\n",
              "\n",
              "    .dataframe tbody tr th {\n",
              "        vertical-align: top;\n",
              "    }\n",
              "\n",
              "    .dataframe thead th {\n",
              "        text-align: right;\n",
              "    }\n",
              "</style>\n",
              "<table border=\"1\" class=\"dataframe\">\n",
              "  <thead>\n",
              "    <tr style=\"text-align: right;\">\n",
              "      <th></th>\n",
              "      <th>id</th>\n",
              "      <th>tratamento</th>\n",
              "      <th>tempo</th>\n",
              "      <th>dose</th>\n",
              "      <th>droga</th>\n",
              "      <th>g0</th>\n",
              "      <th>g1</th>\n",
              "      <th>...</th>\n",
              "      <th>c93</th>\n",
              "      <th>c94</th>\n",
              "      <th>c95</th>\n",
              "      <th>c96</th>\n",
              "      <th>c97</th>\n",
              "      <th>c98</th>\n",
              "      <th>c99</th>\n",
              "    </tr>\n",
              "  </thead>\n",
              "  <tbody>\n",
              "    <tr>\n",
              "      <th>0</th>\n",
              "      <td>id_000644bb2</td>\n",
              "      <td>com_droga</td>\n",
              "      <td>24</td>\n",
              "      <td>D1</td>\n",
              "      <td>b68db1d53</td>\n",
              "      <td>1.0620</td>\n",
              "      <td>0.5577</td>\n",
              "      <td>...</td>\n",
              "      <td>0.5523</td>\n",
              "      <td>-0.1912</td>\n",
              "      <td>0.6584</td>\n",
              "      <td>-0.3981</td>\n",
              "      <td>0.2139</td>\n",
              "      <td>0.3801</td>\n",
              "      <td>0.4176</td>\n",
              "    </tr>\n",
              "    <tr>\n",
              "      <th>1</th>\n",
              "      <td>id_000779bfc</td>\n",
              "      <td>com_droga</td>\n",
              "      <td>72</td>\n",
              "      <td>D1</td>\n",
              "      <td>df89a8e5a</td>\n",
              "      <td>0.0743</td>\n",
              "      <td>0.4087</td>\n",
              "      <td>...</td>\n",
              "      <td>0.0230</td>\n",
              "      <td>0.2957</td>\n",
              "      <td>0.4899</td>\n",
              "      <td>0.1522</td>\n",
              "      <td>0.1241</td>\n",
              "      <td>0.6077</td>\n",
              "      <td>0.7371</td>\n",
              "    </tr>\n",
              "    <tr>\n",
              "      <th>2</th>\n",
              "      <td>id_000a6266a</td>\n",
              "      <td>com_droga</td>\n",
              "      <td>48</td>\n",
              "      <td>D1</td>\n",
              "      <td>18bb41b2c</td>\n",
              "      <td>0.6280</td>\n",
              "      <td>0.5817</td>\n",
              "      <td>...</td>\n",
              "      <td>0.0223</td>\n",
              "      <td>-1.3240</td>\n",
              "      <td>-0.3174</td>\n",
              "      <td>-0.6417</td>\n",
              "      <td>-0.2187</td>\n",
              "      <td>-1.4080</td>\n",
              "      <td>0.6931</td>\n",
              "    </tr>\n",
              "    <tr>\n",
              "      <th>3</th>\n",
              "      <td>id_0015fd391</td>\n",
              "      <td>com_droga</td>\n",
              "      <td>48</td>\n",
              "      <td>D1</td>\n",
              "      <td>8c7f86626</td>\n",
              "      <td>-0.5138</td>\n",
              "      <td>-0.2491</td>\n",
              "      <td>...</td>\n",
              "      <td>-1.3780</td>\n",
              "      <td>-0.8632</td>\n",
              "      <td>-1.2880</td>\n",
              "      <td>-1.6210</td>\n",
              "      <td>-0.8784</td>\n",
              "      <td>-0.3876</td>\n",
              "      <td>-0.8154</td>\n",
              "    </tr>\n",
              "    <tr>\n",
              "      <th>4</th>\n",
              "      <td>id_001626bd3</td>\n",
              "      <td>com_droga</td>\n",
              "      <td>72</td>\n",
              "      <td>D2</td>\n",
              "      <td>7cbed3131</td>\n",
              "      <td>-0.3254</td>\n",
              "      <td>-0.4009</td>\n",
              "      <td>...</td>\n",
              "      <td>1.0690</td>\n",
              "      <td>0.5523</td>\n",
              "      <td>-0.3031</td>\n",
              "      <td>0.1094</td>\n",
              "      <td>0.2885</td>\n",
              "      <td>-0.3786</td>\n",
              "      <td>0.7125</td>\n",
              "    </tr>\n",
              "  </tbody>\n",
              "</table>\n",
              "<p>5 rows × 877 columns</p>\n",
              "</div>"
            ],
            "text/plain": [
              "             id tratamento  tempo dose      droga      g0      g1  ...  \\\n",
              "0  id_000644bb2  com_droga     24   D1  b68db1d53  1.0620  0.5577  ...   \n",
              "1  id_000779bfc  com_droga     72   D1  df89a8e5a  0.0743  0.4087  ...   \n",
              "2  id_000a6266a  com_droga     48   D1  18bb41b2c  0.6280  0.5817  ...   \n",
              "3  id_0015fd391  com_droga     48   D1  8c7f86626 -0.5138 -0.2491  ...   \n",
              "4  id_001626bd3  com_droga     72   D2  7cbed3131 -0.3254 -0.4009  ...   \n",
              "\n",
              "      c93     c94     c95     c96     c97     c98     c99  \n",
              "0  0.5523 -0.1912  0.6584 -0.3981  0.2139  0.3801  0.4176  \n",
              "1  0.0230  0.2957  0.4899  0.1522  0.1241  0.6077  0.7371  \n",
              "2  0.0223 -1.3240 -0.3174 -0.6417 -0.2187 -1.4080  0.6931  \n",
              "3 -1.3780 -0.8632 -1.2880 -1.6210 -0.8784 -0.3876 -0.8154  \n",
              "4  1.0690  0.5523 -0.3031  0.1094  0.2885 -0.3786  0.7125  \n",
              "\n",
              "[5 rows x 877 columns]"
            ]
          },
          "metadata": {
            "tags": []
          },
          "execution_count": 17
        }
      ]
    },
    {
      "cell_type": "markdown",
      "metadata": {
        "id": "Z8mBX1zvtR4d"
      },
      "source": [
        "## Desafio 7"
      ]
    },
    {
      "cell_type": "markdown",
      "metadata": {
        "id": "oJ_nrGYFUHz-"
      },
      "source": [
        "**Deixar os gráficos bonitões. (Matplotlib.pyplot)**"
      ]
    },
    {
      "cell_type": "code",
      "metadata": {
        "id": "hWdRp3VKtfYo",
        "colab": {
          "base_uri": "https://localhost:8080/",
          "height": 621
        },
        "outputId": "1da2212e-e19d-4999-8fb0-3ea75e09f709"
      },
      "source": [
        "#Primeiro vamos deixar entendivel o grafico de pizza, pois temos dificuldades de entender a relação entre valores proximos.\n",
        "\n",
        "labels = [str(tempo)+' horas' for tempo in dados['tempo'].value_counts().index]\n",
        "explode = [0.01] * len(labels)\n",
        "plt.figure(figsize=(5,5))\n",
        "plt.pie(dados['tempo'].value_counts(), explode=explode, labels=labels, autopct='%1.1f%%')\n",
        "plt.title('Tempo para análise')\n",
        "plt.show()\n",
        "\n",
        "labels = [tratamento.replace('_', ' ') for tratamento in dados['tratamento'].value_counts().index]\n",
        "explode = [0.03] * len(labels)\n",
        "plt.figure(figsize=(5,5))\n",
        "plt.pie(dados['tratamento'].value_counts(), explode=explode, labels=labels)\n",
        "plt.title('Tratamento')\n",
        "plt.show()"
      ],
      "execution_count": 70,
      "outputs": [
        {
          "output_type": "display_data",
          "data": {
            "image/png": "[encoded data removed]",
            "text/plain": [
              "<Figure size 360x360 with 1 Axes>"
            ]
          },
          "metadata": {
            "tags": []
          }
        },
        {
          "output_type": "display_data",
          "data": {
            "image/png": "[encoded data removed]",
            "text/plain": [
              "<Figure size 360x360 with 1 Axes>"
            ]
          },
          "metadata": {
            "tags": []
          }
        }
      ]
    },
    {
      "cell_type": "code",
      "metadata": {
        "colab": {
          "base_uri": "https://localhost:8080/",
          "height": 281
        },
        "id": "LVd3ekuOe_Ia",
        "outputId": "3cd5a8ee-54eb-4fe3-9748-bc0507ccbaef"
      },
      "source": [
        "#Grafico de barras\n",
        "\n",
        "labels = [str(tempo)+' horas' for tempo in dados['tempo'].value_counts().sort_index().index]\n",
        "values = dados['tempo'].value_counts().sort_index().values\n",
        "indexes = [str(tempo) for tempo in dados['tempo'].value_counts().sort_index().index]\n",
        "\n",
        "fig, ax = plt.subplots()\n",
        "ax.set_title('Tempo para análise')\n",
        "[ax.bar(indexes[idx], values[idx], width=.56, label=label) for idx,label in enumerate(labels)]\n",
        "plt.legend(loc=10)\n",
        "plt.show()"
      ],
      "execution_count": 69,
      "outputs": [
        {
          "output_type": "display_data",
          "data": {
            "image/png": "[encoded data removed]",
            "text/plain": [
              "<Figure size 432x288 with 1 Axes>"
            ]
          },
          "metadata": {
            "tags": [],
            "needs_background": "light"
          }
        }
      ]
    },
    {
      "cell_type": "markdown",
      "metadata": {
        "id": "v3jMWPUftSVf"
      },
      "source": [
        "## Desafio 8"
      ]
    },
    {
      "cell_type": "markdown",
      "metadata": {
        "id": "vO9evN07UJmV"
      },
      "source": [
        "**Resumir o que você aprendeu com os dados.**"
      ]
    },
    {
      "cell_type": "markdown",
      "metadata": {
        "id": "-0c21e_aly0J"
      },
      "source": [
        "**Funções do pandas**\n",
        "\n",
        "``` python\n",
        "# abrir csv\n",
        ".read_csv(path) #abre csv por path local ou link\n",
        ".read_csv(path, compression = 'zip') #abre csv mesmo zipado\n",
        "\n",
        "# visualizar os dados:\n",
        ".head(x) #somente o início do df, x = numero de linhas\n",
        ".tail(x) #somente o final do df, x = numero de linhas\n",
        " \n",
        "# avaliar as variáveis:\n",
        ".shape #formato (linha,coluna)\n",
        ".unique() #valores únicos\n",
        ".value_counts() #frequência\n",
        ".value_counts(normalize = True) #proporção\n",
        ".query() #fazer seleção de dados\n",
        " \n",
        "# plotar gráficos\n",
        ".plot.bar()\n",
        ".plot.pie()\n",
        " \n",
        "# renomear títulos\n",
        "str.replace()\n",
        "```\n",
        "\n",
        "**Entendendo Dados**\n",
        "```\n",
        "- index = valor numérico crescente para cada experimento {0 até 23813}\n",
        "- id = identificador único para cada experimento\n",
        "- tempo = tempo de espera para análise {24, 48, 72}\n",
        "- tratamento = categorias {com_droga, com_controle}\n",
        "- dose = Diferentes Dosagens {D1, D2}\n",
        "- drogas = tipos de substâncias testadas {Drogas com nomes anonimos para não ter viés}\n",
        "- g- = dados de expressão genética, dados normalizados {provavelmente de -2 a 2}\n",
        "- c- correspondem a viabilidade celular. A viabilidade celular é uma medida da proporção de células vivas saudáveis ​​dentro de uma população\n",
        "```\n",
        "\n",
        "**Biologia**\n",
        "\n",
        "- Células são constituídas por uma membrana chamada membrana citoplasmática.\n",
        "- Dentro dessa membrana está contido o núcleo da célula, onde se encontra o DNA celular.\n",
        "- O DNA é formados por fragmentos de genes e estes são responsáveis por sintetizar as proteínas.\n",
        "- As proteínas são sintetizadas fora do núcleo e a informação necessária para a síntese é transportada para fora do núcleo através do RNA mensageiro, produzindo então 4 fitas de RNA. \n",
        "- Essas 4 fitas representam a expressão gênica 1 `(1x == 1 vez)`. Além disso, as células podem receber diferentes estímulos e, dependendo do estímulo, a expressão pode aumentar ou reduzir.\n"
      ]
    }
  ]
}