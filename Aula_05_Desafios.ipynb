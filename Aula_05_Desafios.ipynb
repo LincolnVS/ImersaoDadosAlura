{
  "nbformat": 4,
  "nbformat_minor": 0,
  "metadata": {
    "colab": {
      "name": "Aula 05 Desafios.ipynb",
      "provenance": [],
      "collapsed_sections": [
        "dXBBjvEatPPq"
      ],
      "toc_visible": true,
      "include_colab_link": true
    },
    "kernelspec": {
      "name": "python3",
      "display_name": "Python 3"
    },
    "language_info": {
      "name": "python"
    }
  },
  "cells": [
    {
      "cell_type": "markdown",
      "metadata": {
        "id": "view-in-github",
        "colab_type": "text"
      },
      "source": [
        "<a href=\"https://colab.research.google.com/github/LincolnVS/ImersaoDadosAlura/blob/main/Aula_05_Desafios.ipynb\" target=\"_parent\"><img src=\"https://colab.research.google.com/assets/colab-badge.svg\" alt=\"Open In Colab\"/></a>"
      ]
    },
    {
      "cell_type": "markdown",
      "metadata": {
        "id": "EwJUALlIsl1h"
      },
      "source": [
        "O notebook da Aula 5 foi separado em duas etapas:\n",
        "- [Explicações e Aula Alura](https://github.com/LincolnVS/ImersaoDadosAlura/blob/main/Aula_05.ipynb)\n",
        "- [Desafios e Playground](https://github.com/LincolnVS/ImersaoDadosAlura/blob/main/Aula_05_Desafios.ipynb)\n",
        "\n",
        "*Obs:* Esse é o notebook de **Desafios e Playground**"
      ]
    },
    {
      "cell_type": "markdown",
      "metadata": {
        "id": "sHzw1Vbg0mvQ"
      },
      "source": [
        "### Importando dados"
      ]
    },
    {
      "cell_type": "code",
      "metadata": {
        "id": "OE3iBkaw0gsT"
      },
      "source": [
        "import pandas as pd\n",
        "pd.set_option('display.max_columns', 15) #mostra apenas 15 colunas quando manda plotar tudo (esse dataset tem mais de 800)\n",
        "import matplotlib.pyplot as plt\n",
        "import numpy as np\n",
        "import seaborn as sns\n",
        "plt.style.use(style='seaborn-darkgrid')#('fivethirtyeight')\n",
        "sns.set()\n",
        "\n",
        "url_dados = 'https://github.com/LincolnVS/ImersaoDadosAlura/blob/main/dados/dados_experimentos.zip?raw=true'\n",
        "\n",
        "dados = pd.read_csv(url_dados, compression = 'zip')"
      ],
      "execution_count": 1,
      "outputs": []
    },
    {
      "cell_type": "code",
      "metadata": {
        "colab": {
          "base_uri": "https://localhost:8080/",
          "height": 224
        },
        "id": "0HuOTDYq1CvT",
        "outputId": "5b0c8b94-42e3-4216-feea-f00124ef883d"
      },
      "source": [
        "dados.head()"
      ],
      "execution_count": 37,
      "outputs": [
        {
          "output_type": "execute_result",
          "data": {
            "text/html": [
              "<div>\n",
              "<style scoped>\n",
              "    .dataframe tbody tr th:only-of-type {\n",
              "        vertical-align: middle;\n",
              "    }\n",
              "\n",
              "    .dataframe tbody tr th {\n",
              "        vertical-align: top;\n",
              "    }\n",
              "\n",
              "    .dataframe thead th {\n",
              "        text-align: right;\n",
              "    }\n",
              "</style>\n",
              "<table border=\"1\" class=\"dataframe\">\n",
              "  <thead>\n",
              "    <tr style=\"text-align: right;\">\n",
              "      <th></th>\n",
              "      <th>id</th>\n",
              "      <th>tratamento</th>\n",
              "      <th>tempo</th>\n",
              "      <th>dose</th>\n",
              "      <th>droga</th>\n",
              "      <th>g-0</th>\n",
              "      <th>g-1</th>\n",
              "      <th>...</th>\n",
              "      <th>c-93</th>\n",
              "      <th>c-94</th>\n",
              "      <th>c-95</th>\n",
              "      <th>c-96</th>\n",
              "      <th>c-97</th>\n",
              "      <th>c-98</th>\n",
              "      <th>c-99</th>\n",
              "    </tr>\n",
              "  </thead>\n",
              "  <tbody>\n",
              "    <tr>\n",
              "      <th>0</th>\n",
              "      <td>id_000644bb2</td>\n",
              "      <td>com_droga</td>\n",
              "      <td>24</td>\n",
              "      <td>D1</td>\n",
              "      <td>b68db1d53</td>\n",
              "      <td>1.0620</td>\n",
              "      <td>0.5577</td>\n",
              "      <td>...</td>\n",
              "      <td>0.5523</td>\n",
              "      <td>-0.1912</td>\n",
              "      <td>0.6584</td>\n",
              "      <td>-0.3981</td>\n",
              "      <td>0.2139</td>\n",
              "      <td>0.3801</td>\n",
              "      <td>0.4176</td>\n",
              "    </tr>\n",
              "    <tr>\n",
              "      <th>1</th>\n",
              "      <td>id_000779bfc</td>\n",
              "      <td>com_droga</td>\n",
              "      <td>72</td>\n",
              "      <td>D1</td>\n",
              "      <td>df89a8e5a</td>\n",
              "      <td>0.0743</td>\n",
              "      <td>0.4087</td>\n",
              "      <td>...</td>\n",
              "      <td>0.0230</td>\n",
              "      <td>0.2957</td>\n",
              "      <td>0.4899</td>\n",
              "      <td>0.1522</td>\n",
              "      <td>0.1241</td>\n",
              "      <td>0.6077</td>\n",
              "      <td>0.7371</td>\n",
              "    </tr>\n",
              "    <tr>\n",
              "      <th>2</th>\n",
              "      <td>id_000a6266a</td>\n",
              "      <td>com_droga</td>\n",
              "      <td>48</td>\n",
              "      <td>D1</td>\n",
              "      <td>18bb41b2c</td>\n",
              "      <td>0.6280</td>\n",
              "      <td>0.5817</td>\n",
              "      <td>...</td>\n",
              "      <td>0.0223</td>\n",
              "      <td>-1.3240</td>\n",
              "      <td>-0.3174</td>\n",
              "      <td>-0.6417</td>\n",
              "      <td>-0.2187</td>\n",
              "      <td>-1.4080</td>\n",
              "      <td>0.6931</td>\n",
              "    </tr>\n",
              "    <tr>\n",
              "      <th>3</th>\n",
              "      <td>id_0015fd391</td>\n",
              "      <td>com_droga</td>\n",
              "      <td>48</td>\n",
              "      <td>D1</td>\n",
              "      <td>8c7f86626</td>\n",
              "      <td>-0.5138</td>\n",
              "      <td>-0.2491</td>\n",
              "      <td>...</td>\n",
              "      <td>-1.3780</td>\n",
              "      <td>-0.8632</td>\n",
              "      <td>-1.2880</td>\n",
              "      <td>-1.6210</td>\n",
              "      <td>-0.8784</td>\n",
              "      <td>-0.3876</td>\n",
              "      <td>-0.8154</td>\n",
              "    </tr>\n",
              "    <tr>\n",
              "      <th>4</th>\n",
              "      <td>id_001626bd3</td>\n",
              "      <td>com_droga</td>\n",
              "      <td>72</td>\n",
              "      <td>D2</td>\n",
              "      <td>7cbed3131</td>\n",
              "      <td>-0.3254</td>\n",
              "      <td>-0.4009</td>\n",
              "      <td>...</td>\n",
              "      <td>1.0690</td>\n",
              "      <td>0.5523</td>\n",
              "      <td>-0.3031</td>\n",
              "      <td>0.1094</td>\n",
              "      <td>0.2885</td>\n",
              "      <td>-0.3786</td>\n",
              "      <td>0.7125</td>\n",
              "    </tr>\n",
              "  </tbody>\n",
              "</table>\n",
              "<p>5 rows × 877 columns</p>\n",
              "</div>"
            ],
            "text/plain": [
              "             id tratamento  tempo dose      droga     g-0     g-1  ...  \\\n",
              "0  id_000644bb2  com_droga     24   D1  b68db1d53  1.0620  0.5577  ...   \n",
              "1  id_000779bfc  com_droga     72   D1  df89a8e5a  0.0743  0.4087  ...   \n",
              "2  id_000a6266a  com_droga     48   D1  18bb41b2c  0.6280  0.5817  ...   \n",
              "3  id_0015fd391  com_droga     48   D1  8c7f86626 -0.5138 -0.2491  ...   \n",
              "4  id_001626bd3  com_droga     72   D2  7cbed3131 -0.3254 -0.4009  ...   \n",
              "\n",
              "     c-93    c-94    c-95    c-96    c-97    c-98    c-99  \n",
              "0  0.5523 -0.1912  0.6584 -0.3981  0.2139  0.3801  0.4176  \n",
              "1  0.0230  0.2957  0.4899  0.1522  0.1241  0.6077  0.7371  \n",
              "2  0.0223 -1.3240 -0.3174 -0.6417 -0.2187 -1.4080  0.6931  \n",
              "3 -1.3780 -0.8632 -1.2880 -1.6210 -0.8784 -0.3876 -0.8154  \n",
              "4  1.0690  0.5523 -0.3031  0.1094  0.2885 -0.3786  0.7125  \n",
              "\n",
              "[5 rows x 877 columns]"
            ]
          },
          "metadata": {
            "tags": []
          },
          "execution_count": 37
        }
      ]
    },
    {
      "cell_type": "code",
      "metadata": {
        "colab": {
          "base_uri": "https://localhost:8080/",
          "height": 261
        },
        "id": "KXlYgcAUwIJ4",
        "outputId": "33dbb6f2-0fb2-4a20-e63a-582225741b99"
      },
      "source": [
        "dados_resultados = pd.read_csv('https://github.com/alura-cursos/imersaodados3/blob/main/dados/dados_resultados.csv?raw=true')\n",
        "contagem_moa = dados_resultados.drop('id', axis=1).sum().sort_values(ascending=False)\n",
        "dados_resultados['n_moa'] = dados_resultados.drop('id', axis=1).sum(axis=1)\n",
        "dados_resultados['ativo_moa'] = (dados_resultados['n_moa'] != 0)\n",
        "dados_resultados.head()"
      ],
      "execution_count": 3,
      "outputs": [
        {
          "output_type": "execute_result",
          "data": {
            "text/html": [
              "<div>\n",
              "<style scoped>\n",
              "    .dataframe tbody tr th:only-of-type {\n",
              "        vertical-align: middle;\n",
              "    }\n",
              "\n",
              "    .dataframe tbody tr th {\n",
              "        vertical-align: top;\n",
              "    }\n",
              "\n",
              "    .dataframe thead th {\n",
              "        text-align: right;\n",
              "    }\n",
              "</style>\n",
              "<table border=\"1\" class=\"dataframe\">\n",
              "  <thead>\n",
              "    <tr style=\"text-align: right;\">\n",
              "      <th></th>\n",
              "      <th>id</th>\n",
              "      <th>5-alpha_reductase_inhibitor</th>\n",
              "      <th>11-beta-hsd1_inhibitor</th>\n",
              "      <th>acat_inhibitor</th>\n",
              "      <th>acetylcholine_receptor_agonist</th>\n",
              "      <th>acetylcholine_receptor_antagonist</th>\n",
              "      <th>acetylcholinesterase_inhibitor</th>\n",
              "      <th>...</th>\n",
              "      <th>ubiquitin_specific_protease_inhibitor</th>\n",
              "      <th>vegfr_inhibitor</th>\n",
              "      <th>vitamin_b</th>\n",
              "      <th>vitamin_d_receptor_agonist</th>\n",
              "      <th>wnt_inhibitor</th>\n",
              "      <th>n_moa</th>\n",
              "      <th>ativo_moa</th>\n",
              "    </tr>\n",
              "  </thead>\n",
              "  <tbody>\n",
              "    <tr>\n",
              "      <th>0</th>\n",
              "      <td>id_000644bb2</td>\n",
              "      <td>0</td>\n",
              "      <td>0</td>\n",
              "      <td>0</td>\n",
              "      <td>0</td>\n",
              "      <td>0</td>\n",
              "      <td>0</td>\n",
              "      <td>...</td>\n",
              "      <td>0</td>\n",
              "      <td>0</td>\n",
              "      <td>0</td>\n",
              "      <td>0</td>\n",
              "      <td>0</td>\n",
              "      <td>1</td>\n",
              "      <td>True</td>\n",
              "    </tr>\n",
              "    <tr>\n",
              "      <th>1</th>\n",
              "      <td>id_000779bfc</td>\n",
              "      <td>0</td>\n",
              "      <td>0</td>\n",
              "      <td>0</td>\n",
              "      <td>0</td>\n",
              "      <td>0</td>\n",
              "      <td>0</td>\n",
              "      <td>...</td>\n",
              "      <td>0</td>\n",
              "      <td>0</td>\n",
              "      <td>0</td>\n",
              "      <td>0</td>\n",
              "      <td>0</td>\n",
              "      <td>0</td>\n",
              "      <td>False</td>\n",
              "    </tr>\n",
              "    <tr>\n",
              "      <th>2</th>\n",
              "      <td>id_000a6266a</td>\n",
              "      <td>0</td>\n",
              "      <td>0</td>\n",
              "      <td>0</td>\n",
              "      <td>0</td>\n",
              "      <td>0</td>\n",
              "      <td>0</td>\n",
              "      <td>...</td>\n",
              "      <td>0</td>\n",
              "      <td>0</td>\n",
              "      <td>0</td>\n",
              "      <td>0</td>\n",
              "      <td>0</td>\n",
              "      <td>3</td>\n",
              "      <td>True</td>\n",
              "    </tr>\n",
              "    <tr>\n",
              "      <th>3</th>\n",
              "      <td>id_0015fd391</td>\n",
              "      <td>0</td>\n",
              "      <td>0</td>\n",
              "      <td>0</td>\n",
              "      <td>0</td>\n",
              "      <td>0</td>\n",
              "      <td>0</td>\n",
              "      <td>...</td>\n",
              "      <td>0</td>\n",
              "      <td>0</td>\n",
              "      <td>0</td>\n",
              "      <td>0</td>\n",
              "      <td>0</td>\n",
              "      <td>0</td>\n",
              "      <td>False</td>\n",
              "    </tr>\n",
              "    <tr>\n",
              "      <th>4</th>\n",
              "      <td>id_001626bd3</td>\n",
              "      <td>0</td>\n",
              "      <td>0</td>\n",
              "      <td>0</td>\n",
              "      <td>0</td>\n",
              "      <td>0</td>\n",
              "      <td>0</td>\n",
              "      <td>...</td>\n",
              "      <td>0</td>\n",
              "      <td>0</td>\n",
              "      <td>0</td>\n",
              "      <td>0</td>\n",
              "      <td>0</td>\n",
              "      <td>1</td>\n",
              "      <td>True</td>\n",
              "    </tr>\n",
              "  </tbody>\n",
              "</table>\n",
              "<p>5 rows × 209 columns</p>\n",
              "</div>"
            ],
            "text/plain": [
              "             id  5-alpha_reductase_inhibitor  11-beta-hsd1_inhibitor  \\\n",
              "0  id_000644bb2                            0                       0   \n",
              "1  id_000779bfc                            0                       0   \n",
              "2  id_000a6266a                            0                       0   \n",
              "3  id_0015fd391                            0                       0   \n",
              "4  id_001626bd3                            0                       0   \n",
              "\n",
              "   acat_inhibitor  acetylcholine_receptor_agonist  \\\n",
              "0               0                               0   \n",
              "1               0                               0   \n",
              "2               0                               0   \n",
              "3               0                               0   \n",
              "4               0                               0   \n",
              "\n",
              "   acetylcholine_receptor_antagonist  acetylcholinesterase_inhibitor  ...  \\\n",
              "0                                  0                               0  ...   \n",
              "1                                  0                               0  ...   \n",
              "2                                  0                               0  ...   \n",
              "3                                  0                               0  ...   \n",
              "4                                  0                               0  ...   \n",
              "\n",
              "   ubiquitin_specific_protease_inhibitor  vegfr_inhibitor  vitamin_b  \\\n",
              "0                                      0                0          0   \n",
              "1                                      0                0          0   \n",
              "2                                      0                0          0   \n",
              "3                                      0                0          0   \n",
              "4                                      0                0          0   \n",
              "\n",
              "   vitamin_d_receptor_agonist  wnt_inhibitor  n_moa  ativo_moa  \n",
              "0                           0              0      1       True  \n",
              "1                           0              0      0      False  \n",
              "2                           0              0      3       True  \n",
              "3                           0              0      0      False  \n",
              "4                           0              0      1       True  \n",
              "\n",
              "[5 rows x 209 columns]"
            ]
          },
          "metadata": {
            "tags": []
          },
          "execution_count": 3
        }
      ]
    },
    {
      "cell_type": "code",
      "metadata": {
        "colab": {
          "base_uri": "https://localhost:8080/",
          "height": 224
        },
        "id": "EFHp99CD41ib",
        "outputId": "509e7d7a-9e5f-4602-b9d9-be91630449ca"
      },
      "source": [
        " dados_combinados = pd.merge(dados, dados_resultados[['id','n_moa', 'ativo_moa']], on='id')\n",
        " dados_combinados.head()"
      ],
      "execution_count": 4,
      "outputs": [
        {
          "output_type": "execute_result",
          "data": {
            "text/html": [
              "<div>\n",
              "<style scoped>\n",
              "    .dataframe tbody tr th:only-of-type {\n",
              "        vertical-align: middle;\n",
              "    }\n",
              "\n",
              "    .dataframe tbody tr th {\n",
              "        vertical-align: top;\n",
              "    }\n",
              "\n",
              "    .dataframe thead th {\n",
              "        text-align: right;\n",
              "    }\n",
              "</style>\n",
              "<table border=\"1\" class=\"dataframe\">\n",
              "  <thead>\n",
              "    <tr style=\"text-align: right;\">\n",
              "      <th></th>\n",
              "      <th>id</th>\n",
              "      <th>tratamento</th>\n",
              "      <th>tempo</th>\n",
              "      <th>dose</th>\n",
              "      <th>droga</th>\n",
              "      <th>g-0</th>\n",
              "      <th>g-1</th>\n",
              "      <th>...</th>\n",
              "      <th>c-95</th>\n",
              "      <th>c-96</th>\n",
              "      <th>c-97</th>\n",
              "      <th>c-98</th>\n",
              "      <th>c-99</th>\n",
              "      <th>n_moa</th>\n",
              "      <th>ativo_moa</th>\n",
              "    </tr>\n",
              "  </thead>\n",
              "  <tbody>\n",
              "    <tr>\n",
              "      <th>0</th>\n",
              "      <td>id_000644bb2</td>\n",
              "      <td>com_droga</td>\n",
              "      <td>24</td>\n",
              "      <td>D1</td>\n",
              "      <td>b68db1d53</td>\n",
              "      <td>1.0620</td>\n",
              "      <td>0.5577</td>\n",
              "      <td>...</td>\n",
              "      <td>0.6584</td>\n",
              "      <td>-0.3981</td>\n",
              "      <td>0.2139</td>\n",
              "      <td>0.3801</td>\n",
              "      <td>0.4176</td>\n",
              "      <td>1</td>\n",
              "      <td>True</td>\n",
              "    </tr>\n",
              "    <tr>\n",
              "      <th>1</th>\n",
              "      <td>id_000779bfc</td>\n",
              "      <td>com_droga</td>\n",
              "      <td>72</td>\n",
              "      <td>D1</td>\n",
              "      <td>df89a8e5a</td>\n",
              "      <td>0.0743</td>\n",
              "      <td>0.4087</td>\n",
              "      <td>...</td>\n",
              "      <td>0.4899</td>\n",
              "      <td>0.1522</td>\n",
              "      <td>0.1241</td>\n",
              "      <td>0.6077</td>\n",
              "      <td>0.7371</td>\n",
              "      <td>0</td>\n",
              "      <td>False</td>\n",
              "    </tr>\n",
              "    <tr>\n",
              "      <th>2</th>\n",
              "      <td>id_000a6266a</td>\n",
              "      <td>com_droga</td>\n",
              "      <td>48</td>\n",
              "      <td>D1</td>\n",
              "      <td>18bb41b2c</td>\n",
              "      <td>0.6280</td>\n",
              "      <td>0.5817</td>\n",
              "      <td>...</td>\n",
              "      <td>-0.3174</td>\n",
              "      <td>-0.6417</td>\n",
              "      <td>-0.2187</td>\n",
              "      <td>-1.4080</td>\n",
              "      <td>0.6931</td>\n",
              "      <td>3</td>\n",
              "      <td>True</td>\n",
              "    </tr>\n",
              "    <tr>\n",
              "      <th>3</th>\n",
              "      <td>id_0015fd391</td>\n",
              "      <td>com_droga</td>\n",
              "      <td>48</td>\n",
              "      <td>D1</td>\n",
              "      <td>8c7f86626</td>\n",
              "      <td>-0.5138</td>\n",
              "      <td>-0.2491</td>\n",
              "      <td>...</td>\n",
              "      <td>-1.2880</td>\n",
              "      <td>-1.6210</td>\n",
              "      <td>-0.8784</td>\n",
              "      <td>-0.3876</td>\n",
              "      <td>-0.8154</td>\n",
              "      <td>0</td>\n",
              "      <td>False</td>\n",
              "    </tr>\n",
              "    <tr>\n",
              "      <th>4</th>\n",
              "      <td>id_001626bd3</td>\n",
              "      <td>com_droga</td>\n",
              "      <td>72</td>\n",
              "      <td>D2</td>\n",
              "      <td>7cbed3131</td>\n",
              "      <td>-0.3254</td>\n",
              "      <td>-0.4009</td>\n",
              "      <td>...</td>\n",
              "      <td>-0.3031</td>\n",
              "      <td>0.1094</td>\n",
              "      <td>0.2885</td>\n",
              "      <td>-0.3786</td>\n",
              "      <td>0.7125</td>\n",
              "      <td>1</td>\n",
              "      <td>True</td>\n",
              "    </tr>\n",
              "  </tbody>\n",
              "</table>\n",
              "<p>5 rows × 879 columns</p>\n",
              "</div>"
            ],
            "text/plain": [
              "             id tratamento  tempo dose      droga     g-0     g-1  ...  \\\n",
              "0  id_000644bb2  com_droga     24   D1  b68db1d53  1.0620  0.5577  ...   \n",
              "1  id_000779bfc  com_droga     72   D1  df89a8e5a  0.0743  0.4087  ...   \n",
              "2  id_000a6266a  com_droga     48   D1  18bb41b2c  0.6280  0.5817  ...   \n",
              "3  id_0015fd391  com_droga     48   D1  8c7f86626 -0.5138 -0.2491  ...   \n",
              "4  id_001626bd3  com_droga     72   D2  7cbed3131 -0.3254 -0.4009  ...   \n",
              "\n",
              "     c-95    c-96    c-97    c-98    c-99  n_moa  ativo_moa  \n",
              "0  0.6584 -0.3981  0.2139  0.3801  0.4176      1       True  \n",
              "1  0.4899  0.1522  0.1241  0.6077  0.7371      0      False  \n",
              "2 -0.3174 -0.6417 -0.2187 -1.4080  0.6931      3       True  \n",
              "3 -1.2880 -1.6210 -0.8784 -0.3876 -0.8154      0      False  \n",
              "4 -0.3031  0.1094  0.2885 -0.3786  0.7125      1       True  \n",
              "\n",
              "[5 rows x 879 columns]"
            ]
          },
          "metadata": {
            "tags": []
          },
          "execution_count": 4
        }
      ]
    },
    {
      "cell_type": "markdown",
      "metadata": {
        "id": "al5wXnAVPpIw"
      },
      "source": [
        "### Dummy model\n"
      ]
    },
    {
      "cell_type": "code",
      "metadata": {
        "colab": {
          "base_uri": "https://localhost:8080/"
        },
        "id": "bjD-B6NxP8ZD",
        "outputId": "e77836e0-71b9-475c-ded5-d3c4d8def47e"
      },
      "source": [
        "from sklearn.model_selection import train_test_split\n",
        "\n",
        "x = dados_combinados.select_dtypes('float64')\n",
        "\n",
        "y = dados_combinados['ativo_moa'] \n",
        "x_treino, x_teste, y_treino, y_teste = train_test_split(x, y, test_size = 0.2, stratify=y, random_state=376)"
      ],
      "execution_count": 38,
      "outputs": [
        {
          "output_type": "stream",
          "text": [
            "          g-0     g-1     g-2     g-3     g-4     g-5     g-6  ...    c-93  \\\n",
            "0      1.0620  0.5577 -0.2479 -0.6208 -0.1944 -1.0120 -1.0220  ...  0.5523   \n",
            "1      0.0743  0.4087  0.2991  0.0604  1.0190  0.5207  0.2341  ...  0.0230   \n",
            "2      0.6280  0.5817  1.5540 -0.0764 -0.0323  1.2390  0.1715  ...  0.0223   \n",
            "3     -0.5138 -0.2491 -0.2656  0.5288  4.0620 -0.8095 -1.9590  ... -1.3780   \n",
            "4     -0.3254 -0.4009  0.9700  0.6919  1.4180 -0.8244 -0.2800  ...  1.0690   \n",
            "...       ...     ...     ...     ...     ...     ...     ...  ...     ...   \n",
            "23809  0.1394 -0.0636 -0.1112 -0.5080 -0.4713  0.7201  0.5773  ...  0.3434   \n",
            "23810 -1.3260  0.3478 -0.3743  0.9905 -0.7178  0.6621 -0.2252  ... -0.3195   \n",
            "23811  0.3942  0.3756  0.3109 -0.7389  0.5505 -0.0159 -0.2541  ...  0.2807   \n",
            "23812  0.6660  0.2324  0.4392  0.2044  0.8531 -0.0343  0.0323  ...  0.1506   \n",
            "23813 -0.8598  1.0240 -0.1361  0.7952 -0.3611 -3.6750 -1.2420  ... -4.0950   \n",
            "\n",
            "         c-94    c-95    c-96    c-97    c-98    c-99  \n",
            "0     -0.1912  0.6584 -0.3981  0.2139  0.3801  0.4176  \n",
            "1      0.2957  0.4899  0.1522  0.1241  0.6077  0.7371  \n",
            "2     -1.3240 -0.3174 -0.6417 -0.2187 -1.4080  0.6931  \n",
            "3     -0.8632 -1.2880 -1.6210 -0.8784 -0.3876 -0.8154  \n",
            "4      0.5523 -0.3031  0.1094  0.2885 -0.3786  0.7125  \n",
            "...       ...     ...     ...     ...     ...     ...  \n",
            "23809  0.5372 -0.3246  0.0631  0.9171  0.5258  0.4680  \n",
            "23810 -0.8086 -0.9798 -0.2084 -0.1224 -0.2715  0.3689  \n",
            "23811  0.4116  0.6422  0.2256  0.7592  0.6656  0.3808  \n",
            "23812  1.5230  0.7101  0.1732  0.7015 -0.6290  0.0740  \n",
            "23813 -7.3860 -1.4160 -3.5770 -0.4775 -2.1500 -4.2520  \n",
            "\n",
            "[23814 rows x 872 columns]\n"
          ],
          "name": "stdout"
        }
      ]
    },
    {
      "cell_type": "code",
      "metadata": {
        "colab": {
          "base_uri": "https://localhost:8080/"
        },
        "id": "j8BLWuEQPsAn",
        "outputId": "1084d405-4cad-4006-b339-9db553463bea"
      },
      "source": [
        "from sklearn.dummy import DummyClassifier\n",
        "from sklearn.metrics import accuracy_score\n",
        "\n",
        "for option in [\"stratified\", \"most_frequent\", \"prior\", \"uniform\"]:\n",
        "  modelo_dummy = DummyClassifier(option)\n",
        "  modelo_dummy.fit(x_treino, y_treino)\n",
        "  print(option,modelo_dummy.score(x_teste,y_teste))"
      ],
      "execution_count": 11,
      "outputs": [
        {
          "output_type": "stream",
          "text": [
            "stratified 0.52214990552173\n",
            "most_frequent 0.6067604450976275\n",
            "prior 0.6067604450976275\n",
            "uniform 0.5005248792777661\n"
          ],
          "name": "stdout"
        }
      ]
    },
    {
      "cell_type": "markdown",
      "metadata": {
        "id": "RkSNP-D0svsZ"
      },
      "source": [
        "# Desafios "
      ]
    },
    {
      "cell_type": "markdown",
      "metadata": {
        "id": "X_Lg2XTu20ND"
      },
      "source": [
        "- *Desafio 01*: Tente outros modelos ou mude os parâmetros dos modelos que testamos em aula.\n",
        "- *Desafio 02*: Estude a documentação do Sklearn.\n",
        "- *Desafio 03*: Pesquisar o fluxograma 'Escolhendo o melhor modelo' choosing the right estimator \n",
        "- *Desafio 04*: Teste outras problemas (perguntas). 0, 1 ou +.\n",
        "- *Desafio 05*: Escolha a droga mais utilizada e tente criar um modelo para prever está label. \n",
        "- *Desafio 06*: Resumo do que você aprendeu com os dados"
      ]
    },
    {
      "cell_type": "markdown",
      "metadata": {
        "id": "dLQUCLSjtLiw"
      },
      "source": [
        "## Desafio 1"
      ]
    },
    {
      "cell_type": "markdown",
      "metadata": {
        "id": "aZtIo1Kmz0RR"
      },
      "source": [
        "**Tente outros modelos ou mude os parâmetros dos modelos que testamos em aula.**"
      ]
    },
    {
      "cell_type": "code",
      "metadata": {
        "colab": {
          "base_uri": "https://localhost:8080/"
        },
        "id": "Jb0eBToARL44",
        "outputId": "5d21c68f-1496-4986-c3be-b399ed6d3bcc"
      },
      "source": [
        "from sklearn.linear_model import LogisticRegression\n",
        "modelo_rlogistica = LogisticRegression(penalty='elasticnet',solver='saga', l1_ratio=0.1,max_iter=2000)\n",
        "modelo_rlogistica.fit(x_treino, y_treino)\n",
        "modelo_rlogistica.score(x_teste, y_teste)"
      ],
      "execution_count": 18,
      "outputs": [
        {
          "output_type": "execute_result",
          "data": {
            "text/plain": [
              "0.6269158093638463"
            ]
          },
          "metadata": {
            "tags": []
          },
          "execution_count": 18
        }
      ]
    },
    {
      "cell_type": "code",
      "metadata": {
        "colab": {
          "base_uri": "https://localhost:8080/"
        },
        "id": "c2bn250uXkkQ",
        "outputId": "3f8bc4f1-d6a6-4056-f260-d26deed0d816"
      },
      "source": [
        "modelo_rlogistica = LogisticRegression(max_iter=1000, C=1.5)\n",
        "modelo_rlogistica.fit(x_treino, y_treino)\n",
        "modelo_rlogistica.score(x_teste, y_teste)"
      ],
      "execution_count": 23,
      "outputs": [
        {
          "output_type": "execute_result",
          "data": {
            "text/plain": [
              "0.6260760025194205"
            ]
          },
          "metadata": {
            "tags": []
          },
          "execution_count": 23
        }
      ]
    },
    {
      "cell_type": "code",
      "metadata": {
        "colab": {
          "base_uri": "https://localhost:8080/"
        },
        "id": "NA8sicHpTjVj",
        "outputId": "1aa0fe39-654d-4a4b-b839-b2e39652a8f4"
      },
      "source": [
        "from sklearn.ensemble import GradientBoostingClassifier\n",
        "modelo_gbc = GradientBoostingClassifier()\n",
        "\n",
        "modelo_gbc.fit(x_treino, y_treino)\n",
        "modelo_gbc.score(x_teste, y_teste)"
      ],
      "execution_count": 22,
      "outputs": [
        {
          "output_type": "execute_result",
          "data": {
            "text/plain": [
              "0.6542095318076843"
            ]
          },
          "metadata": {
            "tags": []
          },
          "execution_count": 22
        }
      ]
    },
    {
      "cell_type": "code",
      "metadata": {
        "colab": {
          "base_uri": "https://localhost:8080/"
        },
        "id": "Q6fYYQPcaBz2",
        "outputId": "38627f44-58a3-41e8-aab5-40a7a01fff1e"
      },
      "source": [
        "from sklearn import svm\n",
        "clf = svm.SVC()\n",
        "clf.fit(x_treino, y_treino)\n",
        "clf.score(x_teste, y_teste)"
      ],
      "execution_count": 24,
      "outputs": [
        {
          "output_type": "execute_result",
          "data": {
            "text/plain": [
              "0.6596682762964519"
            ]
          },
          "metadata": {
            "tags": []
          },
          "execution_count": 24
        }
      ]
    },
    {
      "cell_type": "code",
      "metadata": {
        "colab": {
          "base_uri": "https://localhost:8080/"
        },
        "id": "f6KSz-gqapPk",
        "outputId": "fd2b69ef-5b21-4a55-c2d9-35fbfc525189"
      },
      "source": [
        "from sklearn.neighbors import KNeighborsClassifier\n",
        "bagging = KNeighborsClassifier()\n",
        "bagging.fit(x_treino, y_treino)\n",
        "bagging.score(x_teste, y_teste)"
      ],
      "execution_count": 26,
      "outputs": [
        {
          "output_type": "execute_result",
          "data": {
            "text/plain": [
              "0.6187276926306949"
            ]
          },
          "metadata": {
            "tags": []
          },
          "execution_count": 26
        }
      ]
    },
    {
      "cell_type": "markdown",
      "metadata": {
        "id": "C7w6o0VLtNni"
      },
      "source": [
        "## Desafio 2"
      ]
    },
    {
      "cell_type": "markdown",
      "metadata": {
        "id": "HDuom1beTgzm"
      },
      "source": [
        "**Estude a documentação do Sklearn.**"
      ]
    },
    {
      "cell_type": "markdown",
      "metadata": {
        "id": "Ktzgg60zYdBm"
      },
      "source": [
        "https://scikit-learn.org/stable/"
      ]
    },
    {
      "cell_type": "markdown",
      "metadata": {
        "id": "dXBBjvEatPPq"
      },
      "source": [
        "## Desafio 3"
      ]
    },
    {
      "cell_type": "markdown",
      "metadata": {
        "id": "BS569U2mT_tJ"
      },
      "source": [
        "**Pesquisar o fluxograma 'Escolhendo o melhor modelo' choosing the right estimator**"
      ]
    },
    {
      "cell_type": "markdown",
      "metadata": {
        "id": "LLZzFOljZ1nO"
      },
      "source": [
        "https://scikit-learn.org/stable/tutorial/machine_learning_map/index.html"
      ]
    },
    {
      "cell_type": "code",
      "metadata": {
        "colab": {
          "base_uri": "https://localhost:8080/"
        },
        "id": "xzUWi46jhUXX",
        "outputId": "f05ec009-d3d3-4aae-dbff-ceb0380b3659"
      },
      "source": [
        "from sklearn import svm \n",
        "lin_clf = svm.LinearSVC()\n",
        "lin_clf.fit(x_treino, y_treino)\n",
        "lin_clf.score(x_teste, y_teste)"
      ],
      "execution_count": 27,
      "outputs": [
        {
          "output_type": "stream",
          "text": [
            "/usr/local/lib/python3.7/dist-packages/sklearn/svm/_base.py:947: ConvergenceWarning: Liblinear failed to converge, increase the number of iterations.\n",
            "  \"the number of iterations.\", ConvergenceWarning)\n"
          ],
          "name": "stderr"
        },
        {
          "output_type": "execute_result",
          "data": {
            "text/plain": [
              "0.6048708796976695"
            ]
          },
          "metadata": {
            "tags": []
          },
          "execution_count": 27
        }
      ]
    },
    {
      "cell_type": "markdown",
      "metadata": {
        "id": "nBNEpsXRtPvA"
      },
      "source": [
        "## Desafio 4"
      ]
    },
    {
      "cell_type": "markdown",
      "metadata": {
        "id": "WPuVCmx4UB0R"
      },
      "source": [
        "**Teste outras problemas (perguntas). 0, 1 ou +.**"
      ]
    },
    {
      "cell_type": "code",
      "metadata": {
        "id": "jdu4unzhpjaD"
      },
      "source": [
        "dados_resultados['ativo_moa_1'] = (dados_resultados['n_moa'] > 1)\n",
        "\n",
        "dados_resultados['ativo_moa_2'] = (dados_resultados['n_moa'] > 2)\n",
        "\n",
        "dados_resultados['ativo_moa_3'] = (dados_resultados['n_moa'] > 3)\n",
        "\n",
        "dados_resultados['ativo_moa_4'] = (dados_resultados['n_moa'] > 3)"
      ],
      "execution_count": 30,
      "outputs": []
    },
    {
      "cell_type": "code",
      "metadata": {
        "colab": {
          "base_uri": "https://localhost:8080/"
        },
        "id": "zjA5WHK1pxOD",
        "outputId": "809508fa-ad2d-4549-8bb6-0c0429eabedd"
      },
      "source": [
        "x = dados_combinados.select_dtypes('float64')\n",
        "y = dados_resultados['ativo_moa_1'] \n",
        "x_treino, x_teste, y_treino, y_teste = train_test_split(x, y, test_size = 0.2, stratify=y, random_state=376)\n",
        "\n",
        "for option in [\"stratified\", \"most_frequent\", \"prior\", \"uniform\"]:\n",
        "  modelo_dummy = DummyClassifier(option)\n",
        "  modelo_dummy.fit(x_treino, y_treino)\n",
        "  print(option,modelo_dummy.score(x_teste,y_teste))\n",
        "\n",
        "modelo_rlogistica = LogisticRegression(max_iter=1000, C=1.5)\n",
        "modelo_rlogistica.fit(x_treino, y_treino)\n",
        "modelo_rlogistica.score(x_teste, y_teste)  "
      ],
      "execution_count": 32,
      "outputs": [
        {
          "output_type": "stream",
          "text": [
            "stratified 0.8545034642032333\n",
            "most_frequent 0.9195884946462314\n",
            "prior 0.9195884946462314\n",
            "uniform 0.5013646861221919\n"
          ],
          "name": "stdout"
        },
        {
          "output_type": "execute_result",
          "data": {
            "text/plain": [
              "0.9515011547344111"
            ]
          },
          "metadata": {
            "tags": []
          },
          "execution_count": 32
        }
      ]
    },
    {
      "cell_type": "code",
      "metadata": {
        "colab": {
          "base_uri": "https://localhost:8080/"
        },
        "id": "loJbN8GQqdLD",
        "outputId": "6a2a01fb-9f7d-459c-bcc1-a7478e8b6134"
      },
      "source": [
        "x = dados_combinados.select_dtypes('float64')\n",
        "y = dados_resultados['ativo_moa_2'] \n",
        "x_treino, x_teste, y_treino, y_teste = train_test_split(x, y, test_size = 0.2, stratify=y, random_state=376)\n",
        "\n",
        "for option in [\"stratified\", \"most_frequent\", \"prior\", \"uniform\"]:\n",
        "  modelo_dummy = DummyClassifier(option)\n",
        "  modelo_dummy.fit(x_treino, y_treino)\n",
        "  print(option,modelo_dummy.score(x_teste,y_teste))\n",
        "\n",
        "modelo_rlogistica = LogisticRegression(max_iter=1000, C=1.5)\n",
        "modelo_rlogistica.fit(x_treino, y_treino)\n",
        "modelo_rlogistica.score(x_teste, y_teste)  "
      ],
      "execution_count": 33,
      "outputs": [
        {
          "output_type": "stream",
          "text": [
            "stratified 0.9710266638673105\n",
            "most_frequent 0.9842536216670166\n",
            "prior 0.9842536216670166\n",
            "uniform 0.5030442998110435\n"
          ],
          "name": "stdout"
        },
        {
          "output_type": "execute_result",
          "data": {
            "text/plain": [
              "0.9727062775561621"
            ]
          },
          "metadata": {
            "tags": []
          },
          "execution_count": 33
        }
      ]
    },
    {
      "cell_type": "code",
      "metadata": {
        "colab": {
          "base_uri": "https://localhost:8080/"
        },
        "id": "vft3Bsdrqfyi",
        "outputId": "181aba3a-adc2-4697-b228-717356ba0b0d"
      },
      "source": [
        "x = dados_combinados.select_dtypes('float64')\n",
        "y = dados_resultados['ativo_moa_3'] \n",
        "x_treino, x_teste, y_treino, y_teste = train_test_split(x, y, test_size = 0.2, stratify=y, random_state=376)\n",
        "\n",
        "for option in [\"stratified\", \"most_frequent\", \"prior\", \"uniform\"]:\n",
        "  modelo_dummy = DummyClassifier(option)\n",
        "  modelo_dummy.fit(x_treino, y_treino)\n",
        "  print(option,modelo_dummy.score(x_teste,y_teste))\n",
        "\n",
        "modelo_rlogistica = LogisticRegression(max_iter=1000, C=1.5)\n",
        "modelo_rlogistica.fit(x_treino, y_treino)\n",
        "modelo_rlogistica.score(x_teste, y_teste)  "
      ],
      "execution_count": 34,
      "outputs": [
        {
          "output_type": "stream",
          "text": [
            "stratified 0.9922317866890615\n",
            "most_frequent 0.9968507243334033\n",
            "prior 0.9968507243334033\n",
            "uniform 0.5001049758555532\n"
          ],
          "name": "stdout"
        },
        {
          "output_type": "execute_result",
          "data": {
            "text/plain": [
              "0.9960109174889775"
            ]
          },
          "metadata": {
            "tags": []
          },
          "execution_count": 34
        }
      ]
    },
    {
      "cell_type": "code",
      "metadata": {
        "colab": {
          "base_uri": "https://localhost:8080/"
        },
        "id": "tVzeLWquqh4j",
        "outputId": "a6663332-e0f9-4aac-dfee-c110193d5536"
      },
      "source": [
        "x = dados_combinados.select_dtypes('float64')\n",
        "y = dados_resultados['ativo_moa_4'] \n",
        "x_treino, x_teste, y_treino, y_teste = train_test_split(x, y, test_size = 0.2, stratify=y, random_state=376)\n",
        "\n",
        "for option in [\"stratified\", \"most_frequent\", \"prior\", \"uniform\"]:\n",
        "  modelo_dummy = DummyClassifier(option)\n",
        "  modelo_dummy.fit(x_treino, y_treino)\n",
        "  print(option,modelo_dummy.score(x_teste,y_teste))\n",
        "\n",
        "modelo_rlogistica = LogisticRegression(max_iter=1000, C=1.5)\n",
        "modelo_rlogistica.fit(x_treino, y_treino)\n",
        "modelo_rlogistica.score(x_teste, y_teste)  "
      ],
      "execution_count": 35,
      "outputs": [
        {
          "output_type": "stream",
          "text": [
            "stratified 0.9913919798446358\n",
            "most_frequent 0.9968507243334033\n",
            "prior 0.9968507243334033\n",
            "uniform 0.49527608650010496\n"
          ],
          "name": "stdout"
        },
        {
          "output_type": "execute_result",
          "data": {
            "text/plain": [
              "0.9960109174889775"
            ]
          },
          "metadata": {
            "tags": []
          },
          "execution_count": 35
        }
      ]
    },
    {
      "cell_type": "markdown",
      "metadata": {
        "id": "4lj8rf7itQMC"
      },
      "source": [
        "## Desafio 5"
      ]
    },
    {
      "cell_type": "markdown",
      "metadata": {
        "id": "_lxAg13zUD7l"
      },
      "source": [
        "**Escolha a droga mais utilizada e tente criar um modelo para prever está label.**"
      ]
    },
    {
      "cell_type": "code",
      "metadata": {
        "id": "OIRNDzDhpwwB"
      },
      "source": [
        "#Saber se é controle ou não \n",
        "#(praticamente a mesma coisa que responder se é um tipo de droga ou naõ, pois com controle é a \"droga\" mais usada)\n",
        "from sklearn.model_selection import train_test_split\n",
        "\n",
        "x = dados_combinados.select_dtypes('float64')\n",
        "y = (dados['tratamento'] == 'com_controle')\n",
        "\n",
        "x_treino, x_teste, y_treino, y_teste = train_test_split(x, y, test_size = 0.2, stratify=y, random_state=376)"
      ],
      "execution_count": 39,
      "outputs": []
    },
    {
      "cell_type": "code",
      "metadata": {
        "colab": {
          "base_uri": "https://localhost:8080/"
        },
        "id": "Mb4wCie2157s",
        "outputId": "88d7c13b-5b4e-4871-9573-d9c4b6cd10dc"
      },
      "source": [
        "from sklearn.dummy import DummyClassifier\n",
        "from sklearn.metrics import accuracy_score\n",
        "\n",
        "for option in [\"stratified\", \"most_frequent\", \"prior\", \"uniform\"]:\n",
        "  modelo_dummy = DummyClassifier(option)\n",
        "  modelo_dummy.fit(x_treino, y_treino)\n",
        "  print(option,modelo_dummy.score(x_teste,y_teste))\n",
        "  \n",
        "modelo_rlogistica = LogisticRegression(max_iter=1000, C=1.5)\n",
        "modelo_rlogistica.fit(x_treino, y_treino)\n",
        "modelo_rlogistica.score(x_teste, y_teste)"
      ],
      "execution_count": 42,
      "outputs": [
        {
          "output_type": "stream",
          "text": [
            "stratified 0.8624816292252782\n",
            "most_frequent 0.9216880117572959\n",
            "prior 0.9216880117572959\n",
            "uniform 0.5007348309888726\n"
          ],
          "name": "stdout"
        },
        {
          "output_type": "execute_result",
          "data": {
            "text/plain": [
              "0.9542305269787948"
            ]
          },
          "metadata": {
            "tags": []
          },
          "execution_count": 42
        }
      ]
    },
    {
      "cell_type": "markdown",
      "metadata": {
        "id": "NUvXihTBtQqH"
      },
      "source": [
        "## Desafio 6"
      ]
    },
    {
      "cell_type": "markdown",
      "metadata": {
        "id": "a_TGGHAMUGJM"
      },
      "source": [
        "**Resumo do que você aprendeu com os dados**"
      ]
    },
    {
      "cell_type": "markdown",
      "metadata": {
        "id": "9T2OFvyu3tGy"
      },
      "source": [
        "- Testem de forma prática, a aplicação de modelos de Machine Learning para fazer algumas classificações no dataset\n",
        "- Variação de modelos podem influenciar nos resultados obtidos.\n",
        "- Às vezes, conforme os dados “y” estão separados, até modelos mais \"burros\" conseguem ter uma boa acurácia."
      ]
    }
  ]
}