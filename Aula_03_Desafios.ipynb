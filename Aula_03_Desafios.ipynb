{
  "nbformat": 4,
  "nbformat_minor": 0,
  "metadata": {
    "colab": {
      "name": "Aula 03 Desafios.ipynb",
      "provenance": [],
      "collapsed_sections": [],
      "toc_visible": true,
      "include_colab_link": true
    },
    "kernelspec": {
      "name": "python3",
      "display_name": "Python 3"
    },
    "language_info": {
      "name": "python"
    }
  },
  "cells": [
    {
      "cell_type": "markdown",
      "metadata": {
        "id": "view-in-github",
        "colab_type": "text"
      },
      "source": [
        "<a href=\"https://colab.research.google.com/github/LincolnVS/ImersaoDadosAlura/blob/main/Aula_03_Desafios.ipynb\" target=\"_parent\"><img src=\"https://colab.research.google.com/assets/colab-badge.svg\" alt=\"Open In Colab\"/></a>"
      ]
    },
    {
      "cell_type": "markdown",
      "metadata": {
        "id": "EwJUALlIsl1h"
      },
      "source": [
        "O notebook da Aula 3 foi separado em duas etapas:\n",
        "- [Explicações e Aula Alura](https://github.com/LincolnVS/ImersaoDadosAlura/blob/main/Aula_03.ipynb)\n",
        "- [Desafios e Playground](https://github.com/LincolnVS/ImersaoDadosAlura/blob/main/Aula_03_Desafios.ipynb)\n",
        "\n",
        "*Obs:* Esse é o notebook de **Desafios e Playground**"
      ]
    },
    {
      "cell_type": "markdown",
      "metadata": {
        "id": "sHzw1Vbg0mvQ"
      },
      "source": [
        "### Importando dados"
      ]
    },
    {
      "cell_type": "code",
      "metadata": {
        "id": "OE3iBkaw0gsT"
      },
      "source": [
        "import pandas as pd\n",
        "pd.set_option('display.max_columns', 15) #mostra apenas 15 colunas quando manda plotar tudo (esse dataset tem mais de 800)\n",
        "import matplotlib.pyplot as plt\n",
        "import numpy as np\n",
        "import seaborn as sns\n",
        "plt.style.use(style='seaborn-darkgrid')#('fivethirtyeight')\n",
        "sns.set()\n",
        "\n",
        "url_dados = 'https://github.com/LincolnVS/ImersaoDadosAlura/blob/main/dados/dados_experimentos.zip?raw=true'\n",
        "\n",
        "dados = pd.read_csv(url_dados, compression = 'zip')"
      ],
      "execution_count": null,
      "outputs": []
    },
    {
      "cell_type": "markdown",
      "metadata": {
        "id": "RkSNP-D0svsZ"
      },
      "source": [
        "# Desafios "
      ]
    },
    {
      "cell_type": "markdown",
      "metadata": {
        "id": "X_Lg2XTu20ND"
      },
      "source": [
        "- *Desafio 01*: Criar tabelas de frequência com pandas.groupby()\n",
        "- *Desafio 02*: Normalizar o crosstab pela coluna.\n",
        "- *Desafio 03*: Explorar outros agregadores.\n",
        "- *Desafio 04*: Explorar o melt.\n",
        "- *Desafio 05*: Calcular e analisar a correlação entre G e C. Refletir sobre os efeitos biológicos. \n",
        "- *Desafio 06*: Estudar o código que plota a matriz de correlação (heatmap)\n",
        "- *Desafio 07*: Resumo do que você aprendeu com os dados"
      ]
    },
    {
      "cell_type": "markdown",
      "metadata": {
        "id": "dLQUCLSjtLiw"
      },
      "source": [
        "## Desafio 1"
      ]
    },
    {
      "cell_type": "markdown",
      "metadata": {
        "id": "aZtIo1Kmz0RR"
      },
      "source": [
        "**Criar tabelas de frequência com pandas.groupby()**"
      ]
    },
    {
      "cell_type": "markdown",
      "metadata": {
        "id": "C7w6o0VLtNni"
      },
      "source": [
        "## Desafio 2"
      ]
    },
    {
      "cell_type": "markdown",
      "metadata": {
        "id": "HDuom1beTgzm"
      },
      "source": [
        "**Normalizar o crosstab pela coluna.**"
      ]
    },
    {
      "cell_type": "markdown",
      "metadata": {
        "id": "dXBBjvEatPPq"
      },
      "source": [
        "## Desafio 3"
      ]
    },
    {
      "cell_type": "markdown",
      "metadata": {
        "id": "BS569U2mT_tJ"
      },
      "source": [
        "**Explorar outros agregadores.**"
      ]
    },
    {
      "cell_type": "markdown",
      "metadata": {
        "id": "nBNEpsXRtPvA"
      },
      "source": [
        "## Desafio 4"
      ]
    },
    {
      "cell_type": "markdown",
      "metadata": {
        "id": "WPuVCmx4UB0R"
      },
      "source": [
        "**Explorar o melt.**"
      ]
    },
    {
      "cell_type": "markdown",
      "metadata": {
        "id": "4lj8rf7itQMC"
      },
      "source": [
        "## Desafio 5"
      ]
    },
    {
      "cell_type": "markdown",
      "metadata": {
        "id": "_lxAg13zUD7l"
      },
      "source": [
        "**Calcular e analisar a correlação entre G e C. Refletir sobre os efeitos biológicos.**"
      ]
    },
    {
      "cell_type": "markdown",
      "metadata": {
        "id": "NUvXihTBtQqH"
      },
      "source": [
        "## Desafio 6"
      ]
    },
    {
      "cell_type": "markdown",
      "metadata": {
        "id": "a_TGGHAMUGJM"
      },
      "source": [
        "**Estudar o código que plota a matriz de correlação (heatmap)**"
      ]
    },
    {
      "cell_type": "markdown",
      "metadata": {
        "id": "Z8mBX1zvtR4d"
      },
      "source": [
        "## Desafio 7"
      ]
    },
    {
      "cell_type": "markdown",
      "metadata": {
        "id": "oJ_nrGYFUHz-"
      },
      "source": [
        "**Resumo do que você aprendeu com os dados**"
      ]
    }
  ]
}