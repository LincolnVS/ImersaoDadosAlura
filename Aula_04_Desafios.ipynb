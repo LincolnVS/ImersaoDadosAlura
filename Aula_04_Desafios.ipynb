{
  "nbformat": 4,
  "nbformat_minor": 0,
  "metadata": {
    "colab": {
      "name": "Aula 04 Desafios.ipynb",
      "provenance": [],
      "collapsed_sections": [],
      "toc_visible": true,
      "include_colab_link": true
    },
    "kernelspec": {
      "name": "python3",
      "display_name": "Python 3"
    },
    "language_info": {
      "name": "python"
    }
  },
  "cells": [
    {
      "cell_type": "markdown",
      "metadata": {
        "id": "view-in-github",
        "colab_type": "text"
      },
      "source": [
        "<a href=\"https://colab.research.google.com/github/LincolnVS/ImersaoDadosAlura/blob/main/Aula_04_Desafios.ipynb\" target=\"_parent\"><img src=\"https://colab.research.google.com/assets/colab-badge.svg\" alt=\"Open In Colab\"/></a>"
      ]
    },
    {
      "cell_type": "markdown",
      "metadata": {
        "id": "EwJUALlIsl1h"
      },
      "source": [
        "O notebook da Aula 4 foi separado em duas etapas:\n",
        "- [Explicações e Aula Alura](https://github.com/LincolnVS/ImersaoDadosAlura/blob/main/Aula_04.ipynb)\n",
        "- [Desafios e Playground](https://github.com/LincolnVS/ImersaoDadosAlura/blob/main/Aula_04_Desafios.ipynb)\n",
        "\n",
        "*Obs:* Esse é o notebook de **Desafios e Playground**"
      ]
    },
    {
      "cell_type": "markdown",
      "metadata": {
        "id": "sHzw1Vbg0mvQ"
      },
      "source": [
        "### Importando dados"
      ]
    },
    {
      "cell_type": "code",
      "metadata": {
        "id": "OE3iBkaw0gsT"
      },
      "source": [
        "import pandas as pd\n",
        "pd.set_option('display.max_columns', 15) #mostra apenas 15 colunas quando manda plotar tudo (esse dataset tem mais de 800)\n",
        "import matplotlib.pyplot as plt\n",
        "import numpy as np\n",
        "import seaborn as sns\n",
        "plt.style.use(style='seaborn-darkgrid')#('fivethirtyeight')\n",
        "sns.set()\n",
        "\n",
        "url_dados = 'https://github.com/LincolnVS/ImersaoDadosAlura/blob/main/dados/dados_experimentos.zip?raw=true'\n",
        "\n",
        "dados = pd.read_csv(url_dados, compression = 'zip')"
      ],
      "execution_count": 1,
      "outputs": []
    },
    {
      "cell_type": "code",
      "metadata": {
        "colab": {
          "base_uri": "https://localhost:8080/",
          "height": 224
        },
        "id": "0HuOTDYq1CvT",
        "outputId": "43579fac-d2b9-4c68-81f0-e7d2bd99b3b2"
      },
      "source": [
        "dados.head()"
      ],
      "execution_count": 2,
      "outputs": [
        {
          "output_type": "execute_result",
          "data": {
            "text/html": [
              "<div>\n",
              "<style scoped>\n",
              "    .dataframe tbody tr th:only-of-type {\n",
              "        vertical-align: middle;\n",
              "    }\n",
              "\n",
              "    .dataframe tbody tr th {\n",
              "        vertical-align: top;\n",
              "    }\n",
              "\n",
              "    .dataframe thead th {\n",
              "        text-align: right;\n",
              "    }\n",
              "</style>\n",
              "<table border=\"1\" class=\"dataframe\">\n",
              "  <thead>\n",
              "    <tr style=\"text-align: right;\">\n",
              "      <th></th>\n",
              "      <th>id</th>\n",
              "      <th>tratamento</th>\n",
              "      <th>tempo</th>\n",
              "      <th>dose</th>\n",
              "      <th>droga</th>\n",
              "      <th>g-0</th>\n",
              "      <th>g-1</th>\n",
              "      <th>...</th>\n",
              "      <th>c-93</th>\n",
              "      <th>c-94</th>\n",
              "      <th>c-95</th>\n",
              "      <th>c-96</th>\n",
              "      <th>c-97</th>\n",
              "      <th>c-98</th>\n",
              "      <th>c-99</th>\n",
              "    </tr>\n",
              "  </thead>\n",
              "  <tbody>\n",
              "    <tr>\n",
              "      <th>0</th>\n",
              "      <td>id_000644bb2</td>\n",
              "      <td>com_droga</td>\n",
              "      <td>24</td>\n",
              "      <td>D1</td>\n",
              "      <td>b68db1d53</td>\n",
              "      <td>1.0620</td>\n",
              "      <td>0.5577</td>\n",
              "      <td>...</td>\n",
              "      <td>0.5523</td>\n",
              "      <td>-0.1912</td>\n",
              "      <td>0.6584</td>\n",
              "      <td>-0.3981</td>\n",
              "      <td>0.2139</td>\n",
              "      <td>0.3801</td>\n",
              "      <td>0.4176</td>\n",
              "    </tr>\n",
              "    <tr>\n",
              "      <th>1</th>\n",
              "      <td>id_000779bfc</td>\n",
              "      <td>com_droga</td>\n",
              "      <td>72</td>\n",
              "      <td>D1</td>\n",
              "      <td>df89a8e5a</td>\n",
              "      <td>0.0743</td>\n",
              "      <td>0.4087</td>\n",
              "      <td>...</td>\n",
              "      <td>0.0230</td>\n",
              "      <td>0.2957</td>\n",
              "      <td>0.4899</td>\n",
              "      <td>0.1522</td>\n",
              "      <td>0.1241</td>\n",
              "      <td>0.6077</td>\n",
              "      <td>0.7371</td>\n",
              "    </tr>\n",
              "    <tr>\n",
              "      <th>2</th>\n",
              "      <td>id_000a6266a</td>\n",
              "      <td>com_droga</td>\n",
              "      <td>48</td>\n",
              "      <td>D1</td>\n",
              "      <td>18bb41b2c</td>\n",
              "      <td>0.6280</td>\n",
              "      <td>0.5817</td>\n",
              "      <td>...</td>\n",
              "      <td>0.0223</td>\n",
              "      <td>-1.3240</td>\n",
              "      <td>-0.3174</td>\n",
              "      <td>-0.6417</td>\n",
              "      <td>-0.2187</td>\n",
              "      <td>-1.4080</td>\n",
              "      <td>0.6931</td>\n",
              "    </tr>\n",
              "    <tr>\n",
              "      <th>3</th>\n",
              "      <td>id_0015fd391</td>\n",
              "      <td>com_droga</td>\n",
              "      <td>48</td>\n",
              "      <td>D1</td>\n",
              "      <td>8c7f86626</td>\n",
              "      <td>-0.5138</td>\n",
              "      <td>-0.2491</td>\n",
              "      <td>...</td>\n",
              "      <td>-1.3780</td>\n",
              "      <td>-0.8632</td>\n",
              "      <td>-1.2880</td>\n",
              "      <td>-1.6210</td>\n",
              "      <td>-0.8784</td>\n",
              "      <td>-0.3876</td>\n",
              "      <td>-0.8154</td>\n",
              "    </tr>\n",
              "    <tr>\n",
              "      <th>4</th>\n",
              "      <td>id_001626bd3</td>\n",
              "      <td>com_droga</td>\n",
              "      <td>72</td>\n",
              "      <td>D2</td>\n",
              "      <td>7cbed3131</td>\n",
              "      <td>-0.3254</td>\n",
              "      <td>-0.4009</td>\n",
              "      <td>...</td>\n",
              "      <td>1.0690</td>\n",
              "      <td>0.5523</td>\n",
              "      <td>-0.3031</td>\n",
              "      <td>0.1094</td>\n",
              "      <td>0.2885</td>\n",
              "      <td>-0.3786</td>\n",
              "      <td>0.7125</td>\n",
              "    </tr>\n",
              "  </tbody>\n",
              "</table>\n",
              "<p>5 rows × 877 columns</p>\n",
              "</div>"
            ],
            "text/plain": [
              "             id tratamento  tempo dose      droga     g-0     g-1  ...  \\\n",
              "0  id_000644bb2  com_droga     24   D1  b68db1d53  1.0620  0.5577  ...   \n",
              "1  id_000779bfc  com_droga     72   D1  df89a8e5a  0.0743  0.4087  ...   \n",
              "2  id_000a6266a  com_droga     48   D1  18bb41b2c  0.6280  0.5817  ...   \n",
              "3  id_0015fd391  com_droga     48   D1  8c7f86626 -0.5138 -0.2491  ...   \n",
              "4  id_001626bd3  com_droga     72   D2  7cbed3131 -0.3254 -0.4009  ...   \n",
              "\n",
              "     c-93    c-94    c-95    c-96    c-97    c-98    c-99  \n",
              "0  0.5523 -0.1912  0.6584 -0.3981  0.2139  0.3801  0.4176  \n",
              "1  0.0230  0.2957  0.4899  0.1522  0.1241  0.6077  0.7371  \n",
              "2  0.0223 -1.3240 -0.3174 -0.6417 -0.2187 -1.4080  0.6931  \n",
              "3 -1.3780 -0.8632 -1.2880 -1.6210 -0.8784 -0.3876 -0.8154  \n",
              "4  1.0690  0.5523 -0.3031  0.1094  0.2885 -0.3786  0.7125  \n",
              "\n",
              "[5 rows x 877 columns]"
            ]
          },
          "metadata": {
            "tags": []
          },
          "execution_count": 2
        }
      ]
    },
    {
      "cell_type": "code",
      "metadata": {
        "colab": {
          "base_uri": "https://localhost:8080/",
          "height": 261
        },
        "id": "KXlYgcAUwIJ4",
        "outputId": "b1f58f12-4ed8-4b69-cf71-da78a06f317a"
      },
      "source": [
        "dados_resultados = pd.read_csv('https://github.com/alura-cursos/imersaodados3/blob/main/dados/dados_resultados.csv?raw=true')\n",
        "contagem_moa = dados_resultados.drop('id', axis=1).sum().sort_values(ascending=False)\n",
        "dados_resultados['n_moa'] = dados_resultados.drop('id', axis=1).sum(axis=1)\n",
        "dados_resultados['ativo_moa'] = (dados_resultados['n_moa'] != 0)\n",
        "dados_resultados.head()"
      ],
      "execution_count": 84,
      "outputs": [
        {
          "output_type": "execute_result",
          "data": {
            "text/html": [
              "<div>\n",
              "<style scoped>\n",
              "    .dataframe tbody tr th:only-of-type {\n",
              "        vertical-align: middle;\n",
              "    }\n",
              "\n",
              "    .dataframe tbody tr th {\n",
              "        vertical-align: top;\n",
              "    }\n",
              "\n",
              "    .dataframe thead th {\n",
              "        text-align: right;\n",
              "    }\n",
              "</style>\n",
              "<table border=\"1\" class=\"dataframe\">\n",
              "  <thead>\n",
              "    <tr style=\"text-align: right;\">\n",
              "      <th></th>\n",
              "      <th>id</th>\n",
              "      <th>5-alpha_reductase_inhibitor</th>\n",
              "      <th>11-beta-hsd1_inhibitor</th>\n",
              "      <th>acat_inhibitor</th>\n",
              "      <th>acetylcholine_receptor_agonist</th>\n",
              "      <th>acetylcholine_receptor_antagonist</th>\n",
              "      <th>acetylcholinesterase_inhibitor</th>\n",
              "      <th>...</th>\n",
              "      <th>ubiquitin_specific_protease_inhibitor</th>\n",
              "      <th>vegfr_inhibitor</th>\n",
              "      <th>vitamin_b</th>\n",
              "      <th>vitamin_d_receptor_agonist</th>\n",
              "      <th>wnt_inhibitor</th>\n",
              "      <th>n_moa</th>\n",
              "      <th>ativo_moa</th>\n",
              "    </tr>\n",
              "  </thead>\n",
              "  <tbody>\n",
              "    <tr>\n",
              "      <th>0</th>\n",
              "      <td>id_000644bb2</td>\n",
              "      <td>0</td>\n",
              "      <td>0</td>\n",
              "      <td>0</td>\n",
              "      <td>0</td>\n",
              "      <td>0</td>\n",
              "      <td>0</td>\n",
              "      <td>...</td>\n",
              "      <td>0</td>\n",
              "      <td>0</td>\n",
              "      <td>0</td>\n",
              "      <td>0</td>\n",
              "      <td>0</td>\n",
              "      <td>1</td>\n",
              "      <td>True</td>\n",
              "    </tr>\n",
              "    <tr>\n",
              "      <th>1</th>\n",
              "      <td>id_000779bfc</td>\n",
              "      <td>0</td>\n",
              "      <td>0</td>\n",
              "      <td>0</td>\n",
              "      <td>0</td>\n",
              "      <td>0</td>\n",
              "      <td>0</td>\n",
              "      <td>...</td>\n",
              "      <td>0</td>\n",
              "      <td>0</td>\n",
              "      <td>0</td>\n",
              "      <td>0</td>\n",
              "      <td>0</td>\n",
              "      <td>0</td>\n",
              "      <td>False</td>\n",
              "    </tr>\n",
              "    <tr>\n",
              "      <th>2</th>\n",
              "      <td>id_000a6266a</td>\n",
              "      <td>0</td>\n",
              "      <td>0</td>\n",
              "      <td>0</td>\n",
              "      <td>0</td>\n",
              "      <td>0</td>\n",
              "      <td>0</td>\n",
              "      <td>...</td>\n",
              "      <td>0</td>\n",
              "      <td>0</td>\n",
              "      <td>0</td>\n",
              "      <td>0</td>\n",
              "      <td>0</td>\n",
              "      <td>3</td>\n",
              "      <td>True</td>\n",
              "    </tr>\n",
              "    <tr>\n",
              "      <th>3</th>\n",
              "      <td>id_0015fd391</td>\n",
              "      <td>0</td>\n",
              "      <td>0</td>\n",
              "      <td>0</td>\n",
              "      <td>0</td>\n",
              "      <td>0</td>\n",
              "      <td>0</td>\n",
              "      <td>...</td>\n",
              "      <td>0</td>\n",
              "      <td>0</td>\n",
              "      <td>0</td>\n",
              "      <td>0</td>\n",
              "      <td>0</td>\n",
              "      <td>0</td>\n",
              "      <td>False</td>\n",
              "    </tr>\n",
              "    <tr>\n",
              "      <th>4</th>\n",
              "      <td>id_001626bd3</td>\n",
              "      <td>0</td>\n",
              "      <td>0</td>\n",
              "      <td>0</td>\n",
              "      <td>0</td>\n",
              "      <td>0</td>\n",
              "      <td>0</td>\n",
              "      <td>...</td>\n",
              "      <td>0</td>\n",
              "      <td>0</td>\n",
              "      <td>0</td>\n",
              "      <td>0</td>\n",
              "      <td>0</td>\n",
              "      <td>1</td>\n",
              "      <td>True</td>\n",
              "    </tr>\n",
              "  </tbody>\n",
              "</table>\n",
              "<p>5 rows × 209 columns</p>\n",
              "</div>"
            ],
            "text/plain": [
              "             id  5-alpha_reductase_inhibitor  11-beta-hsd1_inhibitor  \\\n",
              "0  id_000644bb2                            0                       0   \n",
              "1  id_000779bfc                            0                       0   \n",
              "2  id_000a6266a                            0                       0   \n",
              "3  id_0015fd391                            0                       0   \n",
              "4  id_001626bd3                            0                       0   \n",
              "\n",
              "   acat_inhibitor  acetylcholine_receptor_agonist  \\\n",
              "0               0                               0   \n",
              "1               0                               0   \n",
              "2               0                               0   \n",
              "3               0                               0   \n",
              "4               0                               0   \n",
              "\n",
              "   acetylcholine_receptor_antagonist  acetylcholinesterase_inhibitor  ...  \\\n",
              "0                                  0                               0  ...   \n",
              "1                                  0                               0  ...   \n",
              "2                                  0                               0  ...   \n",
              "3                                  0                               0  ...   \n",
              "4                                  0                               0  ...   \n",
              "\n",
              "   ubiquitin_specific_protease_inhibitor  vegfr_inhibitor  vitamin_b  \\\n",
              "0                                      0                0          0   \n",
              "1                                      0                0          0   \n",
              "2                                      0                0          0   \n",
              "3                                      0                0          0   \n",
              "4                                      0                0          0   \n",
              "\n",
              "   vitamin_d_receptor_agonist  wnt_inhibitor  n_moa  ativo_moa  \n",
              "0                           0              0      1       True  \n",
              "1                           0              0      0      False  \n",
              "2                           0              0      3       True  \n",
              "3                           0              0      0      False  \n",
              "4                           0              0      1       True  \n",
              "\n",
              "[5 rows x 209 columns]"
            ]
          },
          "metadata": {
            "tags": []
          },
          "execution_count": 84
        }
      ]
    },
    {
      "cell_type": "code",
      "metadata": {
        "colab": {
          "base_uri": "https://localhost:8080/",
          "height": 224
        },
        "id": "EFHp99CD41ib",
        "outputId": "76784b13-ce6a-43ba-eda0-85b3a9f48052"
      },
      "source": [
        " dados_combinados = pd.merge(dados, dados_resultados[['id','n_moa', 'ativo_moa']], on='id')\n",
        " dados_combinados.head()"
      ],
      "execution_count": 85,
      "outputs": [
        {
          "output_type": "execute_result",
          "data": {
            "text/html": [
              "<div>\n",
              "<style scoped>\n",
              "    .dataframe tbody tr th:only-of-type {\n",
              "        vertical-align: middle;\n",
              "    }\n",
              "\n",
              "    .dataframe tbody tr th {\n",
              "        vertical-align: top;\n",
              "    }\n",
              "\n",
              "    .dataframe thead th {\n",
              "        text-align: right;\n",
              "    }\n",
              "</style>\n",
              "<table border=\"1\" class=\"dataframe\">\n",
              "  <thead>\n",
              "    <tr style=\"text-align: right;\">\n",
              "      <th></th>\n",
              "      <th>id</th>\n",
              "      <th>tratamento</th>\n",
              "      <th>tempo</th>\n",
              "      <th>dose</th>\n",
              "      <th>droga</th>\n",
              "      <th>g-0</th>\n",
              "      <th>g-1</th>\n",
              "      <th>...</th>\n",
              "      <th>c-95</th>\n",
              "      <th>c-96</th>\n",
              "      <th>c-97</th>\n",
              "      <th>c-98</th>\n",
              "      <th>c-99</th>\n",
              "      <th>n_moa</th>\n",
              "      <th>ativo_moa</th>\n",
              "    </tr>\n",
              "  </thead>\n",
              "  <tbody>\n",
              "    <tr>\n",
              "      <th>0</th>\n",
              "      <td>id_000644bb2</td>\n",
              "      <td>com_droga</td>\n",
              "      <td>24</td>\n",
              "      <td>D1</td>\n",
              "      <td>b68db1d53</td>\n",
              "      <td>1.0620</td>\n",
              "      <td>0.5577</td>\n",
              "      <td>...</td>\n",
              "      <td>0.6584</td>\n",
              "      <td>-0.3981</td>\n",
              "      <td>0.2139</td>\n",
              "      <td>0.3801</td>\n",
              "      <td>0.4176</td>\n",
              "      <td>1</td>\n",
              "      <td>True</td>\n",
              "    </tr>\n",
              "    <tr>\n",
              "      <th>1</th>\n",
              "      <td>id_000779bfc</td>\n",
              "      <td>com_droga</td>\n",
              "      <td>72</td>\n",
              "      <td>D1</td>\n",
              "      <td>df89a8e5a</td>\n",
              "      <td>0.0743</td>\n",
              "      <td>0.4087</td>\n",
              "      <td>...</td>\n",
              "      <td>0.4899</td>\n",
              "      <td>0.1522</td>\n",
              "      <td>0.1241</td>\n",
              "      <td>0.6077</td>\n",
              "      <td>0.7371</td>\n",
              "      <td>0</td>\n",
              "      <td>False</td>\n",
              "    </tr>\n",
              "    <tr>\n",
              "      <th>2</th>\n",
              "      <td>id_000a6266a</td>\n",
              "      <td>com_droga</td>\n",
              "      <td>48</td>\n",
              "      <td>D1</td>\n",
              "      <td>18bb41b2c</td>\n",
              "      <td>0.6280</td>\n",
              "      <td>0.5817</td>\n",
              "      <td>...</td>\n",
              "      <td>-0.3174</td>\n",
              "      <td>-0.6417</td>\n",
              "      <td>-0.2187</td>\n",
              "      <td>-1.4080</td>\n",
              "      <td>0.6931</td>\n",
              "      <td>3</td>\n",
              "      <td>True</td>\n",
              "    </tr>\n",
              "    <tr>\n",
              "      <th>3</th>\n",
              "      <td>id_0015fd391</td>\n",
              "      <td>com_droga</td>\n",
              "      <td>48</td>\n",
              "      <td>D1</td>\n",
              "      <td>8c7f86626</td>\n",
              "      <td>-0.5138</td>\n",
              "      <td>-0.2491</td>\n",
              "      <td>...</td>\n",
              "      <td>-1.2880</td>\n",
              "      <td>-1.6210</td>\n",
              "      <td>-0.8784</td>\n",
              "      <td>-0.3876</td>\n",
              "      <td>-0.8154</td>\n",
              "      <td>0</td>\n",
              "      <td>False</td>\n",
              "    </tr>\n",
              "    <tr>\n",
              "      <th>4</th>\n",
              "      <td>id_001626bd3</td>\n",
              "      <td>com_droga</td>\n",
              "      <td>72</td>\n",
              "      <td>D2</td>\n",
              "      <td>7cbed3131</td>\n",
              "      <td>-0.3254</td>\n",
              "      <td>-0.4009</td>\n",
              "      <td>...</td>\n",
              "      <td>-0.3031</td>\n",
              "      <td>0.1094</td>\n",
              "      <td>0.2885</td>\n",
              "      <td>-0.3786</td>\n",
              "      <td>0.7125</td>\n",
              "      <td>1</td>\n",
              "      <td>True</td>\n",
              "    </tr>\n",
              "  </tbody>\n",
              "</table>\n",
              "<p>5 rows × 879 columns</p>\n",
              "</div>"
            ],
            "text/plain": [
              "             id tratamento  tempo dose      droga     g-0     g-1  ...  \\\n",
              "0  id_000644bb2  com_droga     24   D1  b68db1d53  1.0620  0.5577  ...   \n",
              "1  id_000779bfc  com_droga     72   D1  df89a8e5a  0.0743  0.4087  ...   \n",
              "2  id_000a6266a  com_droga     48   D1  18bb41b2c  0.6280  0.5817  ...   \n",
              "3  id_0015fd391  com_droga     48   D1  8c7f86626 -0.5138 -0.2491  ...   \n",
              "4  id_001626bd3  com_droga     72   D2  7cbed3131 -0.3254 -0.4009  ...   \n",
              "\n",
              "     c-95    c-96    c-97    c-98    c-99  n_moa  ativo_moa  \n",
              "0  0.6584 -0.3981  0.2139  0.3801  0.4176      1       True  \n",
              "1  0.4899  0.1522  0.1241  0.6077  0.7371      0      False  \n",
              "2 -0.3174 -0.6417 -0.2187 -1.4080  0.6931      3       True  \n",
              "3 -1.2880 -1.6210 -0.8784 -0.3876 -0.8154      0      False  \n",
              "4 -0.3031  0.1094  0.2885 -0.3786  0.7125      1       True  \n",
              "\n",
              "[5 rows x 879 columns]"
            ]
          },
          "metadata": {
            "tags": []
          },
          "execution_count": 85
        }
      ]
    },
    {
      "cell_type": "markdown",
      "metadata": {
        "id": "RkSNP-D0svsZ"
      },
      "source": [
        "# Desafios "
      ]
    },
    {
      "cell_type": "markdown",
      "metadata": {
        "id": "X_Lg2XTu20ND"
      },
      "source": [
        "- *Desafio 01*: Encontrar o top 10, das ações do MOA (inibidor, agonista...)\n",
        "- *Desafio 02*: Criar a coluna eh_controle para quando na linha tratamento == com_controle\n",
        "- *Desafio 03*: Criar três colunas para indicar o tempo 24, 48, 72\n",
        "- *Desafio 04*: Estudar sobre combinações de DF https://pandas.pydata.org/pandas-docs/stable/user_guide/merging.html\n",
        "- *Desafio 05*: Fazer análise mais detalhada considerando tempo e dose, para comparar as distribuições (Escolher uma droga e comparar com controle)\n",
        "- *Desafio 06*: Descobrir se tem algum composto que dependendo da configuração do experimento, ativa ou não ativa algum MOA \n",
        "- *Desafio 07*: Descobrir se tem algum composto que dependendo da configuração do experimento, ativa MOAs diferentes\n",
        "- *Desafio 08*: Resumo do que você aprendeu com os dados"
      ]
    },
    {
      "cell_type": "markdown",
      "metadata": {
        "id": "dLQUCLSjtLiw"
      },
      "source": [
        "## Desafio 1"
      ]
    },
    {
      "cell_type": "markdown",
      "metadata": {
        "id": "aZtIo1Kmz0RR"
      },
      "source": [
        "**Encontrar o top 10, das ações do MOA (inibidor, agonista...)**"
      ]
    },
    {
      "cell_type": "code",
      "metadata": {
        "colab": {
          "base_uri": "https://localhost:8080/",
          "height": 752
        },
        "id": "Q_coU32Xwu2i",
        "outputId": "71424883-2b7f-42c0-ea9e-733a2fe53c8f"
      },
      "source": [
        "#Top possibilidades de ações\n",
        "dados_acoes = dados_resultados.drop(['id', 'n_moa', 'ativo_moa'], axis=1)\n",
        "acao = [linha.split('_')[-1] for linha in dados_acoes.columns]\n",
        "acao = pd.Series(acao)\n",
        "top_10_acao = acao.value_counts()[0:10]\n",
        "print(top_10_acao)\n",
        "\n",
        "plt.figure(figsize=(12,8))\n",
        "ax = sns.barplot(x = top_10_acao.index, y = top_10_acao.values)\n",
        "ax.set(xlabel = 'Tipos de mecânismos de ação', ylabel = 'qnt')\n",
        "ax.set_title('Top 10 mecânismos de ação', fontdict = {'fontsize':20})\n",
        "plt.xticks(rotation=15)\n",
        "plt.plot()"
      ],
      "execution_count": 86,
      "outputs": [
        {
          "output_type": "stream",
          "text": [
            "inhibitor            112\n",
            "antagonist            32\n",
            "agonist               28\n",
            "activator              5\n",
            "agent                  3\n",
            "blocker                2\n",
            "steroid                1\n",
            "stimulant              1\n",
            "antibiotic             1\n",
            "anti-inflammatory      1\n",
            "dtype: int64\n"
          ],
          "name": "stdout"
        },
        {
          "output_type": "execute_result",
          "data": {
            "text/plain": [
              "[]"
            ]
          },
          "metadata": {
            "tags": []
          },
          "execution_count": 86
        },
        {
          "output_type": "display_data",
          "data": {
            "image/png": "[encoded data removed]",
            "text/plain": [
              "<Figure size 864x576 with 1 Axes>"
            ]
          },
          "metadata": {
            "tags": [],
            "needs_background": "light"
          }
        }
      ]
    },
    {
      "cell_type": "code",
      "metadata": {
        "colab": {
          "base_uri": "https://localhost:8080/",
          "height": 769
        },
        "id": "iXfDCA1b1IjK",
        "outputId": "8aa2da06-1f71-4301-817a-4578d62205d2"
      },
      "source": [
        "#Top açoes que mais aconteceram\n",
        "dados_acoes = dados_resultados.drop(['id', 'n_moa', 'ativo_moa'], axis=1)\n",
        "aux_acao = [[colum_name.split('_')[-1], dados_acoes[colum_name].sum()] for colum_name in dados_acoes.columns]\n",
        "acao = pd.DataFrame(aux_acao).groupby(0).agg('sum').sort_values(by=[1],ascending=False)\n",
        "top_10_acao = acao.iloc[0:10,:]\n",
        "print(top_10_acao)\n",
        "\n",
        "plt.figure(figsize=(12,8))\n",
        "ax = sns.barplot(x = top_10_acao.index, y = top_10_acao.values.flatten())\n",
        "ax.set(xlabel = 'Tipos de mecânismos de ação', ylabel = 'qnt (log scale)')\n",
        "ax.set_title('Top 10 mecânismos de ação', fontdict = {'fontsize':20})\n",
        "plt.xticks(rotation=15)\n",
        "ax.set_yscale(\"log\")\n",
        "plt.plot()"
      ],
      "execution_count": 70,
      "outputs": [
        {
          "output_type": "stream",
          "text": [
            "                      1\n",
            "0                      \n",
            "inhibitor          9693\n",
            "antagonist         3449\n",
            "agonist            2330\n",
            "controle           1866\n",
            "blocker             323\n",
            "agent               150\n",
            "activator           115\n",
            "local                80\n",
            "antioxidant          73\n",
            "anti-inflammatory    73\n"
          ],
          "name": "stdout"
        },
        {
          "output_type": "execute_result",
          "data": {
            "text/plain": [
              "[]"
            ]
          },
          "metadata": {
            "tags": []
          },
          "execution_count": 70
        },
        {
          "output_type": "display_data",
          "data": {
            "image/png": "[encoded data removed]",
            "text/plain": [
              "<Figure size 864x576 with 1 Axes>"
            ]
          },
          "metadata": {
            "tags": [],
            "needs_background": "light"
          }
        }
      ]
    },
    {
      "cell_type": "markdown",
      "metadata": {
        "id": "C7w6o0VLtNni"
      },
      "source": [
        "## Desafio 2"
      ]
    },
    {
      "cell_type": "markdown",
      "metadata": {
        "id": "HDuom1beTgzm"
      },
      "source": [
        "**Criar a coluna eh_controle para quando na linha tratamento == com_controle**"
      ]
    },
    {
      "cell_type": "code",
      "metadata": {
        "colab": {
          "base_uri": "https://localhost:8080/",
          "height": 261
        },
        "id": "YSWVdyXw4pGs",
        "outputId": "b16cbbbe-70b5-4720-a4d4-2d820469a585"
      },
      "source": [
        "dados_resultados['eh_controle'] = (dados['tratamento'] == 'com_controle')\n",
        "dados_resultados.head()"
      ],
      "execution_count": 89,
      "outputs": [
        {
          "output_type": "execute_result",
          "data": {
            "text/html": [
              "<div>\n",
              "<style scoped>\n",
              "    .dataframe tbody tr th:only-of-type {\n",
              "        vertical-align: middle;\n",
              "    }\n",
              "\n",
              "    .dataframe tbody tr th {\n",
              "        vertical-align: top;\n",
              "    }\n",
              "\n",
              "    .dataframe thead th {\n",
              "        text-align: right;\n",
              "    }\n",
              "</style>\n",
              "<table border=\"1\" class=\"dataframe\">\n",
              "  <thead>\n",
              "    <tr style=\"text-align: right;\">\n",
              "      <th></th>\n",
              "      <th>id</th>\n",
              "      <th>5-alpha_reductase_inhibitor</th>\n",
              "      <th>11-beta-hsd1_inhibitor</th>\n",
              "      <th>acat_inhibitor</th>\n",
              "      <th>acetylcholine_receptor_agonist</th>\n",
              "      <th>acetylcholine_receptor_antagonist</th>\n",
              "      <th>acetylcholinesterase_inhibitor</th>\n",
              "      <th>...</th>\n",
              "      <th>wnt_inhibitor</th>\n",
              "      <th>n_moa</th>\n",
              "      <th>ativo_moa</th>\n",
              "      <th>tempo_24</th>\n",
              "      <th>tempo_48</th>\n",
              "      <th>tempo_72</th>\n",
              "      <th>eh_controle</th>\n",
              "    </tr>\n",
              "  </thead>\n",
              "  <tbody>\n",
              "    <tr>\n",
              "      <th>0</th>\n",
              "      <td>id_000644bb2</td>\n",
              "      <td>0</td>\n",
              "      <td>0</td>\n",
              "      <td>0</td>\n",
              "      <td>0</td>\n",
              "      <td>0</td>\n",
              "      <td>0</td>\n",
              "      <td>...</td>\n",
              "      <td>0</td>\n",
              "      <td>1</td>\n",
              "      <td>True</td>\n",
              "      <td>1</td>\n",
              "      <td>0</td>\n",
              "      <td>0</td>\n",
              "      <td>False</td>\n",
              "    </tr>\n",
              "    <tr>\n",
              "      <th>1</th>\n",
              "      <td>id_000779bfc</td>\n",
              "      <td>0</td>\n",
              "      <td>0</td>\n",
              "      <td>0</td>\n",
              "      <td>0</td>\n",
              "      <td>0</td>\n",
              "      <td>0</td>\n",
              "      <td>...</td>\n",
              "      <td>0</td>\n",
              "      <td>0</td>\n",
              "      <td>False</td>\n",
              "      <td>0</td>\n",
              "      <td>0</td>\n",
              "      <td>1</td>\n",
              "      <td>False</td>\n",
              "    </tr>\n",
              "    <tr>\n",
              "      <th>2</th>\n",
              "      <td>id_000a6266a</td>\n",
              "      <td>0</td>\n",
              "      <td>0</td>\n",
              "      <td>0</td>\n",
              "      <td>0</td>\n",
              "      <td>0</td>\n",
              "      <td>0</td>\n",
              "      <td>...</td>\n",
              "      <td>0</td>\n",
              "      <td>3</td>\n",
              "      <td>True</td>\n",
              "      <td>0</td>\n",
              "      <td>1</td>\n",
              "      <td>0</td>\n",
              "      <td>False</td>\n",
              "    </tr>\n",
              "    <tr>\n",
              "      <th>3</th>\n",
              "      <td>id_0015fd391</td>\n",
              "      <td>0</td>\n",
              "      <td>0</td>\n",
              "      <td>0</td>\n",
              "      <td>0</td>\n",
              "      <td>0</td>\n",
              "      <td>0</td>\n",
              "      <td>...</td>\n",
              "      <td>0</td>\n",
              "      <td>0</td>\n",
              "      <td>False</td>\n",
              "      <td>0</td>\n",
              "      <td>1</td>\n",
              "      <td>0</td>\n",
              "      <td>False</td>\n",
              "    </tr>\n",
              "    <tr>\n",
              "      <th>4</th>\n",
              "      <td>id_001626bd3</td>\n",
              "      <td>0</td>\n",
              "      <td>0</td>\n",
              "      <td>0</td>\n",
              "      <td>0</td>\n",
              "      <td>0</td>\n",
              "      <td>0</td>\n",
              "      <td>...</td>\n",
              "      <td>0</td>\n",
              "      <td>1</td>\n",
              "      <td>True</td>\n",
              "      <td>0</td>\n",
              "      <td>0</td>\n",
              "      <td>1</td>\n",
              "      <td>False</td>\n",
              "    </tr>\n",
              "  </tbody>\n",
              "</table>\n",
              "<p>5 rows × 213 columns</p>\n",
              "</div>"
            ],
            "text/plain": [
              "             id  5-alpha_reductase_inhibitor  11-beta-hsd1_inhibitor  \\\n",
              "0  id_000644bb2                            0                       0   \n",
              "1  id_000779bfc                            0                       0   \n",
              "2  id_000a6266a                            0                       0   \n",
              "3  id_0015fd391                            0                       0   \n",
              "4  id_001626bd3                            0                       0   \n",
              "\n",
              "   acat_inhibitor  acetylcholine_receptor_agonist  \\\n",
              "0               0                               0   \n",
              "1               0                               0   \n",
              "2               0                               0   \n",
              "3               0                               0   \n",
              "4               0                               0   \n",
              "\n",
              "   acetylcholine_receptor_antagonist  acetylcholinesterase_inhibitor  ...  \\\n",
              "0                                  0                               0  ...   \n",
              "1                                  0                               0  ...   \n",
              "2                                  0                               0  ...   \n",
              "3                                  0                               0  ...   \n",
              "4                                  0                               0  ...   \n",
              "\n",
              "   wnt_inhibitor  n_moa  ativo_moa  tempo_24  tempo_48  tempo_72  eh_controle  \n",
              "0              0      1       True         1         0         0        False  \n",
              "1              0      0      False         0         0         1        False  \n",
              "2              0      3       True         0         1         0        False  \n",
              "3              0      0      False         0         1         0        False  \n",
              "4              0      1       True         0         0         1        False  \n",
              "\n",
              "[5 rows x 213 columns]"
            ]
          },
          "metadata": {
            "tags": []
          },
          "execution_count": 89
        }
      ]
    },
    {
      "cell_type": "markdown",
      "metadata": {
        "id": "dXBBjvEatPPq"
      },
      "source": [
        "## Desafio 3"
      ]
    },
    {
      "cell_type": "markdown",
      "metadata": {
        "id": "BS569U2mT_tJ"
      },
      "source": [
        "**Criar três colunas para indicar o tempo 24, 48, 72**"
      ]
    },
    {
      "cell_type": "code",
      "metadata": {
        "colab": {
          "base_uri": "https://localhost:8080/",
          "height": 261
        },
        "id": "uXI_JPRi4vZ7",
        "outputId": "039e7116-f9a4-4507-d453-745f9b375e38"
      },
      "source": [
        "dados_resultados['tempo_24'] = (dados_combinados['tempo'] == 24)\n",
        "dados_resultados['tempo_48'] = (dados_combinados['tempo'] == 48)\n",
        "dados_resultados['tempo_72'] = (dados_combinados['tempo'] == 72)\n",
        "dados_resultados.head()"
      ],
      "execution_count": 72,
      "outputs": [
        {
          "output_type": "execute_result",
          "data": {
            "text/html": [
              "<div>\n",
              "<style scoped>\n",
              "    .dataframe tbody tr th:only-of-type {\n",
              "        vertical-align: middle;\n",
              "    }\n",
              "\n",
              "    .dataframe tbody tr th {\n",
              "        vertical-align: top;\n",
              "    }\n",
              "\n",
              "    .dataframe thead th {\n",
              "        text-align: right;\n",
              "    }\n",
              "</style>\n",
              "<table border=\"1\" class=\"dataframe\">\n",
              "  <thead>\n",
              "    <tr style=\"text-align: right;\">\n",
              "      <th></th>\n",
              "      <th>id</th>\n",
              "      <th>5-alpha_reductase_inhibitor</th>\n",
              "      <th>11-beta-hsd1_inhibitor</th>\n",
              "      <th>acat_inhibitor</th>\n",
              "      <th>acetylcholine_receptor_agonist</th>\n",
              "      <th>acetylcholine_receptor_antagonist</th>\n",
              "      <th>acetylcholinesterase_inhibitor</th>\n",
              "      <th>...</th>\n",
              "      <th>wnt_inhibitor</th>\n",
              "      <th>n_moa</th>\n",
              "      <th>ativo_moa</th>\n",
              "      <th>eh_controle</th>\n",
              "      <th>tempo_24</th>\n",
              "      <th>tempo_48</th>\n",
              "      <th>tempo_72</th>\n",
              "    </tr>\n",
              "  </thead>\n",
              "  <tbody>\n",
              "    <tr>\n",
              "      <th>0</th>\n",
              "      <td>id_000644bb2</td>\n",
              "      <td>0</td>\n",
              "      <td>0</td>\n",
              "      <td>0</td>\n",
              "      <td>0</td>\n",
              "      <td>0</td>\n",
              "      <td>0</td>\n",
              "      <td>...</td>\n",
              "      <td>0</td>\n",
              "      <td>1</td>\n",
              "      <td>True</td>\n",
              "      <td>False</td>\n",
              "      <td>True</td>\n",
              "      <td>False</td>\n",
              "      <td>False</td>\n",
              "    </tr>\n",
              "    <tr>\n",
              "      <th>1</th>\n",
              "      <td>id_000779bfc</td>\n",
              "      <td>0</td>\n",
              "      <td>0</td>\n",
              "      <td>0</td>\n",
              "      <td>0</td>\n",
              "      <td>0</td>\n",
              "      <td>0</td>\n",
              "      <td>...</td>\n",
              "      <td>0</td>\n",
              "      <td>0</td>\n",
              "      <td>False</td>\n",
              "      <td>False</td>\n",
              "      <td>False</td>\n",
              "      <td>False</td>\n",
              "      <td>True</td>\n",
              "    </tr>\n",
              "    <tr>\n",
              "      <th>2</th>\n",
              "      <td>id_000a6266a</td>\n",
              "      <td>0</td>\n",
              "      <td>0</td>\n",
              "      <td>0</td>\n",
              "      <td>0</td>\n",
              "      <td>0</td>\n",
              "      <td>0</td>\n",
              "      <td>...</td>\n",
              "      <td>0</td>\n",
              "      <td>3</td>\n",
              "      <td>True</td>\n",
              "      <td>False</td>\n",
              "      <td>False</td>\n",
              "      <td>True</td>\n",
              "      <td>False</td>\n",
              "    </tr>\n",
              "    <tr>\n",
              "      <th>3</th>\n",
              "      <td>id_0015fd391</td>\n",
              "      <td>0</td>\n",
              "      <td>0</td>\n",
              "      <td>0</td>\n",
              "      <td>0</td>\n",
              "      <td>0</td>\n",
              "      <td>0</td>\n",
              "      <td>...</td>\n",
              "      <td>0</td>\n",
              "      <td>0</td>\n",
              "      <td>False</td>\n",
              "      <td>False</td>\n",
              "      <td>False</td>\n",
              "      <td>True</td>\n",
              "      <td>False</td>\n",
              "    </tr>\n",
              "    <tr>\n",
              "      <th>4</th>\n",
              "      <td>id_001626bd3</td>\n",
              "      <td>0</td>\n",
              "      <td>0</td>\n",
              "      <td>0</td>\n",
              "      <td>0</td>\n",
              "      <td>0</td>\n",
              "      <td>0</td>\n",
              "      <td>...</td>\n",
              "      <td>0</td>\n",
              "      <td>1</td>\n",
              "      <td>True</td>\n",
              "      <td>False</td>\n",
              "      <td>False</td>\n",
              "      <td>False</td>\n",
              "      <td>True</td>\n",
              "    </tr>\n",
              "  </tbody>\n",
              "</table>\n",
              "<p>5 rows × 213 columns</p>\n",
              "</div>"
            ],
            "text/plain": [
              "             id  5-alpha_reductase_inhibitor  11-beta-hsd1_inhibitor  \\\n",
              "0  id_000644bb2                            0                       0   \n",
              "1  id_000779bfc                            0                       0   \n",
              "2  id_000a6266a                            0                       0   \n",
              "3  id_0015fd391                            0                       0   \n",
              "4  id_001626bd3                            0                       0   \n",
              "\n",
              "   acat_inhibitor  acetylcholine_receptor_agonist  \\\n",
              "0               0                               0   \n",
              "1               0                               0   \n",
              "2               0                               0   \n",
              "3               0                               0   \n",
              "4               0                               0   \n",
              "\n",
              "   acetylcholine_receptor_antagonist  acetylcholinesterase_inhibitor  ...  \\\n",
              "0                                  0                               0  ...   \n",
              "1                                  0                               0  ...   \n",
              "2                                  0                               0  ...   \n",
              "3                                  0                               0  ...   \n",
              "4                                  0                               0  ...   \n",
              "\n",
              "   wnt_inhibitor  n_moa  ativo_moa  eh_controle  tempo_24  tempo_48  tempo_72  \n",
              "0              0      1       True        False      True     False     False  \n",
              "1              0      0      False        False     False     False      True  \n",
              "2              0      3       True        False     False      True     False  \n",
              "3              0      0      False        False     False      True     False  \n",
              "4              0      1       True        False     False     False      True  \n",
              "\n",
              "[5 rows x 213 columns]"
            ]
          },
          "metadata": {
            "tags": []
          },
          "execution_count": 72
        }
      ]
    },
    {
      "cell_type": "code",
      "metadata": {
        "colab": {
          "base_uri": "https://localhost:8080/",
          "height": 261
        },
        "id": "rnmQhQ2g46qK",
        "outputId": "4cde3087-0d70-4f97-ed30-d645f36f42a2"
      },
      "source": [
        "dados_resultados[['tempo_24','tempo_48','tempo_72']] = pd.get_dummies(dados_combinados['tempo'])\n",
        "dados_resultados.head()"
      ],
      "execution_count": 87,
      "outputs": [
        {
          "output_type": "execute_result",
          "data": {
            "text/html": [
              "<div>\n",
              "<style scoped>\n",
              "    .dataframe tbody tr th:only-of-type {\n",
              "        vertical-align: middle;\n",
              "    }\n",
              "\n",
              "    .dataframe tbody tr th {\n",
              "        vertical-align: top;\n",
              "    }\n",
              "\n",
              "    .dataframe thead th {\n",
              "        text-align: right;\n",
              "    }\n",
              "</style>\n",
              "<table border=\"1\" class=\"dataframe\">\n",
              "  <thead>\n",
              "    <tr style=\"text-align: right;\">\n",
              "      <th></th>\n",
              "      <th>id</th>\n",
              "      <th>5-alpha_reductase_inhibitor</th>\n",
              "      <th>11-beta-hsd1_inhibitor</th>\n",
              "      <th>acat_inhibitor</th>\n",
              "      <th>acetylcholine_receptor_agonist</th>\n",
              "      <th>acetylcholine_receptor_antagonist</th>\n",
              "      <th>acetylcholinesterase_inhibitor</th>\n",
              "      <th>...</th>\n",
              "      <th>vitamin_d_receptor_agonist</th>\n",
              "      <th>wnt_inhibitor</th>\n",
              "      <th>n_moa</th>\n",
              "      <th>ativo_moa</th>\n",
              "      <th>tempo_24</th>\n",
              "      <th>tempo_48</th>\n",
              "      <th>tempo_72</th>\n",
              "    </tr>\n",
              "  </thead>\n",
              "  <tbody>\n",
              "    <tr>\n",
              "      <th>0</th>\n",
              "      <td>id_000644bb2</td>\n",
              "      <td>0</td>\n",
              "      <td>0</td>\n",
              "      <td>0</td>\n",
              "      <td>0</td>\n",
              "      <td>0</td>\n",
              "      <td>0</td>\n",
              "      <td>...</td>\n",
              "      <td>0</td>\n",
              "      <td>0</td>\n",
              "      <td>1</td>\n",
              "      <td>True</td>\n",
              "      <td>1</td>\n",
              "      <td>0</td>\n",
              "      <td>0</td>\n",
              "    </tr>\n",
              "    <tr>\n",
              "      <th>1</th>\n",
              "      <td>id_000779bfc</td>\n",
              "      <td>0</td>\n",
              "      <td>0</td>\n",
              "      <td>0</td>\n",
              "      <td>0</td>\n",
              "      <td>0</td>\n",
              "      <td>0</td>\n",
              "      <td>...</td>\n",
              "      <td>0</td>\n",
              "      <td>0</td>\n",
              "      <td>0</td>\n",
              "      <td>False</td>\n",
              "      <td>0</td>\n",
              "      <td>0</td>\n",
              "      <td>1</td>\n",
              "    </tr>\n",
              "    <tr>\n",
              "      <th>2</th>\n",
              "      <td>id_000a6266a</td>\n",
              "      <td>0</td>\n",
              "      <td>0</td>\n",
              "      <td>0</td>\n",
              "      <td>0</td>\n",
              "      <td>0</td>\n",
              "      <td>0</td>\n",
              "      <td>...</td>\n",
              "      <td>0</td>\n",
              "      <td>0</td>\n",
              "      <td>3</td>\n",
              "      <td>True</td>\n",
              "      <td>0</td>\n",
              "      <td>1</td>\n",
              "      <td>0</td>\n",
              "    </tr>\n",
              "    <tr>\n",
              "      <th>3</th>\n",
              "      <td>id_0015fd391</td>\n",
              "      <td>0</td>\n",
              "      <td>0</td>\n",
              "      <td>0</td>\n",
              "      <td>0</td>\n",
              "      <td>0</td>\n",
              "      <td>0</td>\n",
              "      <td>...</td>\n",
              "      <td>0</td>\n",
              "      <td>0</td>\n",
              "      <td>0</td>\n",
              "      <td>False</td>\n",
              "      <td>0</td>\n",
              "      <td>1</td>\n",
              "      <td>0</td>\n",
              "    </tr>\n",
              "    <tr>\n",
              "      <th>4</th>\n",
              "      <td>id_001626bd3</td>\n",
              "      <td>0</td>\n",
              "      <td>0</td>\n",
              "      <td>0</td>\n",
              "      <td>0</td>\n",
              "      <td>0</td>\n",
              "      <td>0</td>\n",
              "      <td>...</td>\n",
              "      <td>0</td>\n",
              "      <td>0</td>\n",
              "      <td>1</td>\n",
              "      <td>True</td>\n",
              "      <td>0</td>\n",
              "      <td>0</td>\n",
              "      <td>1</td>\n",
              "    </tr>\n",
              "  </tbody>\n",
              "</table>\n",
              "<p>5 rows × 212 columns</p>\n",
              "</div>"
            ],
            "text/plain": [
              "             id  5-alpha_reductase_inhibitor  11-beta-hsd1_inhibitor  \\\n",
              "0  id_000644bb2                            0                       0   \n",
              "1  id_000779bfc                            0                       0   \n",
              "2  id_000a6266a                            0                       0   \n",
              "3  id_0015fd391                            0                       0   \n",
              "4  id_001626bd3                            0                       0   \n",
              "\n",
              "   acat_inhibitor  acetylcholine_receptor_agonist  \\\n",
              "0               0                               0   \n",
              "1               0                               0   \n",
              "2               0                               0   \n",
              "3               0                               0   \n",
              "4               0                               0   \n",
              "\n",
              "   acetylcholine_receptor_antagonist  acetylcholinesterase_inhibitor  ...  \\\n",
              "0                                  0                               0  ...   \n",
              "1                                  0                               0  ...   \n",
              "2                                  0                               0  ...   \n",
              "3                                  0                               0  ...   \n",
              "4                                  0                               0  ...   \n",
              "\n",
              "   vitamin_d_receptor_agonist  wnt_inhibitor  n_moa  ativo_moa  tempo_24  \\\n",
              "0                           0              0      1       True         1   \n",
              "1                           0              0      0      False         0   \n",
              "2                           0              0      3       True         0   \n",
              "3                           0              0      0      False         0   \n",
              "4                           0              0      1       True         0   \n",
              "\n",
              "   tempo_48  tempo_72  \n",
              "0         0         0  \n",
              "1         0         1  \n",
              "2         1         0  \n",
              "3         1         0  \n",
              "4         0         1  \n",
              "\n",
              "[5 rows x 212 columns]"
            ]
          },
          "metadata": {
            "tags": []
          },
          "execution_count": 87
        }
      ]
    },
    {
      "cell_type": "markdown",
      "metadata": {
        "id": "nBNEpsXRtPvA"
      },
      "source": [
        "## Desafio 4"
      ]
    },
    {
      "cell_type": "markdown",
      "metadata": {
        "id": "WPuVCmx4UB0R"
      },
      "source": [
        "**Estudar sobre combinações de DF https://pandas.pydata.org/pandas-docs/stable/user_guide/merging.html**"
      ]
    },
    {
      "cell_type": "code",
      "metadata": {
        "colab": {
          "base_uri": "https://localhost:8080/",
          "height": 244
        },
        "id": "DPzHArJo6-ij",
        "outputId": "0dda230d-be09-4946-fd27-830ec0b27679"
      },
      "source": [
        "result = pd.concat([dados, dados_resultados])\n",
        "result.head()"
      ],
      "execution_count": 91,
      "outputs": [
        {
          "output_type": "execute_result",
          "data": {
            "text/html": [
              "<div>\n",
              "<style scoped>\n",
              "    .dataframe tbody tr th:only-of-type {\n",
              "        vertical-align: middle;\n",
              "    }\n",
              "\n",
              "    .dataframe tbody tr th {\n",
              "        vertical-align: top;\n",
              "    }\n",
              "\n",
              "    .dataframe thead th {\n",
              "        text-align: right;\n",
              "    }\n",
              "</style>\n",
              "<table border=\"1\" class=\"dataframe\">\n",
              "  <thead>\n",
              "    <tr style=\"text-align: right;\">\n",
              "      <th></th>\n",
              "      <th>id</th>\n",
              "      <th>tratamento</th>\n",
              "      <th>tempo</th>\n",
              "      <th>dose</th>\n",
              "      <th>droga</th>\n",
              "      <th>g-0</th>\n",
              "      <th>g-1</th>\n",
              "      <th>...</th>\n",
              "      <th>wnt_inhibitor</th>\n",
              "      <th>n_moa</th>\n",
              "      <th>ativo_moa</th>\n",
              "      <th>tempo_24</th>\n",
              "      <th>tempo_48</th>\n",
              "      <th>tempo_72</th>\n",
              "      <th>eh_controle</th>\n",
              "    </tr>\n",
              "  </thead>\n",
              "  <tbody>\n",
              "    <tr>\n",
              "      <th>0</th>\n",
              "      <td>id_000644bb2</td>\n",
              "      <td>com_droga</td>\n",
              "      <td>24.0</td>\n",
              "      <td>D1</td>\n",
              "      <td>b68db1d53</td>\n",
              "      <td>1.0620</td>\n",
              "      <td>0.5577</td>\n",
              "      <td>...</td>\n",
              "      <td>NaN</td>\n",
              "      <td>NaN</td>\n",
              "      <td>NaN</td>\n",
              "      <td>NaN</td>\n",
              "      <td>NaN</td>\n",
              "      <td>NaN</td>\n",
              "      <td>NaN</td>\n",
              "    </tr>\n",
              "    <tr>\n",
              "      <th>1</th>\n",
              "      <td>id_000779bfc</td>\n",
              "      <td>com_droga</td>\n",
              "      <td>72.0</td>\n",
              "      <td>D1</td>\n",
              "      <td>df89a8e5a</td>\n",
              "      <td>0.0743</td>\n",
              "      <td>0.4087</td>\n",
              "      <td>...</td>\n",
              "      <td>NaN</td>\n",
              "      <td>NaN</td>\n",
              "      <td>NaN</td>\n",
              "      <td>NaN</td>\n",
              "      <td>NaN</td>\n",
              "      <td>NaN</td>\n",
              "      <td>NaN</td>\n",
              "    </tr>\n",
              "    <tr>\n",
              "      <th>2</th>\n",
              "      <td>id_000a6266a</td>\n",
              "      <td>com_droga</td>\n",
              "      <td>48.0</td>\n",
              "      <td>D1</td>\n",
              "      <td>18bb41b2c</td>\n",
              "      <td>0.6280</td>\n",
              "      <td>0.5817</td>\n",
              "      <td>...</td>\n",
              "      <td>NaN</td>\n",
              "      <td>NaN</td>\n",
              "      <td>NaN</td>\n",
              "      <td>NaN</td>\n",
              "      <td>NaN</td>\n",
              "      <td>NaN</td>\n",
              "      <td>NaN</td>\n",
              "    </tr>\n",
              "    <tr>\n",
              "      <th>3</th>\n",
              "      <td>id_0015fd391</td>\n",
              "      <td>com_droga</td>\n",
              "      <td>48.0</td>\n",
              "      <td>D1</td>\n",
              "      <td>8c7f86626</td>\n",
              "      <td>-0.5138</td>\n",
              "      <td>-0.2491</td>\n",
              "      <td>...</td>\n",
              "      <td>NaN</td>\n",
              "      <td>NaN</td>\n",
              "      <td>NaN</td>\n",
              "      <td>NaN</td>\n",
              "      <td>NaN</td>\n",
              "      <td>NaN</td>\n",
              "      <td>NaN</td>\n",
              "    </tr>\n",
              "    <tr>\n",
              "      <th>4</th>\n",
              "      <td>id_001626bd3</td>\n",
              "      <td>com_droga</td>\n",
              "      <td>72.0</td>\n",
              "      <td>D2</td>\n",
              "      <td>7cbed3131</td>\n",
              "      <td>-0.3254</td>\n",
              "      <td>-0.4009</td>\n",
              "      <td>...</td>\n",
              "      <td>NaN</td>\n",
              "      <td>NaN</td>\n",
              "      <td>NaN</td>\n",
              "      <td>NaN</td>\n",
              "      <td>NaN</td>\n",
              "      <td>NaN</td>\n",
              "      <td>NaN</td>\n",
              "    </tr>\n",
              "  </tbody>\n",
              "</table>\n",
              "<p>5 rows × 1089 columns</p>\n",
              "</div>"
            ],
            "text/plain": [
              "             id tratamento  tempo dose      droga     g-0     g-1  ...  \\\n",
              "0  id_000644bb2  com_droga   24.0   D1  b68db1d53  1.0620  0.5577  ...   \n",
              "1  id_000779bfc  com_droga   72.0   D1  df89a8e5a  0.0743  0.4087  ...   \n",
              "2  id_000a6266a  com_droga   48.0   D1  18bb41b2c  0.6280  0.5817  ...   \n",
              "3  id_0015fd391  com_droga   48.0   D1  8c7f86626 -0.5138 -0.2491  ...   \n",
              "4  id_001626bd3  com_droga   72.0   D2  7cbed3131 -0.3254 -0.4009  ...   \n",
              "\n",
              "   wnt_inhibitor  n_moa  ativo_moa  tempo_24  tempo_48  tempo_72  eh_controle  \n",
              "0            NaN    NaN        NaN       NaN       NaN       NaN          NaN  \n",
              "1            NaN    NaN        NaN       NaN       NaN       NaN          NaN  \n",
              "2            NaN    NaN        NaN       NaN       NaN       NaN          NaN  \n",
              "3            NaN    NaN        NaN       NaN       NaN       NaN          NaN  \n",
              "4            NaN    NaN        NaN       NaN       NaN       NaN          NaN  \n",
              "\n",
              "[5 rows x 1089 columns]"
            ]
          },
          "metadata": {
            "tags": []
          },
          "execution_count": 91
        }
      ]
    },
    {
      "cell_type": "code",
      "metadata": {
        "colab": {
          "base_uri": "https://localhost:8080/",
          "height": 195
        },
        "id": "w_-MCkYo7jBD",
        "outputId": "58af01c7-3b15-4283-9272-5de1b9d6c200"
      },
      "source": [
        "result = pd.concat([dados, dados_resultados], join=\"inner\") \n",
        "result.head()\n",
        "#unica coisa igual entre os 2 é o id ahhaha"
      ],
      "execution_count": 93,
      "outputs": [
        {
          "output_type": "execute_result",
          "data": {
            "text/html": [
              "<div>\n",
              "<style scoped>\n",
              "    .dataframe tbody tr th:only-of-type {\n",
              "        vertical-align: middle;\n",
              "    }\n",
              "\n",
              "    .dataframe tbody tr th {\n",
              "        vertical-align: top;\n",
              "    }\n",
              "\n",
              "    .dataframe thead th {\n",
              "        text-align: right;\n",
              "    }\n",
              "</style>\n",
              "<table border=\"1\" class=\"dataframe\">\n",
              "  <thead>\n",
              "    <tr style=\"text-align: right;\">\n",
              "      <th></th>\n",
              "      <th>id</th>\n",
              "    </tr>\n",
              "  </thead>\n",
              "  <tbody>\n",
              "    <tr>\n",
              "      <th>0</th>\n",
              "      <td>id_000644bb2</td>\n",
              "    </tr>\n",
              "    <tr>\n",
              "      <th>1</th>\n",
              "      <td>id_000779bfc</td>\n",
              "    </tr>\n",
              "    <tr>\n",
              "      <th>2</th>\n",
              "      <td>id_000a6266a</td>\n",
              "    </tr>\n",
              "    <tr>\n",
              "      <th>3</th>\n",
              "      <td>id_0015fd391</td>\n",
              "    </tr>\n",
              "    <tr>\n",
              "      <th>4</th>\n",
              "      <td>id_001626bd3</td>\n",
              "    </tr>\n",
              "  </tbody>\n",
              "</table>\n",
              "</div>"
            ],
            "text/plain": [
              "             id\n",
              "0  id_000644bb2\n",
              "1  id_000779bfc\n",
              "2  id_000a6266a\n",
              "3  id_0015fd391\n",
              "4  id_001626bd3"
            ]
          },
          "metadata": {
            "tags": []
          },
          "execution_count": 93
        }
      ]
    },
    {
      "cell_type": "code",
      "metadata": {
        "colab": {
          "base_uri": "https://localhost:8080/",
          "height": 244
        },
        "id": "lGFilOOm7xJp",
        "outputId": "284386f7-7100-4fdd-dd24-1e062c66a256"
      },
      "source": [
        "result = dados.append(dados_resultados)\n",
        "result.head()"
      ],
      "execution_count": 94,
      "outputs": [
        {
          "output_type": "execute_result",
          "data": {
            "text/html": [
              "<div>\n",
              "<style scoped>\n",
              "    .dataframe tbody tr th:only-of-type {\n",
              "        vertical-align: middle;\n",
              "    }\n",
              "\n",
              "    .dataframe tbody tr th {\n",
              "        vertical-align: top;\n",
              "    }\n",
              "\n",
              "    .dataframe thead th {\n",
              "        text-align: right;\n",
              "    }\n",
              "</style>\n",
              "<table border=\"1\" class=\"dataframe\">\n",
              "  <thead>\n",
              "    <tr style=\"text-align: right;\">\n",
              "      <th></th>\n",
              "      <th>id</th>\n",
              "      <th>tratamento</th>\n",
              "      <th>tempo</th>\n",
              "      <th>dose</th>\n",
              "      <th>droga</th>\n",
              "      <th>g-0</th>\n",
              "      <th>g-1</th>\n",
              "      <th>...</th>\n",
              "      <th>wnt_inhibitor</th>\n",
              "      <th>n_moa</th>\n",
              "      <th>ativo_moa</th>\n",
              "      <th>tempo_24</th>\n",
              "      <th>tempo_48</th>\n",
              "      <th>tempo_72</th>\n",
              "      <th>eh_controle</th>\n",
              "    </tr>\n",
              "  </thead>\n",
              "  <tbody>\n",
              "    <tr>\n",
              "      <th>0</th>\n",
              "      <td>id_000644bb2</td>\n",
              "      <td>com_droga</td>\n",
              "      <td>24.0</td>\n",
              "      <td>D1</td>\n",
              "      <td>b68db1d53</td>\n",
              "      <td>1.0620</td>\n",
              "      <td>0.5577</td>\n",
              "      <td>...</td>\n",
              "      <td>NaN</td>\n",
              "      <td>NaN</td>\n",
              "      <td>NaN</td>\n",
              "      <td>NaN</td>\n",
              "      <td>NaN</td>\n",
              "      <td>NaN</td>\n",
              "      <td>NaN</td>\n",
              "    </tr>\n",
              "    <tr>\n",
              "      <th>1</th>\n",
              "      <td>id_000779bfc</td>\n",
              "      <td>com_droga</td>\n",
              "      <td>72.0</td>\n",
              "      <td>D1</td>\n",
              "      <td>df89a8e5a</td>\n",
              "      <td>0.0743</td>\n",
              "      <td>0.4087</td>\n",
              "      <td>...</td>\n",
              "      <td>NaN</td>\n",
              "      <td>NaN</td>\n",
              "      <td>NaN</td>\n",
              "      <td>NaN</td>\n",
              "      <td>NaN</td>\n",
              "      <td>NaN</td>\n",
              "      <td>NaN</td>\n",
              "    </tr>\n",
              "    <tr>\n",
              "      <th>2</th>\n",
              "      <td>id_000a6266a</td>\n",
              "      <td>com_droga</td>\n",
              "      <td>48.0</td>\n",
              "      <td>D1</td>\n",
              "      <td>18bb41b2c</td>\n",
              "      <td>0.6280</td>\n",
              "      <td>0.5817</td>\n",
              "      <td>...</td>\n",
              "      <td>NaN</td>\n",
              "      <td>NaN</td>\n",
              "      <td>NaN</td>\n",
              "      <td>NaN</td>\n",
              "      <td>NaN</td>\n",
              "      <td>NaN</td>\n",
              "      <td>NaN</td>\n",
              "    </tr>\n",
              "    <tr>\n",
              "      <th>3</th>\n",
              "      <td>id_0015fd391</td>\n",
              "      <td>com_droga</td>\n",
              "      <td>48.0</td>\n",
              "      <td>D1</td>\n",
              "      <td>8c7f86626</td>\n",
              "      <td>-0.5138</td>\n",
              "      <td>-0.2491</td>\n",
              "      <td>...</td>\n",
              "      <td>NaN</td>\n",
              "      <td>NaN</td>\n",
              "      <td>NaN</td>\n",
              "      <td>NaN</td>\n",
              "      <td>NaN</td>\n",
              "      <td>NaN</td>\n",
              "      <td>NaN</td>\n",
              "    </tr>\n",
              "    <tr>\n",
              "      <th>4</th>\n",
              "      <td>id_001626bd3</td>\n",
              "      <td>com_droga</td>\n",
              "      <td>72.0</td>\n",
              "      <td>D2</td>\n",
              "      <td>7cbed3131</td>\n",
              "      <td>-0.3254</td>\n",
              "      <td>-0.4009</td>\n",
              "      <td>...</td>\n",
              "      <td>NaN</td>\n",
              "      <td>NaN</td>\n",
              "      <td>NaN</td>\n",
              "      <td>NaN</td>\n",
              "      <td>NaN</td>\n",
              "      <td>NaN</td>\n",
              "      <td>NaN</td>\n",
              "    </tr>\n",
              "  </tbody>\n",
              "</table>\n",
              "<p>5 rows × 1089 columns</p>\n",
              "</div>"
            ],
            "text/plain": [
              "             id tratamento  tempo dose      droga     g-0     g-1  ...  \\\n",
              "0  id_000644bb2  com_droga   24.0   D1  b68db1d53  1.0620  0.5577  ...   \n",
              "1  id_000779bfc  com_droga   72.0   D1  df89a8e5a  0.0743  0.4087  ...   \n",
              "2  id_000a6266a  com_droga   48.0   D1  18bb41b2c  0.6280  0.5817  ...   \n",
              "3  id_0015fd391  com_droga   48.0   D1  8c7f86626 -0.5138 -0.2491  ...   \n",
              "4  id_001626bd3  com_droga   72.0   D2  7cbed3131 -0.3254 -0.4009  ...   \n",
              "\n",
              "   wnt_inhibitor  n_moa  ativo_moa  tempo_24  tempo_48  tempo_72  eh_controle  \n",
              "0            NaN    NaN        NaN       NaN       NaN       NaN          NaN  \n",
              "1            NaN    NaN        NaN       NaN       NaN       NaN          NaN  \n",
              "2            NaN    NaN        NaN       NaN       NaN       NaN          NaN  \n",
              "3            NaN    NaN        NaN       NaN       NaN       NaN          NaN  \n",
              "4            NaN    NaN        NaN       NaN       NaN       NaN          NaN  \n",
              "\n",
              "[5 rows x 1089 columns]"
            ]
          },
          "metadata": {
            "tags": []
          },
          "execution_count": 94
        }
      ]
    },
    {
      "cell_type": "markdown",
      "metadata": {
        "id": "4lj8rf7itQMC"
      },
      "source": [
        "## Desafio 5"
      ]
    },
    {
      "cell_type": "markdown",
      "metadata": {
        "id": "_lxAg13zUD7l"
      },
      "source": [
        "**Fazer análise mais detalhada considerando tempo e dose, para comparar as distribuições (Escolher uma droga e comparar com controle)**"
      ]
    },
    {
      "cell_type": "code",
      "metadata": {
        "colab": {
          "base_uri": "https://localhost:8080/",
          "height": 518
        },
        "id": "6dgeW_gN8SD0",
        "outputId": "776976c3-04ec-40e0-bb4e-3793f2d39f6d"
      },
      "source": [
        "composto = dados_combinados[dados_combinados['droga']=='87d714366']\n",
        "controle = dados_combinados[dados_combinados['tratamento']=='com_controle']\n",
        "\n",
        "dados_concat = pd.concat([composto,controle])\n",
        "\n",
        "plt.figure(figsize=(12,8))\n",
        "plt.subplot(1,2,1)\n",
        "ax = sns.boxplot(data = dados_concat[dados_concat['dose'] == 'D1'], y= 'g-0', x='tempo', hue='droga')\n",
        "ax.set_title('Dose 1')\n",
        "plt.subplot(1,2,2)\n",
        "ax = sns.boxplot(data = dados_concat[dados_concat['dose'] == 'D2'], y= 'g-0', x='tempo', hue='droga')\n",
        "ax.set_title('Dose 2')\n",
        "plt.show()"
      ],
      "execution_count": 144,
      "outputs": [
        {
          "output_type": "display_data",
          "data": {
            "image/png": "[encoded data removed]",
            "text/plain": [
              "<Figure size 864x576 with 2 Axes>"
            ]
          },
          "metadata": {
            "tags": []
          }
        }
      ]
    },
    {
      "cell_type": "code",
      "metadata": {
        "colab": {
          "base_uri": "https://localhost:8080/",
          "height": 1000
        },
        "id": "HO5BzVXH_hoj",
        "outputId": "7c08669b-b5b3-4adb-cf9e-2daa628a4c0e"
      },
      "source": [
        "plt.figure(figsize=(12,8))\n",
        "ax = sns.histplot(data=dados_concat,x='g-0',hue='droga')\n",
        "ax.set_title('Histplot count')\n",
        "ax.set_ylabel(\"Valores\")\n",
        "ax.set_xlabel('g-0')\n",
        "plt.plot()\n",
        "\n",
        "plt.figure(figsize=(12,8))\n",
        "ax = sns.histplot(data=dados_concat,x='g-0',hue='droga', common_norm=False,stat='density')\n",
        "ax.set_title('Histplot density')\n",
        "ax.set_ylabel(\"density\")\n",
        "ax.set_xlabel('g-0')\n",
        "plt.plot()"
      ],
      "execution_count": 145,
      "outputs": [
        {
          "output_type": "execute_result",
          "data": {
            "text/plain": [
              "[]"
            ]
          },
          "metadata": {
            "tags": []
          },
          "execution_count": 145
        },
        {
          "output_type": "display_data",
          "data": {
            "image/png": "[encoded data removed]",
            "text/plain": [
              "<Figure size 864x576 with 1 Axes>"
            ]
          },
          "metadata": {
            "tags": []
          }
        },
        {
          "output_type": "display_data",
          "data": {
            "image/png": "[encoded data removed]",
            "text/plain": [
              "<Figure size 864x576 with 1 Axes>"
            ]
          },
          "metadata": {
            "tags": []
          }
        }
      ]
    },
    {
      "cell_type": "markdown",
      "metadata": {
        "id": "NUvXihTBtQqH"
      },
      "source": [
        "## Desafio 6"
      ]
    },
    {
      "cell_type": "markdown",
      "metadata": {
        "id": "a_TGGHAMUGJM"
      },
      "source": [
        "**Descobrir se tem algum composto que dependendo da configuração do experimento, ativa ou não ativa algum MOA**"
      ]
    },
    {
      "cell_type": "code",
      "metadata": {
        "id": "Kkfo7H5yDGze"
      },
      "source": [
        " dados_n_combinados = pd.merge(dados[['id','droga']], dados_resultados.drop(['ativo_moa', 'tempo_24', 'tempo_48',\n",
        "       'tempo_72','eh_controle'],axis=1), on='id')\n",
        " dados_n_combinados.head()\n",
        "\n",
        "drogas = dados_n_combinados['droga'].unique()\n",
        "for d in drogas:\n",
        "  dados_droga = dados_n_combinados.query(f'droga == \"{d}\"')\n",
        "  n_valores = dados_droga['n_moa'].value_counts().index[0]\n",
        "\n",
        "  acoes = dados_droga.drop(['n_moa'],axis=1).columns[dados_droga.drop(['n_moa'],axis=1).isin([1]).any()].values\n",
        "  n_acoes = len(acoes)\n",
        "\n",
        "  if (n_valores != n_acoes):\n",
        "    print(f\"A droga {d} mudou de ativos\")\n",
        "    print(f'n_moa {n_valores}, n_acao {n_acoes}, acoes {acoes}')\n",
        "\n",
        "# Contamos todas as colunas moa que foram ativadas, \n",
        "#e comparamos com o valor moa encontrado, se for igual, significa que somente essas moas foram ativads."
      ],
      "execution_count": 202,
      "outputs": []
    },
    {
      "cell_type": "markdown",
      "metadata": {
        "id": "Z8mBX1zvtR4d"
      },
      "source": [
        "## Desafio 7"
      ]
    },
    {
      "cell_type": "markdown",
      "metadata": {
        "id": "oJ_nrGYFUHz-"
      },
      "source": [
        "**Descobrir se tem algum composto que dependendo da configuração do experimento, ativa MOAs diferentes**"
      ]
    },
    {
      "cell_type": "code",
      "metadata": {
        "id": "G9-fZb3jKu3A"
      },
      "source": [
        " dados_n_combinados = pd.merge(dados[['id','droga']], dados_resultados.drop(['ativo_moa', 'tempo_24', 'tempo_48',\n",
        "       'tempo_72','eh_controle'],axis=1), on='id')\n",
        " dados_n_combinados.head()\n",
        "\n",
        "drogas = dados_n_combinados['droga'].unique()\n",
        "for d in drogas:\n",
        "  dados_droga = dados_n_combinados.query(f'droga == \"{d}\"')\n",
        "  n_valores = dados_droga['n_moa'].value_counts().index[0]\n",
        "\n",
        "  acoes = dados_droga.drop(['n_moa'],axis=1).columns[dados_droga.drop(['n_moa'],axis=1).isin([1]).any()].values\n",
        "  n_acoes = len(acoes)\n",
        "\n",
        "  if (n_valores != n_acoes):\n",
        "    print(f\"A droga {d} mudou de ativos\")\n",
        "    print(f'n_moa {n_valores}, n_acao {n_acoes}, acoes {acoes}')\n",
        "\n",
        "# Contamos todas as colunas moa que foram ativadas, \n",
        "#e comparamos com o valor moa encontrado, se for igual, significa que somente essas moas foram ativads."
      ],
      "execution_count": null,
      "outputs": []
    },
    {
      "cell_type": "markdown",
      "metadata": {
        "id": "Me9ppbKeuWVR"
      },
      "source": [
        "## Desafio 8"
      ]
    },
    {
      "cell_type": "markdown",
      "metadata": {
        "id": "JEN1_mFduY2l"
      },
      "source": [
        "**Resumo do que você aprendeu com os dados**"
      ]
    },
    {
      "cell_type": "markdown",
      "metadata": {
        "id": "Re4M3IxbK1HX"
      },
      "source": [
        "- Aprendemos a fazer merge de datasets diferentes mas que tem uma coluna em comum (coluna id)\n",
        "- Possivelmente, o MOA é característico do composto visto que independentemente de uma dose ou o tempo, o composto ativa o mesmos MOA's. Mesmo tendo diferentes g e c."
      ]
    }
  ]
}