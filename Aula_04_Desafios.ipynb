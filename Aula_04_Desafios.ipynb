{
  "nbformat": 4,
  "nbformat_minor": 0,
  "metadata": {
    "colab": {
      "name": "Aula 04 Desafios.ipynb",
      "provenance": [],
      "collapsed_sections": [
        "RkSNP-D0svsZ",
        "dLQUCLSjtLiw",
        "C7w6o0VLtNni",
        "dXBBjvEatPPq",
        "nBNEpsXRtPvA",
        "4lj8rf7itQMC",
        "NUvXihTBtQqH",
        "Z8mBX1zvtR4d"
      ],
      "toc_visible": true,
      "include_colab_link": true
    },
    "kernelspec": {
      "name": "python3",
      "display_name": "Python 3"
    },
    "language_info": {
      "name": "python"
    }
  },
  "cells": [
    {
      "cell_type": "markdown",
      "metadata": {
        "id": "view-in-github",
        "colab_type": "text"
      },
      "source": [
        "<a href=\"https://colab.research.google.com/github/LincolnVS/ImersaoDadosAlura/blob/main/Aula_04_Desafios.ipynb\" target=\"_parent\"><img src=\"https://colab.research.google.com/assets/colab-badge.svg\" alt=\"Open In Colab\"/></a>"
      ]
    },
    {
      "cell_type": "markdown",
      "metadata": {
        "id": "EwJUALlIsl1h"
      },
      "source": [
        "O notebook da Aula 4 foi separado em duas etapas:\n",
        "- [Explicações e Aula Alura](https://github.com/LincolnVS/ImersaoDadosAlura/blob/main/Aula_04.ipynb)\n",
        "- [Desafios e Playground](https://github.com/LincolnVS/ImersaoDadosAlura/blob/main/Aula_04_Desafios.ipynb)\n",
        "\n",
        "*Obs:* Esse é o notebook de **Desafios e Playground**"
      ]
    },
    {
      "cell_type": "markdown",
      "metadata": {
        "id": "sHzw1Vbg0mvQ"
      },
      "source": [
        "### Importando dados"
      ]
    },
    {
      "cell_type": "code",
      "metadata": {
        "id": "OE3iBkaw0gsT"
      },
      "source": [
        "import pandas as pd\n",
        "pd.set_option('display.max_columns', 15) #mostra apenas 15 colunas quando manda plotar tudo (esse dataset tem mais de 800)\n",
        "import matplotlib.pyplot as plt\n",
        "import numpy as np\n",
        "import seaborn as sns\n",
        "plt.style.use(style='seaborn-darkgrid')#('fivethirtyeight')\n",
        "sns.set()\n",
        "\n",
        "url_dados = 'https://github.com/LincolnVS/ImersaoDadosAlura/blob/main/dados/dados_experimentos.zip?raw=true'\n",
        "\n",
        "dados = pd.read_csv(url_dados, compression = 'zip')"
      ],
      "execution_count": null,
      "outputs": []
    },
    {
      "cell_type": "code",
      "metadata": {
        "colab": {
          "base_uri": "https://localhost:8080/",
          "height": 233
        },
        "id": "0HuOTDYq1CvT",
        "outputId": "8378f7e6-b277-4f8c-bcc2-9dbc8a0be532"
      },
      "source": [
        "dados.head()"
      ],
      "execution_count": null,
      "outputs": [
        {
          "output_type": "execute_result",
          "data": {
            "text/html": [
              "<div>\n",
              "<style scoped>\n",
              "    .dataframe tbody tr th:only-of-type {\n",
              "        vertical-align: middle;\n",
              "    }\n",
              "\n",
              "    .dataframe tbody tr th {\n",
              "        vertical-align: top;\n",
              "    }\n",
              "\n",
              "    .dataframe thead th {\n",
              "        text-align: right;\n",
              "    }\n",
              "</style>\n",
              "<table border=\"1\" class=\"dataframe\">\n",
              "  <thead>\n",
              "    <tr style=\"text-align: right;\">\n",
              "      <th></th>\n",
              "      <th>id</th>\n",
              "      <th>tratamento</th>\n",
              "      <th>tempo</th>\n",
              "      <th>dose</th>\n",
              "      <th>droga</th>\n",
              "      <th>g-0</th>\n",
              "      <th>g-1</th>\n",
              "      <th>...</th>\n",
              "      <th>c-93</th>\n",
              "      <th>c-94</th>\n",
              "      <th>c-95</th>\n",
              "      <th>c-96</th>\n",
              "      <th>c-97</th>\n",
              "      <th>c-98</th>\n",
              "      <th>c-99</th>\n",
              "    </tr>\n",
              "  </thead>\n",
              "  <tbody>\n",
              "    <tr>\n",
              "      <th>0</th>\n",
              "      <td>id_000644bb2</td>\n",
              "      <td>com_droga</td>\n",
              "      <td>24</td>\n",
              "      <td>D1</td>\n",
              "      <td>b68db1d53</td>\n",
              "      <td>1.0620</td>\n",
              "      <td>0.5577</td>\n",
              "      <td>...</td>\n",
              "      <td>0.5523</td>\n",
              "      <td>-0.1912</td>\n",
              "      <td>0.6584</td>\n",
              "      <td>-0.3981</td>\n",
              "      <td>0.2139</td>\n",
              "      <td>0.3801</td>\n",
              "      <td>0.4176</td>\n",
              "    </tr>\n",
              "    <tr>\n",
              "      <th>1</th>\n",
              "      <td>id_000779bfc</td>\n",
              "      <td>com_droga</td>\n",
              "      <td>72</td>\n",
              "      <td>D1</td>\n",
              "      <td>df89a8e5a</td>\n",
              "      <td>0.0743</td>\n",
              "      <td>0.4087</td>\n",
              "      <td>...</td>\n",
              "      <td>0.0230</td>\n",
              "      <td>0.2957</td>\n",
              "      <td>0.4899</td>\n",
              "      <td>0.1522</td>\n",
              "      <td>0.1241</td>\n",
              "      <td>0.6077</td>\n",
              "      <td>0.7371</td>\n",
              "    </tr>\n",
              "    <tr>\n",
              "      <th>2</th>\n",
              "      <td>id_000a6266a</td>\n",
              "      <td>com_droga</td>\n",
              "      <td>48</td>\n",
              "      <td>D1</td>\n",
              "      <td>18bb41b2c</td>\n",
              "      <td>0.6280</td>\n",
              "      <td>0.5817</td>\n",
              "      <td>...</td>\n",
              "      <td>0.0223</td>\n",
              "      <td>-1.3240</td>\n",
              "      <td>-0.3174</td>\n",
              "      <td>-0.6417</td>\n",
              "      <td>-0.2187</td>\n",
              "      <td>-1.4080</td>\n",
              "      <td>0.6931</td>\n",
              "    </tr>\n",
              "    <tr>\n",
              "      <th>3</th>\n",
              "      <td>id_0015fd391</td>\n",
              "      <td>com_droga</td>\n",
              "      <td>48</td>\n",
              "      <td>D1</td>\n",
              "      <td>8c7f86626</td>\n",
              "      <td>-0.5138</td>\n",
              "      <td>-0.2491</td>\n",
              "      <td>...</td>\n",
              "      <td>-1.3780</td>\n",
              "      <td>-0.8632</td>\n",
              "      <td>-1.2880</td>\n",
              "      <td>-1.6210</td>\n",
              "      <td>-0.8784</td>\n",
              "      <td>-0.3876</td>\n",
              "      <td>-0.8154</td>\n",
              "    </tr>\n",
              "    <tr>\n",
              "      <th>4</th>\n",
              "      <td>id_001626bd3</td>\n",
              "      <td>com_droga</td>\n",
              "      <td>72</td>\n",
              "      <td>D2</td>\n",
              "      <td>7cbed3131</td>\n",
              "      <td>-0.3254</td>\n",
              "      <td>-0.4009</td>\n",
              "      <td>...</td>\n",
              "      <td>1.0690</td>\n",
              "      <td>0.5523</td>\n",
              "      <td>-0.3031</td>\n",
              "      <td>0.1094</td>\n",
              "      <td>0.2885</td>\n",
              "      <td>-0.3786</td>\n",
              "      <td>0.7125</td>\n",
              "    </tr>\n",
              "  </tbody>\n",
              "</table>\n",
              "<p>5 rows × 877 columns</p>\n",
              "</div>"
            ],
            "text/plain": [
              "             id tratamento  tempo dose      droga     g-0     g-1  ...  \\\n",
              "0  id_000644bb2  com_droga     24   D1  b68db1d53  1.0620  0.5577  ...   \n",
              "1  id_000779bfc  com_droga     72   D1  df89a8e5a  0.0743  0.4087  ...   \n",
              "2  id_000a6266a  com_droga     48   D1  18bb41b2c  0.6280  0.5817  ...   \n",
              "3  id_0015fd391  com_droga     48   D1  8c7f86626 -0.5138 -0.2491  ...   \n",
              "4  id_001626bd3  com_droga     72   D2  7cbed3131 -0.3254 -0.4009  ...   \n",
              "\n",
              "     c-93    c-94    c-95    c-96    c-97    c-98    c-99  \n",
              "0  0.5523 -0.1912  0.6584 -0.3981  0.2139  0.3801  0.4176  \n",
              "1  0.0230  0.2957  0.4899  0.1522  0.1241  0.6077  0.7371  \n",
              "2  0.0223 -1.3240 -0.3174 -0.6417 -0.2187 -1.4080  0.6931  \n",
              "3 -1.3780 -0.8632 -1.2880 -1.6210 -0.8784 -0.3876 -0.8154  \n",
              "4  1.0690  0.5523 -0.3031  0.1094  0.2885 -0.3786  0.7125  \n",
              "\n",
              "[5 rows x 877 columns]"
            ]
          },
          "metadata": {
            "tags": []
          },
          "execution_count": 108
        }
      ]
    },
    {
      "cell_type": "markdown",
      "metadata": {
        "id": "RkSNP-D0svsZ"
      },
      "source": [
        "# Desafios "
      ]
    },
    {
      "cell_type": "markdown",
      "metadata": {
        "id": "X_Lg2XTu20ND"
      },
      "source": [
        "- *Desafio 01*: Encontrar o top 10, das ações do MOA (inibidor, agonista...)\n",
        "- *Desafio 02*: Criar a coluna eh_controle para quando na linha tratamento == com_controle\n",
        "- *Desafio 03*: Criar três colunas para indicar o tempo 24, 48, 72\n",
        "- *Desafio 04*: Estudar sobre combinações de DF https://pandas.pydata.org/pandas-docs/stable/user_guide/merging.html\n",
        "- *Desafio 05*: Fazer análise mais detalhada considerando tempo e dose, para comparar as distribuições (Escolher uma droga e comparar com controle)\n",
        "- *Desafio 06*: Descobrir se tem algum composto que dependendo da configuração do experimento, ativa ou não ativa algum MOA \n",
        "- *Desafio 07*: Descobrir se tem algum composto que dependendo da configuração do experimento, ativa MOAs diferentes\n",
        "- *Desafio 08*: Resumo do que você aprendeu com os dados"
      ]
    },
    {
      "cell_type": "markdown",
      "metadata": {
        "id": "dLQUCLSjtLiw"
      },
      "source": [
        "## Desafio 1"
      ]
    },
    {
      "cell_type": "markdown",
      "metadata": {
        "id": "aZtIo1Kmz0RR"
      },
      "source": [
        "**Encontrar o top 10, das ações do MOA (inibidor, agonista...)**"
      ]
    },
    {
      "cell_type": "markdown",
      "metadata": {
        "id": "C7w6o0VLtNni"
      },
      "source": [
        "## Desafio 2"
      ]
    },
    {
      "cell_type": "markdown",
      "metadata": {
        "id": "HDuom1beTgzm"
      },
      "source": [
        "**Criar a coluna eh_controle para quando na linha tratamento == com_controle**"
      ]
    },
    {
      "cell_type": "markdown",
      "metadata": {
        "id": "dXBBjvEatPPq"
      },
      "source": [
        "## Desafio 3"
      ]
    },
    {
      "cell_type": "markdown",
      "metadata": {
        "id": "BS569U2mT_tJ"
      },
      "source": [
        "**Criar três colunas para indicar o tempo 24, 48, 72**"
      ]
    },
    {
      "cell_type": "markdown",
      "metadata": {
        "id": "nBNEpsXRtPvA"
      },
      "source": [
        "## Desafio 4"
      ]
    },
    {
      "cell_type": "markdown",
      "metadata": {
        "id": "WPuVCmx4UB0R"
      },
      "source": [
        "**Estudar sobre combinações de DF https://pandas.pydata.org/pandas-docs/stable/user_guide/merging.html**"
      ]
    },
    {
      "cell_type": "markdown",
      "metadata": {
        "id": "4lj8rf7itQMC"
      },
      "source": [
        "## Desafio 5"
      ]
    },
    {
      "cell_type": "markdown",
      "metadata": {
        "id": "_lxAg13zUD7l"
      },
      "source": [
        "**Fazer análise mais detalhada considerando tempo e dose, para comparar as distribuições (Escolher uma droga e comparar com controle)**"
      ]
    },
    {
      "cell_type": "markdown",
      "metadata": {
        "id": "NUvXihTBtQqH"
      },
      "source": [
        "## Desafio 6"
      ]
    },
    {
      "cell_type": "markdown",
      "metadata": {
        "id": "a_TGGHAMUGJM"
      },
      "source": [
        "**Descobrir se tem algum composto que dependendo da configuração do experimento, ativa ou não ativa algum MOA**"
      ]
    },
    {
      "cell_type": "markdown",
      "metadata": {
        "id": "Z8mBX1zvtR4d"
      },
      "source": [
        "## Desafio 7"
      ]
    },
    {
      "cell_type": "markdown",
      "metadata": {
        "id": "oJ_nrGYFUHz-"
      },
      "source": [
        "**Descobrir se tem algum composto que dependendo da configuração do experimento, ativa MOAs diferentes**"
      ]
    },
    {
      "cell_type": "markdown",
      "metadata": {
        "id": "Me9ppbKeuWVR"
      },
      "source": [
        "## Desafio 8"
      ]
    },
    {
      "cell_type": "markdown",
      "metadata": {
        "id": "JEN1_mFduY2l"
      },
      "source": [
        "**Resumo do que você aprendeu com os dados**"
      ]
    }
  ]
}